{
  "nbformat": 4,
  "nbformat_minor": 0,
  "metadata": {
    "colab": {
      "name": "Projet ML PR.ipynb",
      "provenance": [],
      "collapsed_sections": [],
      "toc_visible": true
    },
    "kernelspec": {
      "name": "python3",
      "display_name": "Python 3"
    }
  },
  "cells": [
    {
      "cell_type": "markdown",
      "metadata": {
        "id": "U5PmAqXFPSFU",
        "colab_type": "text"
      },
      "source": [
        "# **Projets ML PR**"
      ]
    },
    {
      "cell_type": "markdown",
      "metadata": {
        "id": "63gutO4g3w2b",
        "colab_type": "text"
      },
      "source": [
        "# Nouvelle section"
      ]
    },
    {
      "cell_type": "markdown",
      "metadata": {
        "id": "NdS7BM2TPgnV",
        "colab_type": "text"
      },
      "source": [
        "**L’objectif** de ce travail est de mettre en œuvre les acquis d’apprentissage initiés\n",
        "dans le cours ML &amp; PR.\n",
        "Le travail demandé est de réaliser un projet d’apprentissage automatique basé sur\n",
        "le dataset de votre choix et une approche d’apprentissage de votre choix.\n",
        "Le travail globalement devrait comporter les points suivants :\n",
        "1. Description de l’objectif de l’apprentissage et de la problématique traitée.\n",
        "2. Description du Datasets\n",
        "3. Présentation de l’approche d’apprentissage adoptée et justification du choix\n",
        "4. Evaluation des performances de l’apprentissage\n",
        "5. Analyse des résultats\n",
        "6. Conclusion"
      ]
    },
    {
      "cell_type": "markdown",
      "metadata": {
        "id": "phfWkdXW-7S4",
        "colab_type": "text"
      },
      "source": [
        "Importation des librairies"
      ]
    },
    {
      "cell_type": "code",
      "metadata": {
        "id": "lH5T65snPqAm",
        "colab_type": "code",
        "colab": {}
      },
      "source": [
        "import numpy as np \n",
        "import pandas as pd \n",
        "pd.plotting.register_matplotlib_converters()\n",
        "import matplotlib.pyplot as plt\n",
        "#%matplotlib inline\n",
        "import seaborn as sns\n",
        "import datetime as dt"
      ],
      "execution_count": 150,
      "outputs": []
    },
    {
      "cell_type": "markdown",
      "metadata": {
        "id": "O2nAdlDaWIuZ",
        "colab_type": "text"
      },
      "source": [
        "Importation du dataset\n"
      ]
    },
    {
      "cell_type": "code",
      "metadata": {
        "id": "m00aMR2P_Wzv",
        "colab_type": "code",
        "colab": {}
      },
      "source": [
        "my_filepath = '/content/corona_morocco - corona_morocco.csv'\n",
        "my_data = pd.read_csv(my_filepath)"
      ],
      "execution_count": 151,
      "outputs": []
    },
    {
      "cell_type": "code",
      "metadata": {
        "id": "LqDwdEeUH6Kx",
        "colab_type": "code",
        "colab": {}
      },
      "source": [
        "my_data['Date']=[dt.datetime.strptime(x,'%d/%m/%Y') for x in my_data['Date'] ]"
      ],
      "execution_count": 152,
      "outputs": []
    },
    {
      "cell_type": "markdown",
      "metadata": {
        "id": "Et2ueA-GWdOc",
        "colab_type": "text"
      },
      "source": [
        "Affichage des données"
      ]
    },
    {
      "cell_type": "code",
      "metadata": {
        "id": "KXcvdQ5JaXYZ",
        "colab_type": "code",
        "colab": {
          "base_uri": "https://localhost:8080/",
          "height": 360
        },
        "outputId": "74d357cd-a23b-4ae6-e288-e2e9db47649a"
      },
      "source": [
        "my_data.head()\n"
      ],
      "execution_count": 153,
      "outputs": [
        {
          "output_type": "execute_result",
          "data": {
            "text/html": [
              "<div>\n",
              "<style scoped>\n",
              "    .dataframe tbody tr th:only-of-type {\n",
              "        vertical-align: middle;\n",
              "    }\n",
              "\n",
              "    .dataframe tbody tr th {\n",
              "        vertical-align: top;\n",
              "    }\n",
              "\n",
              "    .dataframe thead th {\n",
              "        text-align: right;\n",
              "    }\n",
              "</style>\n",
              "<table border=\"1\" class=\"dataframe\">\n",
              "  <thead>\n",
              "    <tr style=\"text-align: right;\">\n",
              "      <th></th>\n",
              "      <th>Date</th>\n",
              "      <th>Confirmed</th>\n",
              "      <th>Deaths</th>\n",
              "      <th>Recovered</th>\n",
              "      <th>Excluded</th>\n",
              "      <th>Beni Mellal-Khenifra</th>\n",
              "      <th>Casablanca-Settat</th>\n",
              "      <th>Draa-Tafilalet</th>\n",
              "      <th>Dakhla-Oued Ed-Dahab</th>\n",
              "      <th>Fes-Meknes</th>\n",
              "      <th>Guelmim-Oued Noun</th>\n",
              "      <th>Laayoune-Sakia El Hamra</th>\n",
              "      <th>Marrakesh-Safi</th>\n",
              "      <th>Oriental</th>\n",
              "      <th>Rabat-Sale-Kenitra</th>\n",
              "      <th>Souss-Massa</th>\n",
              "      <th>Tanger-Tetouan-Al Hoceima</th>\n",
              "    </tr>\n",
              "  </thead>\n",
              "  <tbody>\n",
              "    <tr>\n",
              "      <th>0</th>\n",
              "      <td>2020-03-20</td>\n",
              "      <td>86</td>\n",
              "      <td>0</td>\n",
              "      <td>0</td>\n",
              "      <td>374</td>\n",
              "      <td>2</td>\n",
              "      <td>16</td>\n",
              "      <td>0</td>\n",
              "      <td>0</td>\n",
              "      <td>13</td>\n",
              "      <td>1</td>\n",
              "      <td>0</td>\n",
              "      <td>7</td>\n",
              "      <td>1</td>\n",
              "      <td>16</td>\n",
              "      <td>6</td>\n",
              "      <td>4</td>\n",
              "    </tr>\n",
              "    <tr>\n",
              "      <th>1</th>\n",
              "      <td>2020-03-21</td>\n",
              "      <td>96</td>\n",
              "      <td>0</td>\n",
              "      <td>0</td>\n",
              "      <td>385</td>\n",
              "      <td>2</td>\n",
              "      <td>22</td>\n",
              "      <td>1</td>\n",
              "      <td>0</td>\n",
              "      <td>21</td>\n",
              "      <td>1</td>\n",
              "      <td>0</td>\n",
              "      <td>10</td>\n",
              "      <td>4</td>\n",
              "      <td>22</td>\n",
              "      <td>6</td>\n",
              "      <td>7</td>\n",
              "    </tr>\n",
              "    <tr>\n",
              "      <th>2</th>\n",
              "      <td>2020-03-22</td>\n",
              "      <td>109</td>\n",
              "      <td>4</td>\n",
              "      <td>3</td>\n",
              "      <td>498</td>\n",
              "      <td>3</td>\n",
              "      <td>26</td>\n",
              "      <td>1</td>\n",
              "      <td>0</td>\n",
              "      <td>24</td>\n",
              "      <td>1</td>\n",
              "      <td>0</td>\n",
              "      <td>13</td>\n",
              "      <td>5</td>\n",
              "      <td>29</td>\n",
              "      <td>6</td>\n",
              "      <td>7</td>\n",
              "    </tr>\n",
              "    <tr>\n",
              "      <th>3</th>\n",
              "      <td>2020-03-23</td>\n",
              "      <td>143</td>\n",
              "      <td>4</td>\n",
              "      <td>5</td>\n",
              "      <td>643</td>\n",
              "      <td>3</td>\n",
              "      <td>34</td>\n",
              "      <td>1</td>\n",
              "      <td>0</td>\n",
              "      <td>35</td>\n",
              "      <td>1</td>\n",
              "      <td>0</td>\n",
              "      <td>15</td>\n",
              "      <td>7</td>\n",
              "      <td>32</td>\n",
              "      <td>6</td>\n",
              "      <td>9</td>\n",
              "    </tr>\n",
              "    <tr>\n",
              "      <th>4</th>\n",
              "      <td>2020-03-24</td>\n",
              "      <td>170</td>\n",
              "      <td>5</td>\n",
              "      <td>6</td>\n",
              "      <td>685</td>\n",
              "      <td>4</td>\n",
              "      <td>42</td>\n",
              "      <td>1</td>\n",
              "      <td>0</td>\n",
              "      <td>36</td>\n",
              "      <td>1</td>\n",
              "      <td>0</td>\n",
              "      <td>22</td>\n",
              "      <td>7</td>\n",
              "      <td>40</td>\n",
              "      <td>6</td>\n",
              "      <td>11</td>\n",
              "    </tr>\n",
              "  </tbody>\n",
              "</table>\n",
              "</div>"
            ],
            "text/plain": [
              "        Date  Confirmed  ...  Souss-Massa  Tanger-Tetouan-Al Hoceima\n",
              "0 2020-03-20         86  ...            6                          4\n",
              "1 2020-03-21         96  ...            6                          7\n",
              "2 2020-03-22        109  ...            6                          7\n",
              "3 2020-03-23        143  ...            6                          9\n",
              "4 2020-03-24        170  ...            6                         11\n",
              "\n",
              "[5 rows x 17 columns]"
            ]
          },
          "metadata": {
            "tags": []
          },
          "execution_count": 153
        }
      ]
    },
    {
      "cell_type": "code",
      "metadata": {
        "id": "20dnPrCqbNNG",
        "colab_type": "code",
        "colab": {
          "base_uri": "https://localhost:8080/",
          "height": 341
        },
        "outputId": "05993657-223b-4bee-99f9-f5bea74484f3"
      },
      "source": [
        "my_data.dtypes\n"
      ],
      "execution_count": 154,
      "outputs": [
        {
          "output_type": "execute_result",
          "data": {
            "text/plain": [
              "Date                         datetime64[ns]\n",
              "Confirmed                             int64\n",
              "Deaths                                int64\n",
              "Recovered                             int64\n",
              "Excluded                              int64\n",
              "Beni Mellal-Khenifra                  int64\n",
              "Casablanca-Settat                     int64\n",
              "Draa-Tafilalet                        int64\n",
              "Dakhla-Oued Ed-Dahab                  int64\n",
              "Fes-Meknes                            int64\n",
              "Guelmim-Oued Noun                     int64\n",
              "Laayoune-Sakia El Hamra               int64\n",
              "Marrakesh-Safi                        int64\n",
              "Oriental                              int64\n",
              "Rabat-Sale-Kenitra                    int64\n",
              "Souss-Massa                           int64\n",
              "Tanger-Tetouan-Al Hoceima             int64\n",
              "dtype: object"
            ]
          },
          "metadata": {
            "tags": []
          },
          "execution_count": 154
        }
      ]
    },
    {
      "cell_type": "code",
      "metadata": {
        "id": "UNF3C84h5cS3",
        "colab_type": "code",
        "colab": {}
      },
      "source": [
        "actif_column= my_data['Confirmed'] - my_data['Recovered'] - my_data['Deaths']\n",
        "total_test_perDay = my_data['Confirmed'] + my_data['Excluded']\n",
        "my_data['Actif'] = actif_column\n",
        "my_data['Total Test'] = total_test_perDay"
      ],
      "execution_count": 155,
      "outputs": []
    },
    {
      "cell_type": "code",
      "metadata": {
        "id": "OFaHWI7Lb4C1",
        "colab_type": "code",
        "colab": {
          "base_uri": "https://localhost:8080/",
          "height": 360
        },
        "outputId": "ea99dbca-492a-49b3-ebac-ea32e0a0a35d"
      },
      "source": [
        "my_data.head()"
      ],
      "execution_count": 156,
      "outputs": [
        {
          "output_type": "execute_result",
          "data": {
            "text/html": [
              "<div>\n",
              "<style scoped>\n",
              "    .dataframe tbody tr th:only-of-type {\n",
              "        vertical-align: middle;\n",
              "    }\n",
              "\n",
              "    .dataframe tbody tr th {\n",
              "        vertical-align: top;\n",
              "    }\n",
              "\n",
              "    .dataframe thead th {\n",
              "        text-align: right;\n",
              "    }\n",
              "</style>\n",
              "<table border=\"1\" class=\"dataframe\">\n",
              "  <thead>\n",
              "    <tr style=\"text-align: right;\">\n",
              "      <th></th>\n",
              "      <th>Date</th>\n",
              "      <th>Confirmed</th>\n",
              "      <th>Deaths</th>\n",
              "      <th>Recovered</th>\n",
              "      <th>Excluded</th>\n",
              "      <th>Beni Mellal-Khenifra</th>\n",
              "      <th>Casablanca-Settat</th>\n",
              "      <th>Draa-Tafilalet</th>\n",
              "      <th>Dakhla-Oued Ed-Dahab</th>\n",
              "      <th>Fes-Meknes</th>\n",
              "      <th>Guelmim-Oued Noun</th>\n",
              "      <th>Laayoune-Sakia El Hamra</th>\n",
              "      <th>Marrakesh-Safi</th>\n",
              "      <th>Oriental</th>\n",
              "      <th>Rabat-Sale-Kenitra</th>\n",
              "      <th>Souss-Massa</th>\n",
              "      <th>Tanger-Tetouan-Al Hoceima</th>\n",
              "      <th>Actif</th>\n",
              "      <th>Total Test</th>\n",
              "    </tr>\n",
              "  </thead>\n",
              "  <tbody>\n",
              "    <tr>\n",
              "      <th>0</th>\n",
              "      <td>2020-03-20</td>\n",
              "      <td>86</td>\n",
              "      <td>0</td>\n",
              "      <td>0</td>\n",
              "      <td>374</td>\n",
              "      <td>2</td>\n",
              "      <td>16</td>\n",
              "      <td>0</td>\n",
              "      <td>0</td>\n",
              "      <td>13</td>\n",
              "      <td>1</td>\n",
              "      <td>0</td>\n",
              "      <td>7</td>\n",
              "      <td>1</td>\n",
              "      <td>16</td>\n",
              "      <td>6</td>\n",
              "      <td>4</td>\n",
              "      <td>86</td>\n",
              "      <td>460</td>\n",
              "    </tr>\n",
              "    <tr>\n",
              "      <th>1</th>\n",
              "      <td>2020-03-21</td>\n",
              "      <td>96</td>\n",
              "      <td>0</td>\n",
              "      <td>0</td>\n",
              "      <td>385</td>\n",
              "      <td>2</td>\n",
              "      <td>22</td>\n",
              "      <td>1</td>\n",
              "      <td>0</td>\n",
              "      <td>21</td>\n",
              "      <td>1</td>\n",
              "      <td>0</td>\n",
              "      <td>10</td>\n",
              "      <td>4</td>\n",
              "      <td>22</td>\n",
              "      <td>6</td>\n",
              "      <td>7</td>\n",
              "      <td>96</td>\n",
              "      <td>481</td>\n",
              "    </tr>\n",
              "    <tr>\n",
              "      <th>2</th>\n",
              "      <td>2020-03-22</td>\n",
              "      <td>109</td>\n",
              "      <td>4</td>\n",
              "      <td>3</td>\n",
              "      <td>498</td>\n",
              "      <td>3</td>\n",
              "      <td>26</td>\n",
              "      <td>1</td>\n",
              "      <td>0</td>\n",
              "      <td>24</td>\n",
              "      <td>1</td>\n",
              "      <td>0</td>\n",
              "      <td>13</td>\n",
              "      <td>5</td>\n",
              "      <td>29</td>\n",
              "      <td>6</td>\n",
              "      <td>7</td>\n",
              "      <td>102</td>\n",
              "      <td>607</td>\n",
              "    </tr>\n",
              "    <tr>\n",
              "      <th>3</th>\n",
              "      <td>2020-03-23</td>\n",
              "      <td>143</td>\n",
              "      <td>4</td>\n",
              "      <td>5</td>\n",
              "      <td>643</td>\n",
              "      <td>3</td>\n",
              "      <td>34</td>\n",
              "      <td>1</td>\n",
              "      <td>0</td>\n",
              "      <td>35</td>\n",
              "      <td>1</td>\n",
              "      <td>0</td>\n",
              "      <td>15</td>\n",
              "      <td>7</td>\n",
              "      <td>32</td>\n",
              "      <td>6</td>\n",
              "      <td>9</td>\n",
              "      <td>134</td>\n",
              "      <td>786</td>\n",
              "    </tr>\n",
              "    <tr>\n",
              "      <th>4</th>\n",
              "      <td>2020-03-24</td>\n",
              "      <td>170</td>\n",
              "      <td>5</td>\n",
              "      <td>6</td>\n",
              "      <td>685</td>\n",
              "      <td>4</td>\n",
              "      <td>42</td>\n",
              "      <td>1</td>\n",
              "      <td>0</td>\n",
              "      <td>36</td>\n",
              "      <td>1</td>\n",
              "      <td>0</td>\n",
              "      <td>22</td>\n",
              "      <td>7</td>\n",
              "      <td>40</td>\n",
              "      <td>6</td>\n",
              "      <td>11</td>\n",
              "      <td>159</td>\n",
              "      <td>855</td>\n",
              "    </tr>\n",
              "  </tbody>\n",
              "</table>\n",
              "</div>"
            ],
            "text/plain": [
              "        Date  Confirmed  Deaths  ...  Tanger-Tetouan-Al Hoceima  Actif  Total Test\n",
              "0 2020-03-20         86       0  ...                          4     86         460\n",
              "1 2020-03-21         96       0  ...                          7     96         481\n",
              "2 2020-03-22        109       4  ...                          7    102         607\n",
              "3 2020-03-23        143       4  ...                          9    134         786\n",
              "4 2020-03-24        170       5  ...                         11    159         855\n",
              "\n",
              "[5 rows x 19 columns]"
            ]
          },
          "metadata": {
            "tags": []
          },
          "execution_count": 156
        }
      ]
    },
    {
      "cell_type": "markdown",
      "metadata": {
        "id": "ZEUHmxlrWzxn",
        "colab_type": "text"
      },
      "source": [
        "Ajout des cas actifs et du total des tests par jour"
      ]
    },
    {
      "cell_type": "code",
      "metadata": {
        "id": "oOMVREz5Bs4-",
        "colab_type": "code",
        "colab": {
          "base_uri": "https://localhost:8080/",
          "height": 624
        },
        "outputId": "5e848488-180c-494d-e291-2c98b0d45d52"
      },
      "source": [
        "plt.figure(figsize=(15,10))\n",
        "sns.lineplot(data = my_data['Total Test'],label='Total des tests', color=\"#111d5e\")\n",
        "plt.xlabel('Date')\n",
        "plt.ylabel('Nombre des tests')\n"
      ],
      "execution_count": 157,
      "outputs": [
        {
          "output_type": "execute_result",
          "data": {
            "text/plain": [
              "Text(0, 0.5, 'Nombre des tests')"
            ]
          },
          "metadata": {
            "tags": []
          },
          "execution_count": 157
        },
        {
          "output_type": "display_data",
          "data": {
            "image/png": "[encoded data removed]",
            "text/plain": [
              "<Figure size 1080x720 with 1 Axes>"
            ]
          },
          "metadata": {
            "tags": [],
            "needs_background": "light"
          }
        }
      ]
    },
    {
      "cell_type": "code",
      "metadata": {
        "id": "q3wjChC44gyR",
        "colab_type": "code",
        "colab": {}
      },
      "source": [
        ""
      ],
      "execution_count": 157,
      "outputs": []
    },
    {
      "cell_type": "code",
      "metadata": {
        "id": "8SApiVAp4gte",
        "colab_type": "code",
        "colab": {}
      },
      "source": [
        ""
      ],
      "execution_count": 157,
      "outputs": []
    },
    {
      "cell_type": "code",
      "metadata": {
        "id": "iAfPWnAO_ixW",
        "colab_type": "code",
        "colab": {
          "base_uri": "https://localhost:8080/",
          "height": 639
        },
        "outputId": "40fe3f78-9d6e-4ed8-8d32-6369e665df76"
      },
      "source": [
        "plt.figure(figsize=(15,10))\n",
        "sns.lineplot(data = my_data['Confirmed'],label='Cumulés', color=\"#e7305b\")\n",
        "sns.lineplot(data = my_data['Recovered'],label='Guérisons', color=\"#32e0c4\" )\n",
        "plt.xlabel('Date')\n",
        "plt.ylabel('Total number')\n",
        "plt.title('Graphe des cas cumulés et des cas de guérisons')\n",
        "\n",
        "plt.legend()"
      ],
      "execution_count": 158,
      "outputs": [
        {
          "output_type": "execute_result",
          "data": {
            "text/plain": [
              "<matplotlib.legend.Legend at 0x7fd0fdf3ca58>"
            ]
          },
          "metadata": {
            "tags": []
          },
          "execution_count": 158
        },
        {
          "output_type": "display_data",
          "data": {
            "image/png": "[encoded data removed]",
            "text/plain": [
              "<Figure size 1080x720 with 1 Axes>"
            ]
          },
          "metadata": {
            "tags": [],
            "needs_background": "light"
          }
        }
      ]
    },
    {
      "cell_type": "code",
      "metadata": {
        "id": "8u2niZoJBvI_",
        "colab_type": "code",
        "colab": {}
      },
      "source": [
        "actif_column= my_data['Confirmed'] - my_data['Recovered'] - my_data['Deaths']\n",
        "total_test_perDay = my_data['Confirmed'] + my_data['Excluded']\n",
        "my_data['Actif'] = actif_column\n",
        "my_data['Total Test'] = total_test_perDay"
      ],
      "execution_count": 159,
      "outputs": []
    },
    {
      "cell_type": "code",
      "metadata": {
        "id": "i27qCsU-dMOR",
        "colab_type": "code",
        "colab": {
          "base_uri": "https://localhost:8080/",
          "height": 624
        },
        "outputId": "c4815d54-bb6d-4259-c6dd-ae64d96b5ac8"
      },
      "source": [
        "plt.figure(figsize=(15,10))\n",
        "sns.regplot(x = my_data['Total Test'],y = my_data['Confirmed'], color=\"#900c3f\")\n",
        "plt.xlabel('Total des tests')\n",
        "plt.ylabel('Cumulés')"
      ],
      "execution_count": 160,
      "outputs": [
        {
          "output_type": "execute_result",
          "data": {
            "text/plain": [
              "Text(0, 0.5, 'Cumulés')"
            ]
          },
          "metadata": {
            "tags": []
          },
          "execution_count": 160
        },
        {
          "output_type": "display_data",
          "data": {
            "image/png": "[encoded data removed]",
            "text/plain": [
              "<Figure size 1080x720 with 1 Axes>"
            ]
          },
          "metadata": {
            "tags": [],
            "needs_background": "light"
          }
        }
      ]
    },
    {
      "cell_type": "code",
      "metadata": {
        "id": "kZDfPqiRI34_",
        "colab_type": "code",
        "colab": {
          "base_uri": "https://localhost:8080/",
          "height": 391
        },
        "outputId": "7fe80d58-908a-4f65-ebc4-d9576604296b"
      },
      "source": [
        "my_data = my_data.set_index('Date')\n",
        "\n",
        "my_data.head()\n"
      ],
      "execution_count": 161,
      "outputs": [
        {
          "output_type": "execute_result",
          "data": {
            "text/html": [
              "<div>\n",
              "<style scoped>\n",
              "    .dataframe tbody tr th:only-of-type {\n",
              "        vertical-align: middle;\n",
              "    }\n",
              "\n",
              "    .dataframe tbody tr th {\n",
              "        vertical-align: top;\n",
              "    }\n",
              "\n",
              "    .dataframe thead th {\n",
              "        text-align: right;\n",
              "    }\n",
              "</style>\n",
              "<table border=\"1\" class=\"dataframe\">\n",
              "  <thead>\n",
              "    <tr style=\"text-align: right;\">\n",
              "      <th></th>\n",
              "      <th>Confirmed</th>\n",
              "      <th>Deaths</th>\n",
              "      <th>Recovered</th>\n",
              "      <th>Excluded</th>\n",
              "      <th>Beni Mellal-Khenifra</th>\n",
              "      <th>Casablanca-Settat</th>\n",
              "      <th>Draa-Tafilalet</th>\n",
              "      <th>Dakhla-Oued Ed-Dahab</th>\n",
              "      <th>Fes-Meknes</th>\n",
              "      <th>Guelmim-Oued Noun</th>\n",
              "      <th>Laayoune-Sakia El Hamra</th>\n",
              "      <th>Marrakesh-Safi</th>\n",
              "      <th>Oriental</th>\n",
              "      <th>Rabat-Sale-Kenitra</th>\n",
              "      <th>Souss-Massa</th>\n",
              "      <th>Tanger-Tetouan-Al Hoceima</th>\n",
              "      <th>Actif</th>\n",
              "      <th>Total Test</th>\n",
              "    </tr>\n",
              "    <tr>\n",
              "      <th>Date</th>\n",
              "      <th></th>\n",
              "      <th></th>\n",
              "      <th></th>\n",
              "      <th></th>\n",
              "      <th></th>\n",
              "      <th></th>\n",
              "      <th></th>\n",
              "      <th></th>\n",
              "      <th></th>\n",
              "      <th></th>\n",
              "      <th></th>\n",
              "      <th></th>\n",
              "      <th></th>\n",
              "      <th></th>\n",
              "      <th></th>\n",
              "      <th></th>\n",
              "      <th></th>\n",
              "      <th></th>\n",
              "    </tr>\n",
              "  </thead>\n",
              "  <tbody>\n",
              "    <tr>\n",
              "      <th>2020-03-20</th>\n",
              "      <td>86</td>\n",
              "      <td>0</td>\n",
              "      <td>0</td>\n",
              "      <td>374</td>\n",
              "      <td>2</td>\n",
              "      <td>16</td>\n",
              "      <td>0</td>\n",
              "      <td>0</td>\n",
              "      <td>13</td>\n",
              "      <td>1</td>\n",
              "      <td>0</td>\n",
              "      <td>7</td>\n",
              "      <td>1</td>\n",
              "      <td>16</td>\n",
              "      <td>6</td>\n",
              "      <td>4</td>\n",
              "      <td>86</td>\n",
              "      <td>460</td>\n",
              "    </tr>\n",
              "    <tr>\n",
              "      <th>2020-03-21</th>\n",
              "      <td>96</td>\n",
              "      <td>0</td>\n",
              "      <td>0</td>\n",
              "      <td>385</td>\n",
              "      <td>2</td>\n",
              "      <td>22</td>\n",
              "      <td>1</td>\n",
              "      <td>0</td>\n",
              "      <td>21</td>\n",
              "      <td>1</td>\n",
              "      <td>0</td>\n",
              "      <td>10</td>\n",
              "      <td>4</td>\n",
              "      <td>22</td>\n",
              "      <td>6</td>\n",
              "      <td>7</td>\n",
              "      <td>96</td>\n",
              "      <td>481</td>\n",
              "    </tr>\n",
              "    <tr>\n",
              "      <th>2020-03-22</th>\n",
              "      <td>109</td>\n",
              "      <td>4</td>\n",
              "      <td>3</td>\n",
              "      <td>498</td>\n",
              "      <td>3</td>\n",
              "      <td>26</td>\n",
              "      <td>1</td>\n",
              "      <td>0</td>\n",
              "      <td>24</td>\n",
              "      <td>1</td>\n",
              "      <td>0</td>\n",
              "      <td>13</td>\n",
              "      <td>5</td>\n",
              "      <td>29</td>\n",
              "      <td>6</td>\n",
              "      <td>7</td>\n",
              "      <td>102</td>\n",
              "      <td>607</td>\n",
              "    </tr>\n",
              "    <tr>\n",
              "      <th>2020-03-23</th>\n",
              "      <td>143</td>\n",
              "      <td>4</td>\n",
              "      <td>5</td>\n",
              "      <td>643</td>\n",
              "      <td>3</td>\n",
              "      <td>34</td>\n",
              "      <td>1</td>\n",
              "      <td>0</td>\n",
              "      <td>35</td>\n",
              "      <td>1</td>\n",
              "      <td>0</td>\n",
              "      <td>15</td>\n",
              "      <td>7</td>\n",
              "      <td>32</td>\n",
              "      <td>6</td>\n",
              "      <td>9</td>\n",
              "      <td>134</td>\n",
              "      <td>786</td>\n",
              "    </tr>\n",
              "    <tr>\n",
              "      <th>2020-03-24</th>\n",
              "      <td>170</td>\n",
              "      <td>5</td>\n",
              "      <td>6</td>\n",
              "      <td>685</td>\n",
              "      <td>4</td>\n",
              "      <td>42</td>\n",
              "      <td>1</td>\n",
              "      <td>0</td>\n",
              "      <td>36</td>\n",
              "      <td>1</td>\n",
              "      <td>0</td>\n",
              "      <td>22</td>\n",
              "      <td>7</td>\n",
              "      <td>40</td>\n",
              "      <td>6</td>\n",
              "      <td>11</td>\n",
              "      <td>159</td>\n",
              "      <td>855</td>\n",
              "    </tr>\n",
              "  </tbody>\n",
              "</table>\n",
              "</div>"
            ],
            "text/plain": [
              "            Confirmed  Deaths  ...  Actif  Total Test\n",
              "Date                           ...                   \n",
              "2020-03-20         86       0  ...     86         460\n",
              "2020-03-21         96       0  ...     96         481\n",
              "2020-03-22        109       4  ...    102         607\n",
              "2020-03-23        143       4  ...    134         786\n",
              "2020-03-24        170       5  ...    159         855\n",
              "\n",
              "[5 rows x 18 columns]"
            ]
          },
          "metadata": {
            "tags": []
          },
          "execution_count": 161
        }
      ]
    },
    {
      "cell_type": "code",
      "metadata": {
        "id": "oeKv13TWdUaS",
        "colab_type": "code",
        "colab": {
          "base_uri": "https://localhost:8080/",
          "height": 537
        },
        "outputId": "e66d8a63-b715-41cf-ab43-458861ccff03"
      },
      "source": [
        "# Selecting regions\n",
        "Regions1 = ['Beni Mellal-Khenifra',\n",
        "       'Casablanca-Settat', 'Draa-Tafilalet', 'Dakhla-Oued Ed-Dahab',\n",
        "       'Fes-Meknes', 'Laayoune-Sakia El Hamra','Guelmim-Oued Noun', \n",
        "       'Marrakesh-Safi', 'Oriental', 'Rabat-Sale-Kenitra', 'Souss-Massa','Tanger-Tetouan-Al Hoceima']\n",
        "\n",
        "\n",
        "plt.figure(figsize=(14,8))\n",
        "sns.lineplot(data = my_data[Regions1],dashes=False)\n",
        "\n",
        "plt.text('2020-05-10', 2250, 'Casabalanca-Settat', fontsize=12,color='#ff4500')\n",
        "plt.text('2020-05-12', 1350, 'Marrakesh-Safi', fontsize=12,color='#4682B4')\n",
        "plt.text('2020-05-10', 1100, 'Tanger-Tetouan-Al Hoceima', fontsize=10,color='#FF69B4')\n",
        "plt.text('2020-05-15', 750, 'Rabat-Salé-Kénitra', fontsize=12,color='#b09df3')\n",
        "\n",
        "plt.title('Evolution des cas par régions',fontsize = 20)"
      ],
      "execution_count": 162,
      "outputs": [
        {
          "output_type": "execute_result",
          "data": {
            "text/plain": [
              "Text(0.5, 1.0, 'Evolution des cas par régions')"
            ]
          },
          "metadata": {
            "tags": []
          },
          "execution_count": 162
        },
        {
          "output_type": "display_data",
          "data": {
            "image/png": "[encoded data removed]",
            "text/plain": [
              "<Figure size 1008x576 with 1 Axes>"
            ]
          },
          "metadata": {
            "tags": [],
            "needs_background": "light"
          }
        }
      ]
    },
    {
      "cell_type": "code",
      "metadata": {
        "id": "ST84dnErdUU-",
        "colab_type": "code",
        "colab": {
          "base_uri": "https://localhost:8080/",
          "height": 531
        },
        "outputId": "c1ac6693-a732-4676-fe9d-e8d86b57d5e0"
      },
      "source": [
        "plt.figure(figsize=(14,8))\n",
        "sns.lineplot(data = my_data['Actif'],label='Acif', color=\"#5a3d55\")\n",
        "plt.axvline('2020-03-20',ls = '--',c = 'r')\n",
        "plt.axvline('2020-06-24',ls = '--',c = 'g')\n",
        "plt.axvline('2020-06-11',ls = '--',c = 'g')\n",
        "plt.text('2020-03-21', 1500, 'Confinement', fontsize=12,color='#FF0000')\n",
        "plt.text('2020-06-24', 1500, 'Fin Confinement Zone2', fontsize=12,color='#438a5e')\n",
        "plt.text('2020-06-11', 2000, 'Fin Confinement Zone1', fontsize=12,color='#438a5e')\n",
        "plt.xlabel('Date')\n",
        "plt.ylabel('Cas totaux')\n",
        "plt.title('Cas cumulés ')\n",
        "plt.legend()"
      ],
      "execution_count": 163,
      "outputs": [
        {
          "output_type": "execute_result",
          "data": {
            "text/plain": [
              "<matplotlib.legend.Legend at 0x7fd0fc6cdb00>"
            ]
          },
          "metadata": {
            "tags": []
          },
          "execution_count": 163
        },
        {
          "output_type": "display_data",
          "data": {
            "image/png": "[encoded data removed]",
            "text/plain": [
              "<Figure size 1008x576 with 1 Axes>"
            ]
          },
          "metadata": {
            "tags": [],
            "needs_background": "light"
          }
        }
      ]
    },
    {
      "cell_type": "code",
      "metadata": {
        "id": "YzbbcG4cdUNL",
        "colab_type": "code",
        "colab": {
          "base_uri": "https://localhost:8080/",
          "height": 368
        },
        "outputId": "bb6071ee-1afe-4091-e21d-0602cfcaa9d0"
      },
      "source": [
        "# getting the data that we want to plot\n",
        "my_data_ori = my_data.copy()\n",
        "\n",
        "plt.figure(figsize=(15,5))\n",
        "dataVar1 =(my_data_ori['Actif']*100/my_data_ori['Confirmed'])[15:]\n",
        "dataVar3 =(my_data_ori['Deaths']*100/my_data_ori['Confirmed'])[15:]\n",
        "dataVar2 =(my_data_ori['Recovered']*100/my_data_ori['Confirmed'])[15:]\n",
        "\n",
        "\n",
        "# plot each data\n",
        "p1 = plt.bar(dataVar1.index, \n",
        "             dataVar1,label='Actif', color = '#5fdde5')\n",
        "\n",
        "p2 = plt.bar(dataVar2.index, \n",
        "             dataVar2,\n",
        "             bottom=dataVar1,label='Recovered', color = '#12947f')\n",
        "\n",
        "p3 = plt.bar(dataVar3.index,\n",
        "             dataVar3,\n",
        "             bottom=dataVar1+dataVar2,label='Deaths', color = '#e71414')\n",
        "\n",
        "plt.xlabel('Date')\n",
        "plt.ylabel('Pourcentage %')\n",
        "plt.title('Pourcentage of distribution of cases')\n",
        "plt.legend()"
      ],
      "execution_count": 164,
      "outputs": [
        {
          "output_type": "execute_result",
          "data": {
            "text/plain": [
              "<matplotlib.legend.Legend at 0x7fd0fdd743c8>"
            ]
          },
          "metadata": {
            "tags": []
          },
          "execution_count": 164
        },
        {
          "output_type": "display_data",
          "data": {
            "image/png": "[encoded data removed]",
            "text/plain": [
              "<Figure size 1080x360 with 1 Axes>"
            ]
          },
          "metadata": {
            "tags": [],
            "needs_background": "light"
          }
        }
      ]
    },
    {
      "cell_type": "code",
      "metadata": {
        "id": "Xl8W8he0Rako",
        "colab_type": "code",
        "colab": {
          "base_uri": "https://localhost:8080/",
          "height": 500
        },
        "outputId": "3cbfc4a1-dffd-4832-8923-2d30ff49d753"
      },
      "source": [
        "plt.figure(figsize=(16,8))\n",
        "Slice = [my_data['Beni Mellal-Khenifra'][-1],my_data['Casablanca-Settat'][-1],my_data['Draa-Tafilalet'][-1],\n",
        "        my_data['Dakhla-Oued Ed-Dahab'][-1],my_data['Fes-Meknes'][-1],my_data['Guelmim-Oued Noun'][-1],\n",
        "        my_data['Rabat-Sale-Kenitra'][-1],my_data['Souss-Massa'][-1],my_data['Tanger-Tetouan-Al Hoceima'][-1],\n",
        "        my_data['Laayoune-Sakia El Hamra'][-1],my_data['Marrakesh-Safi'][-1],my_data['Oriental'][-1]]\n",
        "Labels = ['Beni Mellal-Khenifra','Casablanca-Settat','Draa-Tafilalet','Dakhla-Oued Ed-Dahab','Fes-Meknes',\n",
        "         'Guelmim-Oued Noun','Rabat-Sale-Kenitra','Souss-Massa','Tanger-Tetouan-Al Hoceima','Laayoune-Sakia El Hamra',\n",
        "         'Marrakesh-Safi','Oriental']\n",
        "Colors = ['#FF6633', '#FFB399', '#FF33FF', '#FFFF99', '#00B3E6', \n",
        "\t\t  '#E6B333', '#3366E6', '#999966', '#99FF99', '#B34D4D',\n",
        "\t\t  '#c3edea', '#809900']\n",
        "Explode = [0,0,0,0,0,0,0,0,0,0,0,0]\n",
        "plt.pie(Slice,colors = Colors,explode = Explode,shadow = True,autopct='%1.1f%%',\n",
        "        labels = Labels,wedgeprops = {'edgecolor':'white'})\n",
        "\n",
        "\n",
        "plt.title('Diagramme circulaire des cas totaux par région')"
      ],
      "execution_count": 165,
      "outputs": [
        {
          "output_type": "execute_result",
          "data": {
            "text/plain": [
              "Text(0.5, 1.0, 'Diagramme circulaire des cas totaux par région')"
            ]
          },
          "metadata": {
            "tags": []
          },
          "execution_count": 165
        },
        {
          "output_type": "display_data",
          "data": {
            "image/png": "[encoded data removed]",
            "text/plain": [
              "<Figure size 1152x576 with 1 Axes>"
            ]
          },
          "metadata": {
            "tags": []
          }
        }
      ]
    },
    {
      "cell_type": "markdown",
      "metadata": {
        "id": "oZN1TI8RR4mg",
        "colab_type": "text"
      },
      "source": [
        "Prévision\n"
      ]
    },
    {
      "cell_type": "code",
      "metadata": {
        "id": "2GegI2GJSS2N",
        "colab_type": "code",
        "colab": {}
      },
      "source": [
        "from fbprophet import Prophet"
      ],
      "execution_count": 166,
      "outputs": []
    },
    {
      "cell_type": "code",
      "metadata": {
        "id": "3ASIeoxLSWY4",
        "colab_type": "code",
        "colab": {}
      },
      "source": [
        "total_Deaths = my_data['Deaths']\n",
        "total_Confirmed = my_data['Confirmed']\n",
        "total_Recovered = my_data['Recovered']\n",
        "mortaloty_rate = 100*total_Deaths/total_Confirmed"
      ],
      "execution_count": 167,
      "outputs": []
    },
    {
      "cell_type": "code",
      "metadata": {
        "id": "H1onbDeQSeZm",
        "colab_type": "code",
        "colab": {}
      },
      "source": [
        "# Adding a new daily cases column to our data\n",
        "new_cases = []\n",
        "for i in range(len(total_Confirmed)):\n",
        "    if i == 0:\n",
        "        new_cases.append(0)\n",
        "    elif total_Confirmed[i] < total_Confirmed[i-1]:\n",
        "        new_cases.append(0)\n",
        "    else:\n",
        "        temp = int(total_Confirmed[i] - total_Confirmed[i-1])\n",
        "        new_cases.append(temp)\n",
        "    \n",
        "new_cases = np.array(new_cases)\n",
        "my_data['New cases'] = new_cases"
      ],
      "execution_count": 168,
      "outputs": []
    },
    {
      "cell_type": "code",
      "metadata": {
        "id": "En3tmtaLSha2",
        "colab_type": "code",
        "colab": {
          "base_uri": "https://localhost:8080/",
          "height": 1000
        },
        "outputId": "f131c0ec-e050-4fdc-f27d-d30f8d5d65e1"
      },
      "source": [
        "df = pd.DataFrame(my_data['New cases'])\n",
        "df.style.background_gradient(cmap='Oranges')"
      ],
      "execution_count": 169,
      "outputs": [
        {
          "output_type": "execute_result",
          "data": {
            "text/html": [
              "<style  type=\"text/css\" >\n",
              "    #T_03fe0532_b3e5_11ea_9585_0242ac1c0002row0_col0 {\n",
              "            background-color:  #fff5eb;\n",
              "            color:  #000000;\n",
              "        }    #T_03fe0532_b3e5_11ea_9585_0242ac1c0002row1_col0 {\n",
              "            background-color:  #fff3e7;\n",
              "            color:  #000000;\n",
              "        }    #T_03fe0532_b3e5_11ea_9585_0242ac1c0002row2_col0 {\n",
              "            background-color:  #fff2e6;\n",
              "            color:  #000000;\n",
              "        }    #T_03fe0532_b3e5_11ea_9585_0242ac1c0002row3_col0 {\n",
              "            background-color:  #feeddc;\n",
              "            color:  #000000;\n",
              "        }    #T_03fe0532_b3e5_11ea_9585_0242ac1c0002row4_col0 {\n",
              "            background-color:  #ffefe0;\n",
              "            color:  #000000;\n",
              "        }    #T_03fe0532_b3e5_11ea_9585_0242ac1c0002row5_col0 {\n",
              "            background-color:  #fee9d3;\n",
              "            color:  #000000;\n",
              "        }    #T_03fe0532_b3e5_11ea_9585_0242ac1c0002row6_col0 {\n",
              "            background-color:  #feead6;\n",
              "            color:  #000000;\n",
              "        }    #T_03fe0532_b3e5_11ea_9585_0242ac1c0002row7_col0 {\n",
              "            background-color:  #fee5cc;\n",
              "            color:  #000000;\n",
              "        }    #T_03fe0532_b3e5_11ea_9585_0242ac1c0002row8_col0 {\n",
              "            background-color:  #fee8d2;\n",
              "            color:  #000000;\n",
              "        }    #T_03fe0532_b3e5_11ea_9585_0242ac1c0002row9_col0 {\n",
              "            background-color:  #fee3c8;\n",
              "            color:  #000000;\n",
              "        }    #T_03fe0532_b3e5_11ea_9585_0242ac1c0002row10_col0 {\n",
              "            background-color:  #fee3c8;\n",
              "            color:  #000000;\n",
              "        }    #T_03fe0532_b3e5_11ea_9585_0242ac1c0002row11_col0 {\n",
              "            background-color:  #fee8d2;\n",
              "            color:  #000000;\n",
              "        }    #T_03fe0532_b3e5_11ea_9585_0242ac1c0002row12_col0 {\n",
              "            background-color:  #feeddc;\n",
              "            color:  #000000;\n",
              "        }    #T_03fe0532_b3e5_11ea_9585_0242ac1c0002row13_col0 {\n",
              "            background-color:  #fee9d4;\n",
              "            color:  #000000;\n",
              "        }    #T_03fe0532_b3e5_11ea_9585_0242ac1c0002row14_col0 {\n",
              "            background-color:  #fee1c4;\n",
              "            color:  #000000;\n",
              "        }    #T_03fe0532_b3e5_11ea_9585_0242ac1c0002row15_col0 {\n",
              "            background-color:  #fdd3a7;\n",
              "            color:  #000000;\n",
              "        }    #T_03fe0532_b3e5_11ea_9585_0242ac1c0002row16_col0 {\n",
              "            background-color:  #fddbb8;\n",
              "            color:  #000000;\n",
              "        }    #T_03fe0532_b3e5_11ea_9585_0242ac1c0002row17_col0 {\n",
              "            background-color:  #fedcb9;\n",
              "            color:  #000000;\n",
              "        }    #T_03fe0532_b3e5_11ea_9585_0242ac1c0002row18_col0 {\n",
              "            background-color:  #fee7d0;\n",
              "            color:  #000000;\n",
              "        }    #T_03fe0532_b3e5_11ea_9585_0242ac1c0002row19_col0 {\n",
              "            background-color:  #fedebf;\n",
              "            color:  #000000;\n",
              "        }    #T_03fe0532_b3e5_11ea_9585_0242ac1c0002row20_col0 {\n",
              "            background-color:  #fedcb9;\n",
              "            color:  #000000;\n",
              "        }    #T_03fe0532_b3e5_11ea_9585_0242ac1c0002row21_col0 {\n",
              "            background-color:  #fee4ca;\n",
              "            color:  #000000;\n",
              "        }    #T_03fe0532_b3e5_11ea_9585_0242ac1c0002row22_col0 {\n",
              "            background-color:  #fedcbb;\n",
              "            color:  #000000;\n",
              "        }    #T_03fe0532_b3e5_11ea_9585_0242ac1c0002row23_col0 {\n",
              "            background-color:  #fdd6ae;\n",
              "            color:  #000000;\n",
              "        }    #T_03fe0532_b3e5_11ea_9585_0242ac1c0002row24_col0 {\n",
              "            background-color:  #fddbb8;\n",
              "            color:  #000000;\n",
              "        }    #T_03fe0532_b3e5_11ea_9585_0242ac1c0002row25_col0 {\n",
              "            background-color:  #fdd3a9;\n",
              "            color:  #000000;\n",
              "        }    #T_03fe0532_b3e5_11ea_9585_0242ac1c0002row26_col0 {\n",
              "            background-color:  #fdd0a2;\n",
              "            color:  #000000;\n",
              "        }    #T_03fe0532_b3e5_11ea_9585_0242ac1c0002row27_col0 {\n",
              "            background-color:  #fd9243;\n",
              "            color:  #000000;\n",
              "        }    #T_03fe0532_b3e5_11ea_9585_0242ac1c0002row28_col0 {\n",
              "            background-color:  #fb8735;\n",
              "            color:  #000000;\n",
              "        }    #T_03fe0532_b3e5_11ea_9585_0242ac1c0002row29_col0 {\n",
              "            background-color:  #fdd5ab;\n",
              "            color:  #000000;\n",
              "        }    #T_03fe0532_b3e5_11ea_9585_0242ac1c0002row30_col0 {\n",
              "            background-color:  #fdbf86;\n",
              "            color:  #000000;\n",
              "        }    #T_03fe0532_b3e5_11ea_9585_0242ac1c0002row31_col0 {\n",
              "            background-color:  #fdb475;\n",
              "            color:  #000000;\n",
              "        }    #T_03fe0532_b3e5_11ea_9585_0242ac1c0002row32_col0 {\n",
              "            background-color:  #fdc28b;\n",
              "            color:  #000000;\n",
              "        }    #T_03fe0532_b3e5_11ea_9585_0242ac1c0002row33_col0 {\n",
              "            background-color:  #fd9d53;\n",
              "            color:  #000000;\n",
              "        }    #T_03fe0532_b3e5_11ea_9585_0242ac1c0002row34_col0 {\n",
              "            background-color:  #fdd5ab;\n",
              "            color:  #000000;\n",
              "        }    #T_03fe0532_b3e5_11ea_9585_0242ac1c0002row35_col0 {\n",
              "            background-color:  #fdb475;\n",
              "            color:  #000000;\n",
              "        }    #T_03fe0532_b3e5_11ea_9585_0242ac1c0002row36_col0 {\n",
              "            background-color:  #fdce9e;\n",
              "            color:  #000000;\n",
              "        }    #T_03fe0532_b3e5_11ea_9585_0242ac1c0002row37_col0 {\n",
              "            background-color:  #fdc088;\n",
              "            color:  #000000;\n",
              "        }    #T_03fe0532_b3e5_11ea_9585_0242ac1c0002row38_col0 {\n",
              "            background-color:  #fee9d3;\n",
              "            color:  #000000;\n",
              "        }    #T_03fe0532_b3e5_11ea_9585_0242ac1c0002row39_col0 {\n",
              "            background-color:  #fdd1a4;\n",
              "            color:  #000000;\n",
              "        }    #T_03fe0532_b3e5_11ea_9585_0242ac1c0002row40_col0 {\n",
              "            background-color:  #fee6ce;\n",
              "            color:  #000000;\n",
              "        }    #T_03fe0532_b3e5_11ea_9585_0242ac1c0002row41_col0 {\n",
              "            background-color:  #fddbb8;\n",
              "            color:  #000000;\n",
              "        }    #T_03fe0532_b3e5_11ea_9585_0242ac1c0002row42_col0 {\n",
              "            background-color:  #fdca99;\n",
              "            color:  #000000;\n",
              "        }    #T_03fe0532_b3e5_11ea_9585_0242ac1c0002row43_col0 {\n",
              "            background-color:  #fdc48f;\n",
              "            color:  #000000;\n",
              "        }    #T_03fe0532_b3e5_11ea_9585_0242ac1c0002row44_col0 {\n",
              "            background-color:  #fdbd83;\n",
              "            color:  #000000;\n",
              "        }    #T_03fe0532_b3e5_11ea_9585_0242ac1c0002row45_col0 {\n",
              "            background-color:  #fdc895;\n",
              "            color:  #000000;\n",
              "        }    #T_03fe0532_b3e5_11ea_9585_0242ac1c0002row46_col0 {\n",
              "            background-color:  #fdc189;\n",
              "            color:  #000000;\n",
              "        }    #T_03fe0532_b3e5_11ea_9585_0242ac1c0002row47_col0 {\n",
              "            background-color:  #fdb576;\n",
              "            color:  #000000;\n",
              "        }    #T_03fe0532_b3e5_11ea_9585_0242ac1c0002row48_col0 {\n",
              "            background-color:  #fdce9e;\n",
              "            color:  #000000;\n",
              "        }    #T_03fe0532_b3e5_11ea_9585_0242ac1c0002row49_col0 {\n",
              "            background-color:  #fdc28b;\n",
              "            color:  #000000;\n",
              "        }    #T_03fe0532_b3e5_11ea_9585_0242ac1c0002row50_col0 {\n",
              "            background-color:  #fdb06e;\n",
              "            color:  #000000;\n",
              "        }    #T_03fe0532_b3e5_11ea_9585_0242ac1c0002row51_col0 {\n",
              "            background-color:  #fdc794;\n",
              "            color:  #000000;\n",
              "        }    #T_03fe0532_b3e5_11ea_9585_0242ac1c0002row52_col0 {\n",
              "            background-color:  #fda660;\n",
              "            color:  #000000;\n",
              "        }    #T_03fe0532_b3e5_11ea_9585_0242ac1c0002row53_col0 {\n",
              "            background-color:  #fdcfa0;\n",
              "            color:  #000000;\n",
              "        }    #T_03fe0532_b3e5_11ea_9585_0242ac1c0002row54_col0 {\n",
              "            background-color:  #fedebd;\n",
              "            color:  #000000;\n",
              "        }    #T_03fe0532_b3e5_11ea_9585_0242ac1c0002row55_col0 {\n",
              "            background-color:  #feddbc;\n",
              "            color:  #000000;\n",
              "        }    #T_03fe0532_b3e5_11ea_9585_0242ac1c0002row56_col0 {\n",
              "            background-color:  #feebd8;\n",
              "            color:  #000000;\n",
              "        }    #T_03fe0532_b3e5_11ea_9585_0242ac1c0002row57_col0 {\n",
              "            background-color:  #ffefdf;\n",
              "            color:  #000000;\n",
              "        }    #T_03fe0532_b3e5_11ea_9585_0242ac1c0002row58_col0 {\n",
              "            background-color:  #fdb576;\n",
              "            color:  #000000;\n",
              "        }    #T_03fe0532_b3e5_11ea_9585_0242ac1c0002row59_col0 {\n",
              "            background-color:  #fee2c6;\n",
              "            color:  #000000;\n",
              "        }    #T_03fe0532_b3e5_11ea_9585_0242ac1c0002row60_col0 {\n",
              "            background-color:  #fee5cc;\n",
              "            color:  #000000;\n",
              "        }    #T_03fe0532_b3e5_11ea_9585_0242ac1c0002row61_col0 {\n",
              "            background-color:  #fdd8b2;\n",
              "            color:  #000000;\n",
              "        }    #T_03fe0532_b3e5_11ea_9585_0242ac1c0002row62_col0 {\n",
              "            background-color:  #fee2c7;\n",
              "            color:  #000000;\n",
              "        }    #T_03fe0532_b3e5_11ea_9585_0242ac1c0002row63_col0 {\n",
              "            background-color:  #fdd5ab;\n",
              "            color:  #000000;\n",
              "        }    #T_03fe0532_b3e5_11ea_9585_0242ac1c0002row64_col0 {\n",
              "            background-color:  #fee4ca;\n",
              "            color:  #000000;\n",
              "        }    #T_03fe0532_b3e5_11ea_9585_0242ac1c0002row65_col0 {\n",
              "            background-color:  #fff0e2;\n",
              "            color:  #000000;\n",
              "        }    #T_03fe0532_b3e5_11ea_9585_0242ac1c0002row66_col0 {\n",
              "            background-color:  #fddbb8;\n",
              "            color:  #000000;\n",
              "        }    #T_03fe0532_b3e5_11ea_9585_0242ac1c0002row67_col0 {\n",
              "            background-color:  #feebd8;\n",
              "            color:  #000000;\n",
              "        }    #T_03fe0532_b3e5_11ea_9585_0242ac1c0002row68_col0 {\n",
              "            background-color:  #fff0e1;\n",
              "            color:  #000000;\n",
              "        }    #T_03fe0532_b3e5_11ea_9585_0242ac1c0002row69_col0 {\n",
              "            background-color:  #feecda;\n",
              "            color:  #000000;\n",
              "        }    #T_03fe0532_b3e5_11ea_9585_0242ac1c0002row70_col0 {\n",
              "            background-color:  #fee5cc;\n",
              "            color:  #000000;\n",
              "        }    #T_03fe0532_b3e5_11ea_9585_0242ac1c0002row71_col0 {\n",
              "            background-color:  #fee6cf;\n",
              "            color:  #000000;\n",
              "        }    #T_03fe0532_b3e5_11ea_9585_0242ac1c0002row72_col0 {\n",
              "            background-color:  #ffefe0;\n",
              "            color:  #000000;\n",
              "        }    #T_03fe0532_b3e5_11ea_9585_0242ac1c0002row73_col0 {\n",
              "            background-color:  #ffefe0;\n",
              "            color:  #000000;\n",
              "        }    #T_03fe0532_b3e5_11ea_9585_0242ac1c0002row74_col0 {\n",
              "            background-color:  #ffeedd;\n",
              "            color:  #000000;\n",
              "        }    #T_03fe0532_b3e5_11ea_9585_0242ac1c0002row75_col0 {\n",
              "            background-color:  #fee9d3;\n",
              "            color:  #000000;\n",
              "        }    #T_03fe0532_b3e5_11ea_9585_0242ac1c0002row76_col0 {\n",
              "            background-color:  #fee2c6;\n",
              "            color:  #000000;\n",
              "        }    #T_03fe0532_b3e5_11ea_9585_0242ac1c0002row77_col0 {\n",
              "            background-color:  #fee6ce;\n",
              "            color:  #000000;\n",
              "        }    #T_03fe0532_b3e5_11ea_9585_0242ac1c0002row78_col0 {\n",
              "            background-color:  #fee2c7;\n",
              "            color:  #000000;\n",
              "        }    #T_03fe0532_b3e5_11ea_9585_0242ac1c0002row79_col0 {\n",
              "            background-color:  #fee5cb;\n",
              "            color:  #000000;\n",
              "        }    #T_03fe0532_b3e5_11ea_9585_0242ac1c0002row80_col0 {\n",
              "            background-color:  #fee2c7;\n",
              "            color:  #000000;\n",
              "        }    #T_03fe0532_b3e5_11ea_9585_0242ac1c0002row81_col0 {\n",
              "            background-color:  #fdd0a2;\n",
              "            color:  #000000;\n",
              "        }    #T_03fe0532_b3e5_11ea_9585_0242ac1c0002row82_col0 {\n",
              "            background-color:  #fee5cc;\n",
              "            color:  #000000;\n",
              "        }    #T_03fe0532_b3e5_11ea_9585_0242ac1c0002row83_col0 {\n",
              "            background-color:  #ffefdf;\n",
              "            color:  #000000;\n",
              "        }    #T_03fe0532_b3e5_11ea_9585_0242ac1c0002row84_col0 {\n",
              "            background-color:  #fee5cb;\n",
              "            color:  #000000;\n",
              "        }    #T_03fe0532_b3e5_11ea_9585_0242ac1c0002row85_col0 {\n",
              "            background-color:  #fee2c6;\n",
              "            color:  #000000;\n",
              "        }    #T_03fe0532_b3e5_11ea_9585_0242ac1c0002row86_col0 {\n",
              "            background-color:  #fedcb9;\n",
              "            color:  #000000;\n",
              "        }    #T_03fe0532_b3e5_11ea_9585_0242ac1c0002row87_col0 {\n",
              "            background-color:  #fedebf;\n",
              "            color:  #000000;\n",
              "        }    #T_03fe0532_b3e5_11ea_9585_0242ac1c0002row88_col0 {\n",
              "            background-color:  #feebd8;\n",
              "            color:  #000000;\n",
              "        }    #T_03fe0532_b3e5_11ea_9585_0242ac1c0002row89_col0 {\n",
              "            background-color:  #fee6cf;\n",
              "            color:  #000000;\n",
              "        }    #T_03fe0532_b3e5_11ea_9585_0242ac1c0002row90_col0 {\n",
              "            background-color:  #fee3c8;\n",
              "            color:  #000000;\n",
              "        }    #T_03fe0532_b3e5_11ea_9585_0242ac1c0002row91_col0 {\n",
              "            background-color:  #7f2704;\n",
              "            color:  #f1f1f1;\n",
              "        }    #T_03fe0532_b3e5_11ea_9585_0242ac1c0002row92_col0 {\n",
              "            background-color:  #fda25a;\n",
              "            color:  #000000;\n",
              "        }</style><table id=\"T_03fe0532_b3e5_11ea_9585_0242ac1c0002\" ><thead>    <tr>        <th class=\"blank level0\" ></th>        <th class=\"col_heading level0 col0\" >New cases</th>    </tr>    <tr>        <th class=\"index_name level0\" >Date</th>        <th class=\"blank\" ></th>    </tr></thead><tbody>\n",
              "                <tr>\n",
              "                        <th id=\"T_03fe0532_b3e5_11ea_9585_0242ac1c0002level0_row0\" class=\"row_heading level0 row0\" >2020-03-20 00:00:00</th>\n",
              "                        <td id=\"T_03fe0532_b3e5_11ea_9585_0242ac1c0002row0_col0\" class=\"data row0 col0\" >0</td>\n",
              "            </tr>\n",
              "            <tr>\n",
              "                        <th id=\"T_03fe0532_b3e5_11ea_9585_0242ac1c0002level0_row1\" class=\"row_heading level0 row1\" >2020-03-21 00:00:00</th>\n",
              "                        <td id=\"T_03fe0532_b3e5_11ea_9585_0242ac1c0002row1_col0\" class=\"data row1 col0\" >10</td>\n",
              "            </tr>\n",
              "            <tr>\n",
              "                        <th id=\"T_03fe0532_b3e5_11ea_9585_0242ac1c0002level0_row2\" class=\"row_heading level0 row2\" >2020-03-22 00:00:00</th>\n",
              "                        <td id=\"T_03fe0532_b3e5_11ea_9585_0242ac1c0002row2_col0\" class=\"data row2 col0\" >13</td>\n",
              "            </tr>\n",
              "            <tr>\n",
              "                        <th id=\"T_03fe0532_b3e5_11ea_9585_0242ac1c0002level0_row3\" class=\"row_heading level0 row3\" >2020-03-23 00:00:00</th>\n",
              "                        <td id=\"T_03fe0532_b3e5_11ea_9585_0242ac1c0002row3_col0\" class=\"data row3 col0\" >34</td>\n",
              "            </tr>\n",
              "            <tr>\n",
              "                        <th id=\"T_03fe0532_b3e5_11ea_9585_0242ac1c0002level0_row4\" class=\"row_heading level0 row4\" >2020-03-24 00:00:00</th>\n",
              "                        <td id=\"T_03fe0532_b3e5_11ea_9585_0242ac1c0002row4_col0\" class=\"data row4 col0\" >27</td>\n",
              "            </tr>\n",
              "            <tr>\n",
              "                        <th id=\"T_03fe0532_b3e5_11ea_9585_0242ac1c0002level0_row5\" class=\"row_heading level0 row5\" >2020-03-25 00:00:00</th>\n",
              "                        <td id=\"T_03fe0532_b3e5_11ea_9585_0242ac1c0002row5_col0\" class=\"data row5 col0\" >55</td>\n",
              "            </tr>\n",
              "            <tr>\n",
              "                        <th id=\"T_03fe0532_b3e5_11ea_9585_0242ac1c0002level0_row6\" class=\"row_heading level0 row6\" >2020-03-26 00:00:00</th>\n",
              "                        <td id=\"T_03fe0532_b3e5_11ea_9585_0242ac1c0002row6_col0\" class=\"data row6 col0\" >50</td>\n",
              "            </tr>\n",
              "            <tr>\n",
              "                        <th id=\"T_03fe0532_b3e5_11ea_9585_0242ac1c0002level0_row7\" class=\"row_heading level0 row7\" >2020-03-27 00:00:00</th>\n",
              "                        <td id=\"T_03fe0532_b3e5_11ea_9585_0242ac1c0002row7_col0\" class=\"data row7 col0\" >70</td>\n",
              "            </tr>\n",
              "            <tr>\n",
              "                        <th id=\"T_03fe0532_b3e5_11ea_9585_0242ac1c0002level0_row8\" class=\"row_heading level0 row8\" >2020-03-28 00:00:00</th>\n",
              "                        <td id=\"T_03fe0532_b3e5_11ea_9585_0242ac1c0002row8_col0\" class=\"data row8 col0\" >57</td>\n",
              "            </tr>\n",
              "            <tr>\n",
              "                        <th id=\"T_03fe0532_b3e5_11ea_9585_0242ac1c0002level0_row9\" class=\"row_heading level0 row9\" >2020-03-29 00:00:00</th>\n",
              "                        <td id=\"T_03fe0532_b3e5_11ea_9585_0242ac1c0002row9_col0\" class=\"data row9 col0\" >77</td>\n",
              "            </tr>\n",
              "            <tr>\n",
              "                        <th id=\"T_03fe0532_b3e5_11ea_9585_0242ac1c0002level0_row10\" class=\"row_heading level0 row10\" >2020-03-30 00:00:00</th>\n",
              "                        <td id=\"T_03fe0532_b3e5_11ea_9585_0242ac1c0002row10_col0\" class=\"data row10 col0\" >77</td>\n",
              "            </tr>\n",
              "            <tr>\n",
              "                        <th id=\"T_03fe0532_b3e5_11ea_9585_0242ac1c0002level0_row11\" class=\"row_heading level0 row11\" >2020-03-31 00:00:00</th>\n",
              "                        <td id=\"T_03fe0532_b3e5_11ea_9585_0242ac1c0002row11_col0\" class=\"data row11 col0\" >61</td>\n",
              "            </tr>\n",
              "            <tr>\n",
              "                        <th id=\"T_03fe0532_b3e5_11ea_9585_0242ac1c0002level0_row12\" class=\"row_heading level0 row12\" >2020-04-01 00:00:00</th>\n",
              "                        <td id=\"T_03fe0532_b3e5_11ea_9585_0242ac1c0002row12_col0\" class=\"data row12 col0\" >37</td>\n",
              "            </tr>\n",
              "            <tr>\n",
              "                        <th id=\"T_03fe0532_b3e5_11ea_9585_0242ac1c0002level0_row13\" class=\"row_heading level0 row13\" >2020-04-02 00:00:00</th>\n",
              "                        <td id=\"T_03fe0532_b3e5_11ea_9585_0242ac1c0002row13_col0\" class=\"data row13 col0\" >54</td>\n",
              "            </tr>\n",
              "            <tr>\n",
              "                        <th id=\"T_03fe0532_b3e5_11ea_9585_0242ac1c0002level0_row14\" class=\"row_heading level0 row14\" >2020-04-03 00:00:00</th>\n",
              "                        <td id=\"T_03fe0532_b3e5_11ea_9585_0242ac1c0002row14_col0\" class=\"data row14 col0\" >83</td>\n",
              "            </tr>\n",
              "            <tr>\n",
              "                        <th id=\"T_03fe0532_b3e5_11ea_9585_0242ac1c0002level0_row15\" class=\"row_heading level0 row15\" >2020-04-04 00:00:00</th>\n",
              "                        <td id=\"T_03fe0532_b3e5_11ea_9585_0242ac1c0002row15_col0\" class=\"data row15 col0\" >128</td>\n",
              "            </tr>\n",
              "            <tr>\n",
              "                        <th id=\"T_03fe0532_b3e5_11ea_9585_0242ac1c0002level0_row16\" class=\"row_heading level0 row16\" >2020-04-05 00:00:00</th>\n",
              "                        <td id=\"T_03fe0532_b3e5_11ea_9585_0242ac1c0002row16_col0\" class=\"data row16 col0\" >102</td>\n",
              "            </tr>\n",
              "            <tr>\n",
              "                        <th id=\"T_03fe0532_b3e5_11ea_9585_0242ac1c0002level0_row17\" class=\"row_heading level0 row17\" >2020-04-06 00:00:00</th>\n",
              "                        <td id=\"T_03fe0532_b3e5_11ea_9585_0242ac1c0002row17_col0\" class=\"data row17 col0\" >99</td>\n",
              "            </tr>\n",
              "            <tr>\n",
              "                        <th id=\"T_03fe0532_b3e5_11ea_9585_0242ac1c0002level0_row18\" class=\"row_heading level0 row18\" >2020-04-07 00:00:00</th>\n",
              "                        <td id=\"T_03fe0532_b3e5_11ea_9585_0242ac1c0002row18_col0\" class=\"data row18 col0\" >64</td>\n",
              "            </tr>\n",
              "            <tr>\n",
              "                        <th id=\"T_03fe0532_b3e5_11ea_9585_0242ac1c0002level0_row19\" class=\"row_heading level0 row19\" >2020-04-08 00:00:00</th>\n",
              "                        <td id=\"T_03fe0532_b3e5_11ea_9585_0242ac1c0002row19_col0\" class=\"data row19 col0\" >91</td>\n",
              "            </tr>\n",
              "            <tr>\n",
              "                        <th id=\"T_03fe0532_b3e5_11ea_9585_0242ac1c0002level0_row20\" class=\"row_heading level0 row20\" >2020-04-09 00:00:00</th>\n",
              "                        <td id=\"T_03fe0532_b3e5_11ea_9585_0242ac1c0002row20_col0\" class=\"data row20 col0\" >99</td>\n",
              "            </tr>\n",
              "            <tr>\n",
              "                        <th id=\"T_03fe0532_b3e5_11ea_9585_0242ac1c0002level0_row21\" class=\"row_heading level0 row21\" >2020-04-10 00:00:00</th>\n",
              "                        <td id=\"T_03fe0532_b3e5_11ea_9585_0242ac1c0002row21_col0\" class=\"data row21 col0\" >74</td>\n",
              "            </tr>\n",
              "            <tr>\n",
              "                        <th id=\"T_03fe0532_b3e5_11ea_9585_0242ac1c0002level0_row22\" class=\"row_heading level0 row22\" >2020-04-11 00:00:00</th>\n",
              "                        <td id=\"T_03fe0532_b3e5_11ea_9585_0242ac1c0002row22_col0\" class=\"data row22 col0\" >97</td>\n",
              "            </tr>\n",
              "            <tr>\n",
              "                        <th id=\"T_03fe0532_b3e5_11ea_9585_0242ac1c0002level0_row23\" class=\"row_heading level0 row23\" >2020-04-12 00:00:00</th>\n",
              "                        <td id=\"T_03fe0532_b3e5_11ea_9585_0242ac1c0002row23_col0\" class=\"data row23 col0\" >116</td>\n",
              "            </tr>\n",
              "            <tr>\n",
              "                        <th id=\"T_03fe0532_b3e5_11ea_9585_0242ac1c0002level0_row24\" class=\"row_heading level0 row24\" >2020-04-13 00:00:00</th>\n",
              "                        <td id=\"T_03fe0532_b3e5_11ea_9585_0242ac1c0002row24_col0\" class=\"data row24 col0\" >102</td>\n",
              "            </tr>\n",
              "            <tr>\n",
              "                        <th id=\"T_03fe0532_b3e5_11ea_9585_0242ac1c0002level0_row25\" class=\"row_heading level0 row25\" >2020-04-14 00:00:00</th>\n",
              "                        <td id=\"T_03fe0532_b3e5_11ea_9585_0242ac1c0002row25_col0\" class=\"data row25 col0\" >125</td>\n",
              "            </tr>\n",
              "            <tr>\n",
              "                        <th id=\"T_03fe0532_b3e5_11ea_9585_0242ac1c0002level0_row26\" class=\"row_heading level0 row26\" >2020-04-15 00:00:00</th>\n",
              "                        <td id=\"T_03fe0532_b3e5_11ea_9585_0242ac1c0002row26_col0\" class=\"data row26 col0\" >136</td>\n",
              "            </tr>\n",
              "            <tr>\n",
              "                        <th id=\"T_03fe0532_b3e5_11ea_9585_0242ac1c0002level0_row27\" class=\"row_heading level0 row27\" >2020-04-16 00:00:00</th>\n",
              "                        <td id=\"T_03fe0532_b3e5_11ea_9585_0242ac1c0002row27_col0\" class=\"data row27 col0\" >259</td>\n",
              "            </tr>\n",
              "            <tr>\n",
              "                        <th id=\"T_03fe0532_b3e5_11ea_9585_0242ac1c0002level0_row28\" class=\"row_heading level0 row28\" >2020-04-17 00:00:00</th>\n",
              "                        <td id=\"T_03fe0532_b3e5_11ea_9585_0242ac1c0002row28_col0\" class=\"data row28 col0\" >281</td>\n",
              "            </tr>\n",
              "            <tr>\n",
              "                        <th id=\"T_03fe0532_b3e5_11ea_9585_0242ac1c0002level0_row29\" class=\"row_heading level0 row29\" >2020-04-18 00:00:00</th>\n",
              "                        <td id=\"T_03fe0532_b3e5_11ea_9585_0242ac1c0002row29_col0\" class=\"data row29 col0\" >121</td>\n",
              "            </tr>\n",
              "            <tr>\n",
              "                        <th id=\"T_03fe0532_b3e5_11ea_9585_0242ac1c0002level0_row30\" class=\"row_heading level0 row30\" >2020-04-19 00:00:00</th>\n",
              "                        <td id=\"T_03fe0532_b3e5_11ea_9585_0242ac1c0002row30_col0\" class=\"data row30 col0\" >170</td>\n",
              "            </tr>\n",
              "            <tr>\n",
              "                        <th id=\"T_03fe0532_b3e5_11ea_9585_0242ac1c0002level0_row31\" class=\"row_heading level0 row31\" >2020-04-20 00:00:00</th>\n",
              "                        <td id=\"T_03fe0532_b3e5_11ea_9585_0242ac1c0002row31_col0\" class=\"data row31 col0\" >191</td>\n",
              "            </tr>\n",
              "            <tr>\n",
              "                        <th id=\"T_03fe0532_b3e5_11ea_9585_0242ac1c0002level0_row32\" class=\"row_heading level0 row32\" >2020-04-21 00:00:00</th>\n",
              "                        <td id=\"T_03fe0532_b3e5_11ea_9585_0242ac1c0002row32_col0\" class=\"data row32 col0\" >163</td>\n",
              "            </tr>\n",
              "            <tr>\n",
              "                        <th id=\"T_03fe0532_b3e5_11ea_9585_0242ac1c0002level0_row33\" class=\"row_heading level0 row33\" >2020-04-22 00:00:00</th>\n",
              "                        <td id=\"T_03fe0532_b3e5_11ea_9585_0242ac1c0002row33_col0\" class=\"data row33 col0\" >237</td>\n",
              "            </tr>\n",
              "            <tr>\n",
              "                        <th id=\"T_03fe0532_b3e5_11ea_9585_0242ac1c0002level0_row34\" class=\"row_heading level0 row34\" >2020-04-23 00:00:00</th>\n",
              "                        <td id=\"T_03fe0532_b3e5_11ea_9585_0242ac1c0002row34_col0\" class=\"data row34 col0\" >122</td>\n",
              "            </tr>\n",
              "            <tr>\n",
              "                        <th id=\"T_03fe0532_b3e5_11ea_9585_0242ac1c0002level0_row35\" class=\"row_heading level0 row35\" >2020-04-24 00:00:00</th>\n",
              "                        <td id=\"T_03fe0532_b3e5_11ea_9585_0242ac1c0002row35_col0\" class=\"data row35 col0\" >190</td>\n",
              "            </tr>\n",
              "            <tr>\n",
              "                        <th id=\"T_03fe0532_b3e5_11ea_9585_0242ac1c0002level0_row36\" class=\"row_heading level0 row36\" >2020-04-25 00:00:00</th>\n",
              "                        <td id=\"T_03fe0532_b3e5_11ea_9585_0242ac1c0002row36_col0\" class=\"data row36 col0\" >139</td>\n",
              "            </tr>\n",
              "            <tr>\n",
              "                        <th id=\"T_03fe0532_b3e5_11ea_9585_0242ac1c0002level0_row37\" class=\"row_heading level0 row37\" >2020-04-26 00:00:00</th>\n",
              "                        <td id=\"T_03fe0532_b3e5_11ea_9585_0242ac1c0002row37_col0\" class=\"data row37 col0\" >168</td>\n",
              "            </tr>\n",
              "            <tr>\n",
              "                        <th id=\"T_03fe0532_b3e5_11ea_9585_0242ac1c0002level0_row38\" class=\"row_heading level0 row38\" >2020-04-27 00:00:00</th>\n",
              "                        <td id=\"T_03fe0532_b3e5_11ea_9585_0242ac1c0002row38_col0\" class=\"data row38 col0\" >55</td>\n",
              "            </tr>\n",
              "            <tr>\n",
              "                        <th id=\"T_03fe0532_b3e5_11ea_9585_0242ac1c0002level0_row39\" class=\"row_heading level0 row39\" >2020-04-28 00:00:00</th>\n",
              "                        <td id=\"T_03fe0532_b3e5_11ea_9585_0242ac1c0002row39_col0\" class=\"data row39 col0\" >132</td>\n",
              "            </tr>\n",
              "            <tr>\n",
              "                        <th id=\"T_03fe0532_b3e5_11ea_9585_0242ac1c0002level0_row40\" class=\"row_heading level0 row40\" >2020-04-29 00:00:00</th>\n",
              "                        <td id=\"T_03fe0532_b3e5_11ea_9585_0242ac1c0002row40_col0\" class=\"data row40 col0\" >69</td>\n",
              "            </tr>\n",
              "            <tr>\n",
              "                        <th id=\"T_03fe0532_b3e5_11ea_9585_0242ac1c0002level0_row41\" class=\"row_heading level0 row41\" >2020-04-30 00:00:00</th>\n",
              "                        <td id=\"T_03fe0532_b3e5_11ea_9585_0242ac1c0002row41_col0\" class=\"data row41 col0\" >102</td>\n",
              "            </tr>\n",
              "            <tr>\n",
              "                        <th id=\"T_03fe0532_b3e5_11ea_9585_0242ac1c0002level0_row42\" class=\"row_heading level0 row42\" >2020-05-01 00:00:00</th>\n",
              "                        <td id=\"T_03fe0532_b3e5_11ea_9585_0242ac1c0002row42_col0\" class=\"data row42 col0\" >146</td>\n",
              "            </tr>\n",
              "            <tr>\n",
              "                        <th id=\"T_03fe0532_b3e5_11ea_9585_0242ac1c0002level0_row43\" class=\"row_heading level0 row43\" >2020-05-02 00:00:00</th>\n",
              "                        <td id=\"T_03fe0532_b3e5_11ea_9585_0242ac1c0002row43_col0\" class=\"data row43 col0\" >160</td>\n",
              "            </tr>\n",
              "            <tr>\n",
              "                        <th id=\"T_03fe0532_b3e5_11ea_9585_0242ac1c0002level0_row44\" class=\"row_heading level0 row44\" >2020-05-03 00:00:00</th>\n",
              "                        <td id=\"T_03fe0532_b3e5_11ea_9585_0242ac1c0002row44_col0\" class=\"data row44 col0\" >174</td>\n",
              "            </tr>\n",
              "            <tr>\n",
              "                        <th id=\"T_03fe0532_b3e5_11ea_9585_0242ac1c0002level0_row45\" class=\"row_heading level0 row45\" >2020-05-04 00:00:00</th>\n",
              "                        <td id=\"T_03fe0532_b3e5_11ea_9585_0242ac1c0002row45_col0\" class=\"data row45 col0\" >150</td>\n",
              "            </tr>\n",
              "            <tr>\n",
              "                        <th id=\"T_03fe0532_b3e5_11ea_9585_0242ac1c0002level0_row46\" class=\"row_heading level0 row46\" >2020-05-05 00:00:00</th>\n",
              "                        <td id=\"T_03fe0532_b3e5_11ea_9585_0242ac1c0002row46_col0\" class=\"data row46 col0\" >166</td>\n",
              "            </tr>\n",
              "            <tr>\n",
              "                        <th id=\"T_03fe0532_b3e5_11ea_9585_0242ac1c0002level0_row47\" class=\"row_heading level0 row47\" >2020-05-06 00:00:00</th>\n",
              "                        <td id=\"T_03fe0532_b3e5_11ea_9585_0242ac1c0002row47_col0\" class=\"data row47 col0\" >189</td>\n",
              "            </tr>\n",
              "            <tr>\n",
              "                        <th id=\"T_03fe0532_b3e5_11ea_9585_0242ac1c0002level0_row48\" class=\"row_heading level0 row48\" >2020-05-07 00:00:00</th>\n",
              "                        <td id=\"T_03fe0532_b3e5_11ea_9585_0242ac1c0002row48_col0\" class=\"data row48 col0\" >140</td>\n",
              "            </tr>\n",
              "            <tr>\n",
              "                        <th id=\"T_03fe0532_b3e5_11ea_9585_0242ac1c0002level0_row49\" class=\"row_heading level0 row49\" >2020-05-08 00:00:00</th>\n",
              "                        <td id=\"T_03fe0532_b3e5_11ea_9585_0242ac1c0002row49_col0\" class=\"data row49 col0\" >163</td>\n",
              "            </tr>\n",
              "            <tr>\n",
              "                        <th id=\"T_03fe0532_b3e5_11ea_9585_0242ac1c0002level0_row50\" class=\"row_heading level0 row50\" >2020-05-09 00:00:00</th>\n",
              "                        <td id=\"T_03fe0532_b3e5_11ea_9585_0242ac1c0002row50_col0\" class=\"data row50 col0\" >199</td>\n",
              "            </tr>\n",
              "            <tr>\n",
              "                        <th id=\"T_03fe0532_b3e5_11ea_9585_0242ac1c0002level0_row51\" class=\"row_heading level0 row51\" >2020-05-10 00:00:00</th>\n",
              "                        <td id=\"T_03fe0532_b3e5_11ea_9585_0242ac1c0002row51_col0\" class=\"data row51 col0\" >153</td>\n",
              "            </tr>\n",
              "            <tr>\n",
              "                        <th id=\"T_03fe0532_b3e5_11ea_9585_0242ac1c0002level0_row52\" class=\"row_heading level0 row52\" >2020-05-11 00:00:00</th>\n",
              "                        <td id=\"T_03fe0532_b3e5_11ea_9585_0242ac1c0002row52_col0\" class=\"data row52 col0\" >218</td>\n",
              "            </tr>\n",
              "            <tr>\n",
              "                        <th id=\"T_03fe0532_b3e5_11ea_9585_0242ac1c0002level0_row53\" class=\"row_heading level0 row53\" >2020-05-12 00:00:00</th>\n",
              "                        <td id=\"T_03fe0532_b3e5_11ea_9585_0242ac1c0002row53_col0\" class=\"data row53 col0\" >137</td>\n",
              "            </tr>\n",
              "            <tr>\n",
              "                        <th id=\"T_03fe0532_b3e5_11ea_9585_0242ac1c0002level0_row54\" class=\"row_heading level0 row54\" >2020-05-13 00:00:00</th>\n",
              "                        <td id=\"T_03fe0532_b3e5_11ea_9585_0242ac1c0002row54_col0\" class=\"data row54 col0\" >94</td>\n",
              "            </tr>\n",
              "            <tr>\n",
              "                        <th id=\"T_03fe0532_b3e5_11ea_9585_0242ac1c0002level0_row55\" class=\"row_heading level0 row55\" >2020-05-14 00:00:00</th>\n",
              "                        <td id=\"T_03fe0532_b3e5_11ea_9585_0242ac1c0002row55_col0\" class=\"data row55 col0\" >95</td>\n",
              "            </tr>\n",
              "            <tr>\n",
              "                        <th id=\"T_03fe0532_b3e5_11ea_9585_0242ac1c0002level0_row56\" class=\"row_heading level0 row56\" >2020-05-15 00:00:00</th>\n",
              "                        <td id=\"T_03fe0532_b3e5_11ea_9585_0242ac1c0002row56_col0\" class=\"data row56 col0\" >45</td>\n",
              "            </tr>\n",
              "            <tr>\n",
              "                        <th id=\"T_03fe0532_b3e5_11ea_9585_0242ac1c0002level0_row57\" class=\"row_heading level0 row57\" >2020-05-16 00:00:00</th>\n",
              "                        <td id=\"T_03fe0532_b3e5_11ea_9585_0242ac1c0002row57_col0\" class=\"data row57 col0\" >29</td>\n",
              "            </tr>\n",
              "            <tr>\n",
              "                        <th id=\"T_03fe0532_b3e5_11ea_9585_0242ac1c0002level0_row58\" class=\"row_heading level0 row58\" >2020-05-17 00:00:00</th>\n",
              "                        <td id=\"T_03fe0532_b3e5_11ea_9585_0242ac1c0002row58_col0\" class=\"data row58 col0\" >189</td>\n",
              "            </tr>\n",
              "            <tr>\n",
              "                        <th id=\"T_03fe0532_b3e5_11ea_9585_0242ac1c0002level0_row59\" class=\"row_heading level0 row59\" >2020-05-18 00:00:00</th>\n",
              "                        <td id=\"T_03fe0532_b3e5_11ea_9585_0242ac1c0002row59_col0\" class=\"data row59 col0\" >82</td>\n",
              "            </tr>\n",
              "            <tr>\n",
              "                        <th id=\"T_03fe0532_b3e5_11ea_9585_0242ac1c0002level0_row60\" class=\"row_heading level0 row60\" >2020-05-19 00:00:00</th>\n",
              "                        <td id=\"T_03fe0532_b3e5_11ea_9585_0242ac1c0002row60_col0\" class=\"data row60 col0\" >71</td>\n",
              "            </tr>\n",
              "            <tr>\n",
              "                        <th id=\"T_03fe0532_b3e5_11ea_9585_0242ac1c0002level0_row61\" class=\"row_heading level0 row61\" >2020-05-20 00:00:00</th>\n",
              "                        <td id=\"T_03fe0532_b3e5_11ea_9585_0242ac1c0002row61_col0\" class=\"data row61 col0\" >110</td>\n",
              "            </tr>\n",
              "            <tr>\n",
              "                        <th id=\"T_03fe0532_b3e5_11ea_9585_0242ac1c0002level0_row62\" class=\"row_heading level0 row62\" >2020-05-21 00:00:00</th>\n",
              "                        <td id=\"T_03fe0532_b3e5_11ea_9585_0242ac1c0002row62_col0\" class=\"data row62 col0\" >78</td>\n",
              "            </tr>\n",
              "            <tr>\n",
              "                        <th id=\"T_03fe0532_b3e5_11ea_9585_0242ac1c0002level0_row63\" class=\"row_heading level0 row63\" >2020-05-22 00:00:00</th>\n",
              "                        <td id=\"T_03fe0532_b3e5_11ea_9585_0242ac1c0002row63_col0\" class=\"data row63 col0\" >121</td>\n",
              "            </tr>\n",
              "            <tr>\n",
              "                        <th id=\"T_03fe0532_b3e5_11ea_9585_0242ac1c0002level0_row64\" class=\"row_heading level0 row64\" >2020-05-23 00:00:00</th>\n",
              "                        <td id=\"T_03fe0532_b3e5_11ea_9585_0242ac1c0002row64_col0\" class=\"data row64 col0\" >74</td>\n",
              "            </tr>\n",
              "            <tr>\n",
              "                        <th id=\"T_03fe0532_b3e5_11ea_9585_0242ac1c0002level0_row65\" class=\"row_heading level0 row65\" >2020-05-24 00:00:00</th>\n",
              "                        <td id=\"T_03fe0532_b3e5_11ea_9585_0242ac1c0002row65_col0\" class=\"data row65 col0\" >23</td>\n",
              "            </tr>\n",
              "            <tr>\n",
              "                        <th id=\"T_03fe0532_b3e5_11ea_9585_0242ac1c0002level0_row66\" class=\"row_heading level0 row66\" >2020-05-25 00:00:00</th>\n",
              "                        <td id=\"T_03fe0532_b3e5_11ea_9585_0242ac1c0002row66_col0\" class=\"data row66 col0\" >103</td>\n",
              "            </tr>\n",
              "            <tr>\n",
              "                        <th id=\"T_03fe0532_b3e5_11ea_9585_0242ac1c0002level0_row67\" class=\"row_heading level0 row67\" >2020-05-26 00:00:00</th>\n",
              "                        <td id=\"T_03fe0532_b3e5_11ea_9585_0242ac1c0002row67_col0\" class=\"data row67 col0\" >45</td>\n",
              "            </tr>\n",
              "            <tr>\n",
              "                        <th id=\"T_03fe0532_b3e5_11ea_9585_0242ac1c0002level0_row68\" class=\"row_heading level0 row68\" >2020-05-27 00:00:00</th>\n",
              "                        <td id=\"T_03fe0532_b3e5_11ea_9585_0242ac1c0002row68_col0\" class=\"data row68 col0\" >24</td>\n",
              "            </tr>\n",
              "            <tr>\n",
              "                        <th id=\"T_03fe0532_b3e5_11ea_9585_0242ac1c0002level0_row69\" class=\"row_heading level0 row69\" >2020-05-28 00:00:00</th>\n",
              "                        <td id=\"T_03fe0532_b3e5_11ea_9585_0242ac1c0002row69_col0\" class=\"data row69 col0\" >42</td>\n",
              "            </tr>\n",
              "            <tr>\n",
              "                        <th id=\"T_03fe0532_b3e5_11ea_9585_0242ac1c0002level0_row70\" class=\"row_heading level0 row70\" >2020-05-29 00:00:00</th>\n",
              "                        <td id=\"T_03fe0532_b3e5_11ea_9585_0242ac1c0002row70_col0\" class=\"data row70 col0\" >71</td>\n",
              "            </tr>\n",
              "            <tr>\n",
              "                        <th id=\"T_03fe0532_b3e5_11ea_9585_0242ac1c0002level0_row71\" class=\"row_heading level0 row71\" >2020-05-30 00:00:00</th>\n",
              "                        <td id=\"T_03fe0532_b3e5_11ea_9585_0242ac1c0002row71_col0\" class=\"data row71 col0\" >66</td>\n",
              "            </tr>\n",
              "            <tr>\n",
              "                        <th id=\"T_03fe0532_b3e5_11ea_9585_0242ac1c0002level0_row72\" class=\"row_heading level0 row72\" >2020-05-31 00:00:00</th>\n",
              "                        <td id=\"T_03fe0532_b3e5_11ea_9585_0242ac1c0002row72_col0\" class=\"data row72 col0\" >27</td>\n",
              "            </tr>\n",
              "            <tr>\n",
              "                        <th id=\"T_03fe0532_b3e5_11ea_9585_0242ac1c0002level0_row73\" class=\"row_heading level0 row73\" >2020-06-01 00:00:00</th>\n",
              "                        <td id=\"T_03fe0532_b3e5_11ea_9585_0242ac1c0002row73_col0\" class=\"data row73 col0\" >26</td>\n",
              "            </tr>\n",
              "            <tr>\n",
              "                        <th id=\"T_03fe0532_b3e5_11ea_9585_0242ac1c0002level0_row74\" class=\"row_heading level0 row74\" >2020-06-02 00:00:00</th>\n",
              "                        <td id=\"T_03fe0532_b3e5_11ea_9585_0242ac1c0002row74_col0\" class=\"data row74 col0\" >33</td>\n",
              "            </tr>\n",
              "            <tr>\n",
              "                        <th id=\"T_03fe0532_b3e5_11ea_9585_0242ac1c0002level0_row75\" class=\"row_heading level0 row75\" >2020-06-03 00:00:00</th>\n",
              "                        <td id=\"T_03fe0532_b3e5_11ea_9585_0242ac1c0002row75_col0\" class=\"data row75 col0\" >56</td>\n",
              "            </tr>\n",
              "            <tr>\n",
              "                        <th id=\"T_03fe0532_b3e5_11ea_9585_0242ac1c0002level0_row76\" class=\"row_heading level0 row76\" >2020-06-04 00:00:00</th>\n",
              "                        <td id=\"T_03fe0532_b3e5_11ea_9585_0242ac1c0002row76_col0\" class=\"data row76 col0\" >81</td>\n",
              "            </tr>\n",
              "            <tr>\n",
              "                        <th id=\"T_03fe0532_b3e5_11ea_9585_0242ac1c0002level0_row77\" class=\"row_heading level0 row77\" >2020-06-05 00:00:00</th>\n",
              "                        <td id=\"T_03fe0532_b3e5_11ea_9585_0242ac1c0002row77_col0\" class=\"data row77 col0\" >68</td>\n",
              "            </tr>\n",
              "            <tr>\n",
              "                        <th id=\"T_03fe0532_b3e5_11ea_9585_0242ac1c0002level0_row78\" class=\"row_heading level0 row78\" >2020-06-06 00:00:00</th>\n",
              "                        <td id=\"T_03fe0532_b3e5_11ea_9585_0242ac1c0002row78_col0\" class=\"data row78 col0\" >80</td>\n",
              "            </tr>\n",
              "            <tr>\n",
              "                        <th id=\"T_03fe0532_b3e5_11ea_9585_0242ac1c0002level0_row79\" class=\"row_heading level0 row79\" >2020-06-07 00:00:00</th>\n",
              "                        <td id=\"T_03fe0532_b3e5_11ea_9585_0242ac1c0002row79_col0\" class=\"data row79 col0\" >73</td>\n",
              "            </tr>\n",
              "            <tr>\n",
              "                        <th id=\"T_03fe0532_b3e5_11ea_9585_0242ac1c0002level0_row80\" class=\"row_heading level0 row80\" >2020-06-08 00:00:00</th>\n",
              "                        <td id=\"T_03fe0532_b3e5_11ea_9585_0242ac1c0002row80_col0\" class=\"data row80 col0\" >78</td>\n",
              "            </tr>\n",
              "            <tr>\n",
              "                        <th id=\"T_03fe0532_b3e5_11ea_9585_0242ac1c0002level0_row81\" class=\"row_heading level0 row81\" >2020-06-09 00:00:00</th>\n",
              "                        <td id=\"T_03fe0532_b3e5_11ea_9585_0242ac1c0002row81_col0\" class=\"data row81 col0\" >135</td>\n",
              "            </tr>\n",
              "            <tr>\n",
              "                        <th id=\"T_03fe0532_b3e5_11ea_9585_0242ac1c0002level0_row82\" class=\"row_heading level0 row82\" >2020-06-10 00:00:00</th>\n",
              "                        <td id=\"T_03fe0532_b3e5_11ea_9585_0242ac1c0002row82_col0\" class=\"data row82 col0\" >71</td>\n",
              "            </tr>\n",
              "            <tr>\n",
              "                        <th id=\"T_03fe0532_b3e5_11ea_9585_0242ac1c0002level0_row83\" class=\"row_heading level0 row83\" >2020-06-11 00:00:00</th>\n",
              "                        <td id=\"T_03fe0532_b3e5_11ea_9585_0242ac1c0002row83_col0\" class=\"data row83 col0\" >29</td>\n",
              "            </tr>\n",
              "            <tr>\n",
              "                        <th id=\"T_03fe0532_b3e5_11ea_9585_0242ac1c0002level0_row84\" class=\"row_heading level0 row84\" >2020-06-12 00:00:00</th>\n",
              "                        <td id=\"T_03fe0532_b3e5_11ea_9585_0242ac1c0002row84_col0\" class=\"data row84 col0\" >73</td>\n",
              "            </tr>\n",
              "            <tr>\n",
              "                        <th id=\"T_03fe0532_b3e5_11ea_9585_0242ac1c0002level0_row85\" class=\"row_heading level0 row85\" >2020-06-13 00:00:00</th>\n",
              "                        <td id=\"T_03fe0532_b3e5_11ea_9585_0242ac1c0002row85_col0\" class=\"data row85 col0\" >82</td>\n",
              "            </tr>\n",
              "            <tr>\n",
              "                        <th id=\"T_03fe0532_b3e5_11ea_9585_0242ac1c0002level0_row86\" class=\"row_heading level0 row86\" >2020-06-14 00:00:00</th>\n",
              "                        <td id=\"T_03fe0532_b3e5_11ea_9585_0242ac1c0002row86_col0\" class=\"data row86 col0\" >101</td>\n",
              "            </tr>\n",
              "            <tr>\n",
              "                        <th id=\"T_03fe0532_b3e5_11ea_9585_0242ac1c0002level0_row87\" class=\"row_heading level0 row87\" >2020-06-15 00:00:00</th>\n",
              "                        <td id=\"T_03fe0532_b3e5_11ea_9585_0242ac1c0002row87_col0\" class=\"data row87 col0\" >92</td>\n",
              "            </tr>\n",
              "            <tr>\n",
              "                        <th id=\"T_03fe0532_b3e5_11ea_9585_0242ac1c0002level0_row88\" class=\"row_heading level0 row88\" >2020-06-16 00:00:00</th>\n",
              "                        <td id=\"T_03fe0532_b3e5_11ea_9585_0242ac1c0002row88_col0\" class=\"data row88 col0\" >46</td>\n",
              "            </tr>\n",
              "            <tr>\n",
              "                        <th id=\"T_03fe0532_b3e5_11ea_9585_0242ac1c0002level0_row89\" class=\"row_heading level0 row89\" >2020-06-17 00:00:00</th>\n",
              "                        <td id=\"T_03fe0532_b3e5_11ea_9585_0242ac1c0002row89_col0\" class=\"data row89 col0\" >66</td>\n",
              "            </tr>\n",
              "            <tr>\n",
              "                        <th id=\"T_03fe0532_b3e5_11ea_9585_0242ac1c0002level0_row90\" class=\"row_heading level0 row90\" >2020-06-18 00:00:00</th>\n",
              "                        <td id=\"T_03fe0532_b3e5_11ea_9585_0242ac1c0002row90_col0\" class=\"data row90 col0\" >77</td>\n",
              "            </tr>\n",
              "            <tr>\n",
              "                        <th id=\"T_03fe0532_b3e5_11ea_9585_0242ac1c0002level0_row91\" class=\"row_heading level0 row91\" >2020-06-19 00:00:00</th>\n",
              "                        <td id=\"T_03fe0532_b3e5_11ea_9585_0242ac1c0002row91_col0\" class=\"data row91 col0\" >539</td>\n",
              "            </tr>\n",
              "            <tr>\n",
              "                        <th id=\"T_03fe0532_b3e5_11ea_9585_0242ac1c0002level0_row92\" class=\"row_heading level0 row92\" >2020-06-20 00:00:00</th>\n",
              "                        <td id=\"T_03fe0532_b3e5_11ea_9585_0242ac1c0002row92_col0\" class=\"data row92 col0\" >226</td>\n",
              "            </tr>\n",
              "    </tbody></table>"
            ],
            "text/plain": [
              "<pandas.io.formats.style.Styler at 0x7fd0fdf226d8>"
            ]
          },
          "metadata": {
            "tags": []
          },
          "execution_count": 169
        }
      ]
    },
    {
      "cell_type": "code",
      "metadata": {
        "id": "6jy731ZGS0EN",
        "colab_type": "code",
        "colab": {
          "base_uri": "https://localhost:8080/",
          "height": 1000
        },
        "outputId": "1491708b-b20a-4ef2-fd90-aea1152e90da"
      },
      "source": [
        "import plotly.express as px\n",
        "import plotly.graph_objects as go\n",
        "\n",
        "\n",
        "fig = px.bar(my_data, x=my_data.index, y=\"New cases\", color='New cases', orientation='v', height=600,\n",
        "             title='Les cas confirmés', color_discrete_sequence = px.colors.cyclical.IceFire)\n",
        "fig.show()\n",
        "\n",
        "fig = go.Figure()\n",
        "fig.add_trace(go.Scatter(x=my_data.index, y = my_data['Confirmed'], mode= 'lines+markers',name='Total Cases', line=dict(color='#af8baf', width=2)))\n",
        "fig.add_trace(go.Scatter(x=my_data.index, y = my_data['Recovered'], mode='lines+markers',name='Recovered',line=dict(color='#32e0c4', width=2)))\n",
        "fig.add_trace(go.Scatter(x=my_data.index, y=my_data['Deaths'], mode='lines+markers', name='Deaths', line=dict(color='Red', width=2)))\n",
        "fig.update_layout(title_text='Les cas cumulés',plot_bgcolor='rgb(230, 230, 230)')\n",
        "\n",
        "fig.show()\n",
        "\n",
        "fig = go.Figure()\n",
        "fig.add_trace(go.Scatter(x=my_data.index, y = my_data['Actif'], mode= 'lines+markers',name='Total Cases'))\n",
        "fig.update_layout(title_text='Les cas actifs',plot_bgcolor='rgb(230, 230, 230)')\n",
        "fig.show()"
      ],
      "execution_count": 170,
      "outputs": [
        {
          "output_type": "display_data",
          "data": {
            "text/html": [
              "<html>\n",
              "<head><meta charset=\"utf-8\" /></head>\n",
              "<body>\n",
              "    <div>\n",
              "            <script src=\"https://cdnjs.cloudflare.com/ajax/libs/mathjax/2.7.5/MathJax.js?config=TeX-AMS-MML_SVG\"></script><script type=\"text/javascript\">if (window.MathJax) {MathJax.Hub.Config({SVG: {font: \"STIX-Web\"}});}</script>\n",
              "                <script type=\"text/javascript\">window.PlotlyConfig = {MathJaxConfig: 'local'};</script>\n",
              "        <script src=\"https://cdn.plot.ly/plotly-latest.min.js\"></script>    \n",
              "            <div id=\"bf1a5c7c-64db-43cd-938c-66cd03e09137\" class=\"plotly-graph-div\" style=\"height:600px; width:100%;\"></div>\n",
              "            <script type=\"text/javascript\">\n",
              "                \n",
              "                    window.PLOTLYENV=window.PLOTLYENV || {};\n",
              "                    \n",
              "                if (document.getElementById(\"bf1a5c7c-64db-43cd-938c-66cd03e09137\")) {\n",
              "                    Plotly.newPlot(\n",
              "                        'bf1a5c7c-64db-43cd-938c-66cd03e09137',\n",
              "                        [{\"alignmentgroup\": \"True\", \"hoverlabel\": {\"namelength\": 0}, \"hovertemplate\": \"x=%{x}<br>New cases=%{marker.color}\", \"legendgroup\": \"\", \"marker\": {\"color\": [0, 10, 13, 34, 27, 55, 50, 70, 57, 77, 77, 61, 37, 54, 83, 128, 102, 99, 64, 91, 99, 74, 97, 116, 102, 125, 136, 259, 281, 121, 170, 191, 163, 237, 122, 190, 139, 168, 55, 132, 69, 102, 146, 160, 174, 150, 166, 189, 140, 163, 199, 153, 218, 137, 94, 95, 45, 29, 189, 82, 71, 110, 78, 121, 74, 23, 103, 45, 24, 42, 71, 66, 27, 26, 33, 56, 81, 68, 80, 73, 78, 135, 71, 29, 73, 82, 101, 92, 46, 66, 77, 539, 226], \"coloraxis\": \"coloraxis\"}, \"name\": \"\", \"offsetgroup\": \"\", \"orientation\": \"v\", \"showlegend\": false, \"textposition\": \"auto\", \"type\": \"bar\", \"x\": [\"2020-03-20T00:00:00\", \"2020-03-21T00:00:00\", \"2020-03-22T00:00:00\", \"2020-03-23T00:00:00\", \"2020-03-24T00:00:00\", \"2020-03-25T00:00:00\", \"2020-03-26T00:00:00\", \"2020-03-27T00:00:00\", \"2020-03-28T00:00:00\", \"2020-03-29T00:00:00\", \"2020-03-30T00:00:00\", \"2020-03-31T00:00:00\", \"2020-04-01T00:00:00\", \"2020-04-02T00:00:00\", \"2020-04-03T00:00:00\", \"2020-04-04T00:00:00\", \"2020-04-05T00:00:00\", \"2020-04-06T00:00:00\", \"2020-04-07T00:00:00\", \"2020-04-08T00:00:00\", \"2020-04-09T00:00:00\", \"2020-04-10T00:00:00\", \"2020-04-11T00:00:00\", \"2020-04-12T00:00:00\", \"2020-04-13T00:00:00\", \"2020-04-14T00:00:00\", \"2020-04-15T00:00:00\", \"2020-04-16T00:00:00\", \"2020-04-17T00:00:00\", \"2020-04-18T00:00:00\", \"2020-04-19T00:00:00\", \"2020-04-20T00:00:00\", \"2020-04-21T00:00:00\", \"2020-04-22T00:00:00\", \"2020-04-23T00:00:00\", \"2020-04-24T00:00:00\", \"2020-04-25T00:00:00\", \"2020-04-26T00:00:00\", \"2020-04-27T00:00:00\", \"2020-04-28T00:00:00\", \"2020-04-29T00:00:00\", \"2020-04-30T00:00:00\", \"2020-05-01T00:00:00\", \"2020-05-02T00:00:00\", \"2020-05-03T00:00:00\", \"2020-05-04T00:00:00\", \"2020-05-05T00:00:00\", \"2020-05-06T00:00:00\", \"2020-05-07T00:00:00\", \"2020-05-08T00:00:00\", \"2020-05-09T00:00:00\", \"2020-05-10T00:00:00\", \"2020-05-11T00:00:00\", \"2020-05-12T00:00:00\", \"2020-05-13T00:00:00\", \"2020-05-14T00:00:00\", \"2020-05-15T00:00:00\", \"2020-05-16T00:00:00\", \"2020-05-17T00:00:00\", \"2020-05-18T00:00:00\", \"2020-05-19T00:00:00\", \"2020-05-20T00:00:00\", \"2020-05-21T00:00:00\", \"2020-05-22T00:00:00\", \"2020-05-23T00:00:00\", \"2020-05-24T00:00:00\", \"2020-05-25T00:00:00\", \"2020-05-26T00:00:00\", \"2020-05-27T00:00:00\", \"2020-05-28T00:00:00\", \"2020-05-29T00:00:00\", \"2020-05-30T00:00:00\", \"2020-05-31T00:00:00\", \"2020-06-01T00:00:00\", \"2020-06-02T00:00:00\", \"2020-06-03T00:00:00\", \"2020-06-04T00:00:00\", \"2020-06-05T00:00:00\", \"2020-06-06T00:00:00\", \"2020-06-07T00:00:00\", \"2020-06-08T00:00:00\", \"2020-06-09T00:00:00\", \"2020-06-10T00:00:00\", \"2020-06-11T00:00:00\", \"2020-06-12T00:00:00\", \"2020-06-13T00:00:00\", \"2020-06-14T00:00:00\", \"2020-06-15T00:00:00\", \"2020-06-16T00:00:00\", \"2020-06-17T00:00:00\", \"2020-06-18T00:00:00\", \"2020-06-19T00:00:00\", \"2020-06-20T00:00:00\"], \"xaxis\": \"x\", \"y\": [0, 10, 13, 34, 27, 55, 50, 70, 57, 77, 77, 61, 37, 54, 83, 128, 102, 99, 64, 91, 99, 74, 97, 116, 102, 125, 136, 259, 281, 121, 170, 191, 163, 237, 122, 190, 139, 168, 55, 132, 69, 102, 146, 160, 174, 150, 166, 189, 140, 163, 199, 153, 218, 137, 94, 95, 45, 29, 189, 82, 71, 110, 78, 121, 74, 23, 103, 45, 24, 42, 71, 66, 27, 26, 33, 56, 81, 68, 80, 73, 78, 135, 71, 29, 73, 82, 101, 92, 46, 66, 77, 539, 226], \"yaxis\": \"y\"}],\n",
              "                        {\"barmode\": \"relative\", \"coloraxis\": {\"colorbar\": {\"title\": {\"text\": \"New cases\"}}, \"colorscale\": [[0.0, \"#0d0887\"], [0.1111111111111111, \"#46039f\"], [0.2222222222222222, \"#7201a8\"], [0.3333333333333333, \"#9c179e\"], [0.4444444444444444, \"#bd3786\"], [0.5555555555555556, \"#d8576b\"], [0.6666666666666666, \"#ed7953\"], [0.7777777777777778, \"#fb9f3a\"], [0.8888888888888888, \"#fdca26\"], [1.0, \"#f0f921\"]]}, \"height\": 600, \"legend\": {\"tracegroupgap\": 0}, \"template\": {\"data\": {\"bar\": [{\"error_x\": {\"color\": \"#2a3f5f\"}, \"error_y\": {\"color\": \"#2a3f5f\"}, \"marker\": {\"line\": {\"color\": \"#E5ECF6\", \"width\": 0.5}}, \"type\": \"bar\"}], \"barpolar\": [{\"marker\": {\"line\": {\"color\": \"#E5ECF6\", \"width\": 0.5}}, \"type\": \"barpolar\"}], \"carpet\": [{\"aaxis\": {\"endlinecolor\": \"#2a3f5f\", \"gridcolor\": \"white\", \"linecolor\": \"white\", \"minorgridcolor\": \"white\", \"startlinecolor\": \"#2a3f5f\"}, \"baxis\": {\"endlinecolor\": \"#2a3f5f\", \"gridcolor\": \"white\", \"linecolor\": \"white\", \"minorgridcolor\": \"white\", \"startlinecolor\": \"#2a3f5f\"}, \"type\": \"carpet\"}], \"choropleth\": [{\"colorbar\": {\"outlinewidth\": 0, \"ticks\": \"\"}, \"type\": \"choropleth\"}], \"contour\": [{\"colorbar\": {\"outlinewidth\": 0, \"ticks\": \"\"}, \"colorscale\": [[0.0, \"#0d0887\"], [0.1111111111111111, \"#46039f\"], [0.2222222222222222, \"#7201a8\"], [0.3333333333333333, \"#9c179e\"], [0.4444444444444444, \"#bd3786\"], [0.5555555555555556, \"#d8576b\"], [0.6666666666666666, \"#ed7953\"], [0.7777777777777778, \"#fb9f3a\"], [0.8888888888888888, \"#fdca26\"], [1.0, \"#f0f921\"]], \"type\": \"contour\"}], \"contourcarpet\": [{\"colorbar\": {\"outlinewidth\": 0, \"ticks\": \"\"}, \"type\": \"contourcarpet\"}], \"heatmap\": [{\"colorbar\": {\"outlinewidth\": 0, \"ticks\": \"\"}, \"colorscale\": [[0.0, \"#0d0887\"], [0.1111111111111111, \"#46039f\"], [0.2222222222222222, \"#7201a8\"], [0.3333333333333333, \"#9c179e\"], [0.4444444444444444, \"#bd3786\"], [0.5555555555555556, \"#d8576b\"], [0.6666666666666666, \"#ed7953\"], [0.7777777777777778, \"#fb9f3a\"], [0.8888888888888888, \"#fdca26\"], [1.0, \"#f0f921\"]], \"type\": \"heatmap\"}], \"heatmapgl\": [{\"colorbar\": {\"outlinewidth\": 0, \"ticks\": \"\"}, \"colorscale\": [[0.0, \"#0d0887\"], [0.1111111111111111, \"#46039f\"], [0.2222222222222222, \"#7201a8\"], [0.3333333333333333, \"#9c179e\"], [0.4444444444444444, \"#bd3786\"], [0.5555555555555556, \"#d8576b\"], [0.6666666666666666, \"#ed7953\"], [0.7777777777777778, \"#fb9f3a\"], [0.8888888888888888, \"#fdca26\"], [1.0, \"#f0f921\"]], \"type\": \"heatmapgl\"}], \"histogram\": [{\"marker\": {\"colorbar\": {\"outlinewidth\": 0, \"ticks\": \"\"}}, \"type\": \"histogram\"}], \"histogram2d\": [{\"colorbar\": {\"outlinewidth\": 0, \"ticks\": \"\"}, \"colorscale\": [[0.0, \"#0d0887\"], [0.1111111111111111, \"#46039f\"], [0.2222222222222222, \"#7201a8\"], [0.3333333333333333, \"#9c179e\"], [0.4444444444444444, \"#bd3786\"], [0.5555555555555556, \"#d8576b\"], [0.6666666666666666, \"#ed7953\"], [0.7777777777777778, \"#fb9f3a\"], [0.8888888888888888, \"#fdca26\"], [1.0, \"#f0f921\"]], \"type\": \"histogram2d\"}], \"histogram2dcontour\": [{\"colorbar\": {\"outlinewidth\": 0, \"ticks\": \"\"}, \"colorscale\": [[0.0, \"#0d0887\"], [0.1111111111111111, \"#46039f\"], [0.2222222222222222, \"#7201a8\"], [0.3333333333333333, \"#9c179e\"], [0.4444444444444444, \"#bd3786\"], [0.5555555555555556, \"#d8576b\"], [0.6666666666666666, \"#ed7953\"], [0.7777777777777778, \"#fb9f3a\"], [0.8888888888888888, \"#fdca26\"], [1.0, \"#f0f921\"]], \"type\": \"histogram2dcontour\"}], \"mesh3d\": [{\"colorbar\": {\"outlinewidth\": 0, \"ticks\": \"\"}, \"type\": \"mesh3d\"}], \"parcoords\": [{\"line\": {\"colorbar\": {\"outlinewidth\": 0, \"ticks\": \"\"}}, \"type\": \"parcoords\"}], \"pie\": [{\"automargin\": true, \"type\": \"pie\"}], \"scatter\": [{\"marker\": {\"colorbar\": {\"outlinewidth\": 0, \"ticks\": \"\"}}, \"type\": \"scatter\"}], \"scatter3d\": [{\"line\": {\"colorbar\": {\"outlinewidth\": 0, \"ticks\": \"\"}}, \"marker\": {\"colorbar\": {\"outlinewidth\": 0, \"ticks\": \"\"}}, \"type\": \"scatter3d\"}], \"scattercarpet\": [{\"marker\": {\"colorbar\": {\"outlinewidth\": 0, \"ticks\": \"\"}}, \"type\": \"scattercarpet\"}], \"scattergeo\": [{\"marker\": {\"colorbar\": {\"outlinewidth\": 0, \"ticks\": \"\"}}, \"type\": \"scattergeo\"}], \"scattergl\": [{\"marker\": {\"colorbar\": {\"outlinewidth\": 0, \"ticks\": \"\"}}, \"type\": \"scattergl\"}], \"scattermapbox\": [{\"marker\": {\"colorbar\": {\"outlinewidth\": 0, \"ticks\": \"\"}}, \"type\": \"scattermapbox\"}], \"scatterpolar\": [{\"marker\": {\"colorbar\": {\"outlinewidth\": 0, \"ticks\": \"\"}}, \"type\": \"scatterpolar\"}], \"scatterpolargl\": [{\"marker\": {\"colorbar\": {\"outlinewidth\": 0, \"ticks\": \"\"}}, \"type\": \"scatterpolargl\"}], \"scatterternary\": [{\"marker\": {\"colorbar\": {\"outlinewidth\": 0, \"ticks\": \"\"}}, \"type\": \"scatterternary\"}], \"surface\": [{\"colorbar\": {\"outlinewidth\": 0, \"ticks\": \"\"}, \"colorscale\": [[0.0, \"#0d0887\"], [0.1111111111111111, \"#46039f\"], [0.2222222222222222, \"#7201a8\"], [0.3333333333333333, \"#9c179e\"], [0.4444444444444444, \"#bd3786\"], [0.5555555555555556, \"#d8576b\"], [0.6666666666666666, \"#ed7953\"], [0.7777777777777778, \"#fb9f3a\"], [0.8888888888888888, \"#fdca26\"], [1.0, \"#f0f921\"]], \"type\": \"surface\"}], \"table\": [{\"cells\": {\"fill\": {\"color\": \"#EBF0F8\"}, \"line\": {\"color\": \"white\"}}, \"header\": {\"fill\": {\"color\": \"#C8D4E3\"}, \"line\": {\"color\": \"white\"}}, \"type\": \"table\"}]}, \"layout\": {\"annotationdefaults\": {\"arrowcolor\": \"#2a3f5f\", \"arrowhead\": 0, \"arrowwidth\": 1}, \"coloraxis\": {\"colorbar\": {\"outlinewidth\": 0, \"ticks\": \"\"}}, \"colorscale\": {\"diverging\": [[0, \"#8e0152\"], [0.1, \"#c51b7d\"], [0.2, \"#de77ae\"], [0.3, \"#f1b6da\"], [0.4, \"#fde0ef\"], [0.5, \"#f7f7f7\"], [0.6, \"#e6f5d0\"], [0.7, \"#b8e186\"], [0.8, \"#7fbc41\"], [0.9, \"#4d9221\"], [1, \"#276419\"]], \"sequential\": [[0.0, \"#0d0887\"], [0.1111111111111111, \"#46039f\"], [0.2222222222222222, \"#7201a8\"], [0.3333333333333333, \"#9c179e\"], [0.4444444444444444, \"#bd3786\"], [0.5555555555555556, \"#d8576b\"], [0.6666666666666666, \"#ed7953\"], [0.7777777777777778, \"#fb9f3a\"], [0.8888888888888888, \"#fdca26\"], [1.0, \"#f0f921\"]], \"sequentialminus\": [[0.0, \"#0d0887\"], [0.1111111111111111, \"#46039f\"], [0.2222222222222222, \"#7201a8\"], [0.3333333333333333, \"#9c179e\"], [0.4444444444444444, \"#bd3786\"], [0.5555555555555556, \"#d8576b\"], [0.6666666666666666, \"#ed7953\"], [0.7777777777777778, \"#fb9f3a\"], [0.8888888888888888, \"#fdca26\"], [1.0, \"#f0f921\"]]}, \"colorway\": [\"#636efa\", \"#EF553B\", \"#00cc96\", \"#ab63fa\", \"#FFA15A\", \"#19d3f3\", \"#FF6692\", \"#B6E880\", \"#FF97FF\", \"#FECB52\"], \"font\": {\"color\": \"#2a3f5f\"}, \"geo\": {\"bgcolor\": \"white\", \"lakecolor\": \"white\", \"landcolor\": \"#E5ECF6\", \"showlakes\": true, \"showland\": true, \"subunitcolor\": \"white\"}, \"hoverlabel\": {\"align\": \"left\"}, \"hovermode\": \"closest\", \"mapbox\": {\"style\": \"light\"}, \"paper_bgcolor\": \"white\", \"plot_bgcolor\": \"#E5ECF6\", \"polar\": {\"angularaxis\": {\"gridcolor\": \"white\", \"linecolor\": \"white\", \"ticks\": \"\"}, \"bgcolor\": \"#E5ECF6\", \"radialaxis\": {\"gridcolor\": \"white\", \"linecolor\": \"white\", \"ticks\": \"\"}}, \"scene\": {\"xaxis\": {\"backgroundcolor\": \"#E5ECF6\", \"gridcolor\": \"white\", \"gridwidth\": 2, \"linecolor\": \"white\", \"showbackground\": true, \"ticks\": \"\", \"zerolinecolor\": \"white\"}, \"yaxis\": {\"backgroundcolor\": \"#E5ECF6\", \"gridcolor\": \"white\", \"gridwidth\": 2, \"linecolor\": \"white\", \"showbackground\": true, \"ticks\": \"\", \"zerolinecolor\": \"white\"}, \"zaxis\": {\"backgroundcolor\": \"#E5ECF6\", \"gridcolor\": \"white\", \"gridwidth\": 2, \"linecolor\": \"white\", \"showbackground\": true, \"ticks\": \"\", \"zerolinecolor\": \"white\"}}, \"shapedefaults\": {\"line\": {\"color\": \"#2a3f5f\"}}, \"ternary\": {\"aaxis\": {\"gridcolor\": \"white\", \"linecolor\": \"white\", \"ticks\": \"\"}, \"baxis\": {\"gridcolor\": \"white\", \"linecolor\": \"white\", \"ticks\": \"\"}, \"bgcolor\": \"#E5ECF6\", \"caxis\": {\"gridcolor\": \"white\", \"linecolor\": \"white\", \"ticks\": \"\"}}, \"title\": {\"x\": 0.05}, \"xaxis\": {\"automargin\": true, \"gridcolor\": \"white\", \"linecolor\": \"white\", \"ticks\": \"\", \"title\": {\"standoff\": 15}, \"zerolinecolor\": \"white\", \"zerolinewidth\": 2}, \"yaxis\": {\"automargin\": true, \"gridcolor\": \"white\", \"linecolor\": \"white\", \"ticks\": \"\", \"title\": {\"standoff\": 15}, \"zerolinecolor\": \"white\", \"zerolinewidth\": 2}}}, \"title\": {\"text\": \"Les cas confirm\\u00e9s\"}, \"xaxis\": {\"anchor\": \"y\", \"domain\": [0.0, 1.0], \"title\": {\"text\": \"x\"}}, \"yaxis\": {\"anchor\": \"x\", \"domain\": [0.0, 1.0], \"title\": {\"text\": \"New cases\"}}},\n",
              "                        {\"responsive\": true}\n",
              "                    ).then(function(){\n",
              "                            \n",
              "var gd = document.getElementById('bf1a5c7c-64db-43cd-938c-66cd03e09137');\n",
              "var x = new MutationObserver(function (mutations, observer) {{\n",
              "        var display = window.getComputedStyle(gd).display;\n",
              "        if (!display || display === 'none') {{\n",
              "            console.log([gd, 'removed!']);\n",
              "            Plotly.purge(gd);\n",
              "            observer.disconnect();\n",
              "        }}\n",
              "}});\n",
              "\n",
              "// Listen for the removal of the full notebook cells\n",
              "var notebookContainer = gd.closest('#notebook-container');\n",
              "if (notebookContainer) {{\n",
              "    x.observe(notebookContainer, {childList: true});\n",
              "}}\n",
              "\n",
              "// Listen for the clearing of the current output cell\n",
              "var outputEl = gd.closest('.output');\n",
              "if (outputEl) {{\n",
              "    x.observe(outputEl, {childList: true});\n",
              "}}\n",
              "\n",
              "                        })\n",
              "                };\n",
              "                \n",
              "            </script>\n",
              "        </div>\n",
              "</body>\n",
              "</html>"
            ]
          },
          "metadata": {
            "tags": []
          }
        },
        {
          "output_type": "display_data",
          "data": {
            "text/html": [
              "<html>\n",
              "<head><meta charset=\"utf-8\" /></head>\n",
              "<body>\n",
              "    <div>\n",
              "            <script src=\"https://cdnjs.cloudflare.com/ajax/libs/mathjax/2.7.5/MathJax.js?config=TeX-AMS-MML_SVG\"></script><script type=\"text/javascript\">if (window.MathJax) {MathJax.Hub.Config({SVG: {font: \"STIX-Web\"}});}</script>\n",
              "                <script type=\"text/javascript\">window.PlotlyConfig = {MathJaxConfig: 'local'};</script>\n",
              "        <script src=\"https://cdn.plot.ly/plotly-latest.min.js\"></script>    \n",
              "            <div id=\"bb4aab7d-ff14-4f4e-9293-944917132ff6\" class=\"plotly-graph-div\" style=\"height:525px; width:100%;\"></div>\n",
              "            <script type=\"text/javascript\">\n",
              "                \n",
              "                    window.PLOTLYENV=window.PLOTLYENV || {};\n",
              "                    \n",
              "                if (document.getElementById(\"bb4aab7d-ff14-4f4e-9293-944917132ff6\")) {\n",
              "                    Plotly.newPlot(\n",
              "                        'bb4aab7d-ff14-4f4e-9293-944917132ff6',\n",
              "                        [{\"line\": {\"color\": \"#af8baf\", \"width\": 2}, \"mode\": \"lines+markers\", \"name\": \"Total Cases\", \"type\": \"scatter\", \"x\": [\"2020-03-20T00:00:00\", \"2020-03-21T00:00:00\", \"2020-03-22T00:00:00\", \"2020-03-23T00:00:00\", \"2020-03-24T00:00:00\", \"2020-03-25T00:00:00\", \"2020-03-26T00:00:00\", \"2020-03-27T00:00:00\", \"2020-03-28T00:00:00\", \"2020-03-29T00:00:00\", \"2020-03-30T00:00:00\", \"2020-03-31T00:00:00\", \"2020-04-01T00:00:00\", \"2020-04-02T00:00:00\", \"2020-04-03T00:00:00\", \"2020-04-04T00:00:00\", \"2020-04-05T00:00:00\", \"2020-04-06T00:00:00\", \"2020-04-07T00:00:00\", \"2020-04-08T00:00:00\", \"2020-04-09T00:00:00\", \"2020-04-10T00:00:00\", \"2020-04-11T00:00:00\", \"2020-04-12T00:00:00\", \"2020-04-13T00:00:00\", \"2020-04-14T00:00:00\", \"2020-04-15T00:00:00\", \"2020-04-16T00:00:00\", \"2020-04-17T00:00:00\", \"2020-04-18T00:00:00\", \"2020-04-19T00:00:00\", \"2020-04-20T00:00:00\", \"2020-04-21T00:00:00\", \"2020-04-22T00:00:00\", \"2020-04-23T00:00:00\", \"2020-04-24T00:00:00\", \"2020-04-25T00:00:00\", \"2020-04-26T00:00:00\", \"2020-04-27T00:00:00\", \"2020-04-28T00:00:00\", \"2020-04-29T00:00:00\", \"2020-04-30T00:00:00\", \"2020-05-01T00:00:00\", \"2020-05-02T00:00:00\", \"2020-05-03T00:00:00\", \"2020-05-04T00:00:00\", \"2020-05-05T00:00:00\", \"2020-05-06T00:00:00\", \"2020-05-07T00:00:00\", \"2020-05-08T00:00:00\", \"2020-05-09T00:00:00\", \"2020-05-10T00:00:00\", \"2020-05-11T00:00:00\", \"2020-05-12T00:00:00\", \"2020-05-13T00:00:00\", \"2020-05-14T00:00:00\", \"2020-05-15T00:00:00\", \"2020-05-16T00:00:00\", \"2020-05-17T00:00:00\", \"2020-05-18T00:00:00\", \"2020-05-19T00:00:00\", \"2020-05-20T00:00:00\", \"2020-05-21T00:00:00\", \"2020-05-22T00:00:00\", \"2020-05-23T00:00:00\", \"2020-05-24T00:00:00\", \"2020-05-25T00:00:00\", \"2020-05-26T00:00:00\", \"2020-05-27T00:00:00\", \"2020-05-28T00:00:00\", \"2020-05-29T00:00:00\", \"2020-05-30T00:00:00\", \"2020-05-31T00:00:00\", \"2020-06-01T00:00:00\", \"2020-06-02T00:00:00\", \"2020-06-03T00:00:00\", \"2020-06-04T00:00:00\", \"2020-06-05T00:00:00\", \"2020-06-06T00:00:00\", \"2020-06-07T00:00:00\", \"2020-06-08T00:00:00\", \"2020-06-09T00:00:00\", \"2020-06-10T00:00:00\", \"2020-06-11T00:00:00\", \"2020-06-12T00:00:00\", \"2020-06-13T00:00:00\", \"2020-06-14T00:00:00\", \"2020-06-15T00:00:00\", \"2020-06-16T00:00:00\", \"2020-06-17T00:00:00\", \"2020-06-18T00:00:00\", \"2020-06-19T00:00:00\", \"2020-06-20T00:00:00\"], \"y\": [86, 96, 109, 143, 170, 225, 275, 345, 402, 479, 556, 617, 654, 708, 791, 919, 1021, 1120, 1184, 1275, 1374, 1448, 1545, 1661, 1763, 1888, 2024, 2283, 2564, 2685, 2855, 3046, 3209, 3446, 3568, 3758, 3897, 4065, 4120, 4252, 4321, 4423, 4569, 4729, 4903, 5053, 5219, 5408, 5548, 5711, 5910, 6063, 6281, 6418, 6512, 6607, 6652, 6681, 6870, 6952, 7023, 7133, 7211, 7332, 7406, 7429, 7532, 7577, 7601, 7643, 7714, 7780, 7807, 7833, 7866, 7922, 8003, 8071, 8151, 8224, 8302, 8437, 8508, 8537, 8610, 8692, 8793, 8885, 8931, 8997, 9074, 9613, 9839]}, {\"line\": {\"color\": \"#32e0c4\", \"width\": 2}, \"mode\": \"lines+markers\", \"name\": \"Recovered\", \"type\": \"scatter\", \"x\": [\"2020-03-20T00:00:00\", \"2020-03-21T00:00:00\", \"2020-03-22T00:00:00\", \"2020-03-23T00:00:00\", \"2020-03-24T00:00:00\", \"2020-03-25T00:00:00\", \"2020-03-26T00:00:00\", \"2020-03-27T00:00:00\", \"2020-03-28T00:00:00\", \"2020-03-29T00:00:00\", \"2020-03-30T00:00:00\", \"2020-03-31T00:00:00\", \"2020-04-01T00:00:00\", \"2020-04-02T00:00:00\", \"2020-04-03T00:00:00\", \"2020-04-04T00:00:00\", \"2020-04-05T00:00:00\", \"2020-04-06T00:00:00\", \"2020-04-07T00:00:00\", \"2020-04-08T00:00:00\", \"2020-04-09T00:00:00\", \"2020-04-10T00:00:00\", \"2020-04-11T00:00:00\", \"2020-04-12T00:00:00\", \"2020-04-13T00:00:00\", \"2020-04-14T00:00:00\", \"2020-04-15T00:00:00\", \"2020-04-16T00:00:00\", \"2020-04-17T00:00:00\", \"2020-04-18T00:00:00\", \"2020-04-19T00:00:00\", \"2020-04-20T00:00:00\", \"2020-04-21T00:00:00\", \"2020-04-22T00:00:00\", \"2020-04-23T00:00:00\", \"2020-04-24T00:00:00\", \"2020-04-25T00:00:00\", \"2020-04-26T00:00:00\", \"2020-04-27T00:00:00\", \"2020-04-28T00:00:00\", \"2020-04-29T00:00:00\", \"2020-04-30T00:00:00\", \"2020-05-01T00:00:00\", \"2020-05-02T00:00:00\", \"2020-05-03T00:00:00\", \"2020-05-04T00:00:00\", \"2020-05-05T00:00:00\", \"2020-05-06T00:00:00\", \"2020-05-07T00:00:00\", \"2020-05-08T00:00:00\", \"2020-05-09T00:00:00\", \"2020-05-10T00:00:00\", \"2020-05-11T00:00:00\", \"2020-05-12T00:00:00\", \"2020-05-13T00:00:00\", \"2020-05-14T00:00:00\", \"2020-05-15T00:00:00\", \"2020-05-16T00:00:00\", \"2020-05-17T00:00:00\", \"2020-05-18T00:00:00\", \"2020-05-19T00:00:00\", \"2020-05-20T00:00:00\", \"2020-05-21T00:00:00\", \"2020-05-22T00:00:00\", \"2020-05-23T00:00:00\", \"2020-05-24T00:00:00\", \"2020-05-25T00:00:00\", \"2020-05-26T00:00:00\", \"2020-05-27T00:00:00\", \"2020-05-28T00:00:00\", \"2020-05-29T00:00:00\", \"2020-05-30T00:00:00\", \"2020-05-31T00:00:00\", \"2020-06-01T00:00:00\", \"2020-06-02T00:00:00\", \"2020-06-03T00:00:00\", \"2020-06-04T00:00:00\", \"2020-06-05T00:00:00\", \"2020-06-06T00:00:00\", \"2020-06-07T00:00:00\", \"2020-06-08T00:00:00\", \"2020-06-09T00:00:00\", \"2020-06-10T00:00:00\", \"2020-06-11T00:00:00\", \"2020-06-12T00:00:00\", \"2020-06-13T00:00:00\", \"2020-06-14T00:00:00\", \"2020-06-15T00:00:00\", \"2020-06-16T00:00:00\", \"2020-06-17T00:00:00\", \"2020-06-18T00:00:00\", \"2020-06-19T00:00:00\", \"2020-06-20T00:00:00\"], \"y\": [0, 0, 3, 5, 6, 7, 8, 11, 11, 13, 15, 24, 29, 31, 57, 66, 76, 81, 93, 97, 109, 122, 146, 177, 203, 217, 229, 249, 281, 314, 327, 350, 393, 417, 456, 486, 537, 593, 695, 778, 928, 984, 1083, 1256, 1438, 1653, 1838, 2017, 2179, 2324, 2461, 2554, 2811, 2991, 3131, 3310, 3400, 3475, 3660, 3758, 3901, 4098, 4280, 4377, 4638, 4686, 4774, 4881, 4978, 5196, 5271, 5401, 5459, 5893, 6410, 6866, 7195, 7268, 7315, 7364, 7408, 7493, 7565, 7583, 7618, 7696, 7765, 7828, 7973, 7993, 8041, 8117, 8223]}, {\"line\": {\"color\": \"Red\", \"width\": 2}, \"mode\": \"lines+markers\", \"name\": \"Deaths\", \"type\": \"scatter\", \"x\": [\"2020-03-20T00:00:00\", \"2020-03-21T00:00:00\", \"2020-03-22T00:00:00\", \"2020-03-23T00:00:00\", \"2020-03-24T00:00:00\", \"2020-03-25T00:00:00\", \"2020-03-26T00:00:00\", \"2020-03-27T00:00:00\", \"2020-03-28T00:00:00\", \"2020-03-29T00:00:00\", \"2020-03-30T00:00:00\", \"2020-03-31T00:00:00\", \"2020-04-01T00:00:00\", \"2020-04-02T00:00:00\", \"2020-04-03T00:00:00\", \"2020-04-04T00:00:00\", \"2020-04-05T00:00:00\", \"2020-04-06T00:00:00\", \"2020-04-07T00:00:00\", \"2020-04-08T00:00:00\", \"2020-04-09T00:00:00\", \"2020-04-10T00:00:00\", \"2020-04-11T00:00:00\", \"2020-04-12T00:00:00\", \"2020-04-13T00:00:00\", \"2020-04-14T00:00:00\", \"2020-04-15T00:00:00\", \"2020-04-16T00:00:00\", \"2020-04-17T00:00:00\", \"2020-04-18T00:00:00\", \"2020-04-19T00:00:00\", \"2020-04-20T00:00:00\", \"2020-04-21T00:00:00\", \"2020-04-22T00:00:00\", \"2020-04-23T00:00:00\", \"2020-04-24T00:00:00\", \"2020-04-25T00:00:00\", \"2020-04-26T00:00:00\", \"2020-04-27T00:00:00\", \"2020-04-28T00:00:00\", \"2020-04-29T00:00:00\", \"2020-04-30T00:00:00\", \"2020-05-01T00:00:00\", \"2020-05-02T00:00:00\", \"2020-05-03T00:00:00\", \"2020-05-04T00:00:00\", \"2020-05-05T00:00:00\", \"2020-05-06T00:00:00\", \"2020-05-07T00:00:00\", \"2020-05-08T00:00:00\", \"2020-05-09T00:00:00\", \"2020-05-10T00:00:00\", \"2020-05-11T00:00:00\", \"2020-05-12T00:00:00\", \"2020-05-13T00:00:00\", \"2020-05-14T00:00:00\", \"2020-05-15T00:00:00\", \"2020-05-16T00:00:00\", \"2020-05-17T00:00:00\", \"2020-05-18T00:00:00\", \"2020-05-19T00:00:00\", \"2020-05-20T00:00:00\", \"2020-05-21T00:00:00\", \"2020-05-22T00:00:00\", \"2020-05-23T00:00:00\", \"2020-05-24T00:00:00\", \"2020-05-25T00:00:00\", \"2020-05-26T00:00:00\", \"2020-05-27T00:00:00\", \"2020-05-28T00:00:00\", \"2020-05-29T00:00:00\", \"2020-05-30T00:00:00\", \"2020-05-31T00:00:00\", \"2020-06-01T00:00:00\", \"2020-06-02T00:00:00\", \"2020-06-03T00:00:00\", \"2020-06-04T00:00:00\", \"2020-06-05T00:00:00\", \"2020-06-06T00:00:00\", \"2020-06-07T00:00:00\", \"2020-06-08T00:00:00\", \"2020-06-09T00:00:00\", \"2020-06-10T00:00:00\", \"2020-06-11T00:00:00\", \"2020-06-12T00:00:00\", \"2020-06-13T00:00:00\", \"2020-06-14T00:00:00\", \"2020-06-15T00:00:00\", \"2020-06-16T00:00:00\", \"2020-06-17T00:00:00\", \"2020-06-18T00:00:00\", \"2020-06-19T00:00:00\", \"2020-06-20T00:00:00\"], \"y\": [0, 0, 4, 4, 5, 6, 10, 23, 25, 26, 33, 36, 39, 44, 48, 59, 70, 80, 90, 93, 97, 107, 111, 118, 126, 126, 127, 130, 135, 137, 141, 143, 145, 149, 155, 158, 159, 161, 162, 165, 168, 170, 171, 173, 174, 179, 181, 183, 183, 186, 186, 188, 188, 188, 188, 190, 190, 192, 192, 192, 193, 194, 196, 197, 198, 198, 200, 202, 202, 202, 202, 204, 205, 205, 206, 206, 208, 208, 208, 208, 208, 210, 211, 211, 212, 212, 212, 212, 212, 213, 213, 213, 213]}],\n",
              "                        {\"plot_bgcolor\": \"rgb(230, 230, 230)\", \"template\": {\"data\": {\"bar\": [{\"error_x\": {\"color\": \"#2a3f5f\"}, \"error_y\": {\"color\": \"#2a3f5f\"}, \"marker\": {\"line\": {\"color\": \"#E5ECF6\", \"width\": 0.5}}, \"type\": \"bar\"}], \"barpolar\": [{\"marker\": {\"line\": {\"color\": \"#E5ECF6\", \"width\": 0.5}}, \"type\": \"barpolar\"}], \"carpet\": [{\"aaxis\": {\"endlinecolor\": \"#2a3f5f\", \"gridcolor\": \"white\", \"linecolor\": \"white\", \"minorgridcolor\": \"white\", \"startlinecolor\": \"#2a3f5f\"}, \"baxis\": {\"endlinecolor\": \"#2a3f5f\", \"gridcolor\": \"white\", \"linecolor\": \"white\", \"minorgridcolor\": \"white\", \"startlinecolor\": \"#2a3f5f\"}, \"type\": \"carpet\"}], \"choropleth\": [{\"colorbar\": {\"outlinewidth\": 0, \"ticks\": \"\"}, \"type\": \"choropleth\"}], \"contour\": [{\"colorbar\": {\"outlinewidth\": 0, \"ticks\": \"\"}, \"colorscale\": [[0.0, \"#0d0887\"], [0.1111111111111111, \"#46039f\"], [0.2222222222222222, \"#7201a8\"], [0.3333333333333333, \"#9c179e\"], [0.4444444444444444, \"#bd3786\"], [0.5555555555555556, \"#d8576b\"], [0.6666666666666666, \"#ed7953\"], [0.7777777777777778, \"#fb9f3a\"], [0.8888888888888888, \"#fdca26\"], [1.0, \"#f0f921\"]], \"type\": \"contour\"}], \"contourcarpet\": [{\"colorbar\": {\"outlinewidth\": 0, \"ticks\": \"\"}, \"type\": \"contourcarpet\"}], \"heatmap\": [{\"colorbar\": {\"outlinewidth\": 0, \"ticks\": \"\"}, \"colorscale\": [[0.0, \"#0d0887\"], [0.1111111111111111, \"#46039f\"], [0.2222222222222222, \"#7201a8\"], [0.3333333333333333, \"#9c179e\"], [0.4444444444444444, \"#bd3786\"], [0.5555555555555556, \"#d8576b\"], [0.6666666666666666, \"#ed7953\"], [0.7777777777777778, \"#fb9f3a\"], [0.8888888888888888, \"#fdca26\"], [1.0, \"#f0f921\"]], \"type\": \"heatmap\"}], \"heatmapgl\": [{\"colorbar\": {\"outlinewidth\": 0, \"ticks\": \"\"}, \"colorscale\": [[0.0, \"#0d0887\"], [0.1111111111111111, \"#46039f\"], [0.2222222222222222, \"#7201a8\"], [0.3333333333333333, \"#9c179e\"], [0.4444444444444444, \"#bd3786\"], [0.5555555555555556, \"#d8576b\"], [0.6666666666666666, \"#ed7953\"], [0.7777777777777778, \"#fb9f3a\"], [0.8888888888888888, \"#fdca26\"], [1.0, \"#f0f921\"]], \"type\": \"heatmapgl\"}], \"histogram\": [{\"marker\": {\"colorbar\": {\"outlinewidth\": 0, \"ticks\": \"\"}}, \"type\": \"histogram\"}], \"histogram2d\": [{\"colorbar\": {\"outlinewidth\": 0, \"ticks\": \"\"}, \"colorscale\": [[0.0, \"#0d0887\"], [0.1111111111111111, \"#46039f\"], [0.2222222222222222, \"#7201a8\"], [0.3333333333333333, \"#9c179e\"], [0.4444444444444444, \"#bd3786\"], [0.5555555555555556, \"#d8576b\"], [0.6666666666666666, \"#ed7953\"], [0.7777777777777778, \"#fb9f3a\"], [0.8888888888888888, \"#fdca26\"], [1.0, \"#f0f921\"]], \"type\": \"histogram2d\"}], \"histogram2dcontour\": [{\"colorbar\": {\"outlinewidth\": 0, \"ticks\": \"\"}, \"colorscale\": [[0.0, \"#0d0887\"], [0.1111111111111111, \"#46039f\"], [0.2222222222222222, \"#7201a8\"], [0.3333333333333333, \"#9c179e\"], [0.4444444444444444, \"#bd3786\"], [0.5555555555555556, \"#d8576b\"], [0.6666666666666666, \"#ed7953\"], [0.7777777777777778, \"#fb9f3a\"], [0.8888888888888888, \"#fdca26\"], [1.0, \"#f0f921\"]], \"type\": \"histogram2dcontour\"}], \"mesh3d\": [{\"colorbar\": {\"outlinewidth\": 0, \"ticks\": \"\"}, \"type\": \"mesh3d\"}], \"parcoords\": [{\"line\": {\"colorbar\": {\"outlinewidth\": 0, \"ticks\": \"\"}}, \"type\": \"parcoords\"}], \"pie\": [{\"automargin\": true, \"type\": \"pie\"}], \"scatter\": [{\"marker\": {\"colorbar\": {\"outlinewidth\": 0, \"ticks\": \"\"}}, \"type\": \"scatter\"}], \"scatter3d\": [{\"line\": {\"colorbar\": {\"outlinewidth\": 0, \"ticks\": \"\"}}, \"marker\": {\"colorbar\": {\"outlinewidth\": 0, \"ticks\": \"\"}}, \"type\": \"scatter3d\"}], \"scattercarpet\": [{\"marker\": {\"colorbar\": {\"outlinewidth\": 0, \"ticks\": \"\"}}, \"type\": \"scattercarpet\"}], \"scattergeo\": [{\"marker\": {\"colorbar\": {\"outlinewidth\": 0, \"ticks\": \"\"}}, \"type\": \"scattergeo\"}], \"scattergl\": [{\"marker\": {\"colorbar\": {\"outlinewidth\": 0, \"ticks\": \"\"}}, \"type\": \"scattergl\"}], \"scattermapbox\": [{\"marker\": {\"colorbar\": {\"outlinewidth\": 0, \"ticks\": \"\"}}, \"type\": \"scattermapbox\"}], \"scatterpolar\": [{\"marker\": {\"colorbar\": {\"outlinewidth\": 0, \"ticks\": \"\"}}, \"type\": \"scatterpolar\"}], \"scatterpolargl\": [{\"marker\": {\"colorbar\": {\"outlinewidth\": 0, \"ticks\": \"\"}}, \"type\": \"scatterpolargl\"}], \"scatterternary\": [{\"marker\": {\"colorbar\": {\"outlinewidth\": 0, \"ticks\": \"\"}}, \"type\": \"scatterternary\"}], \"surface\": [{\"colorbar\": {\"outlinewidth\": 0, \"ticks\": \"\"}, \"colorscale\": [[0.0, \"#0d0887\"], [0.1111111111111111, \"#46039f\"], [0.2222222222222222, \"#7201a8\"], [0.3333333333333333, \"#9c179e\"], [0.4444444444444444, \"#bd3786\"], [0.5555555555555556, \"#d8576b\"], [0.6666666666666666, \"#ed7953\"], [0.7777777777777778, \"#fb9f3a\"], [0.8888888888888888, \"#fdca26\"], [1.0, \"#f0f921\"]], \"type\": \"surface\"}], \"table\": [{\"cells\": {\"fill\": {\"color\": \"#EBF0F8\"}, \"line\": {\"color\": \"white\"}}, \"header\": {\"fill\": {\"color\": \"#C8D4E3\"}, \"line\": {\"color\": \"white\"}}, \"type\": \"table\"}]}, \"layout\": {\"annotationdefaults\": {\"arrowcolor\": \"#2a3f5f\", \"arrowhead\": 0, \"arrowwidth\": 1}, \"coloraxis\": {\"colorbar\": {\"outlinewidth\": 0, \"ticks\": \"\"}}, \"colorscale\": {\"diverging\": [[0, \"#8e0152\"], [0.1, \"#c51b7d\"], [0.2, \"#de77ae\"], [0.3, \"#f1b6da\"], [0.4, \"#fde0ef\"], [0.5, \"#f7f7f7\"], [0.6, \"#e6f5d0\"], [0.7, \"#b8e186\"], [0.8, \"#7fbc41\"], [0.9, \"#4d9221\"], [1, \"#276419\"]], \"sequential\": [[0.0, \"#0d0887\"], [0.1111111111111111, \"#46039f\"], [0.2222222222222222, \"#7201a8\"], [0.3333333333333333, \"#9c179e\"], [0.4444444444444444, \"#bd3786\"], [0.5555555555555556, \"#d8576b\"], [0.6666666666666666, \"#ed7953\"], [0.7777777777777778, \"#fb9f3a\"], [0.8888888888888888, \"#fdca26\"], [1.0, \"#f0f921\"]], \"sequentialminus\": [[0.0, \"#0d0887\"], [0.1111111111111111, \"#46039f\"], [0.2222222222222222, \"#7201a8\"], [0.3333333333333333, \"#9c179e\"], [0.4444444444444444, \"#bd3786\"], [0.5555555555555556, \"#d8576b\"], [0.6666666666666666, \"#ed7953\"], [0.7777777777777778, \"#fb9f3a\"], [0.8888888888888888, \"#fdca26\"], [1.0, \"#f0f921\"]]}, \"colorway\": [\"#636efa\", \"#EF553B\", \"#00cc96\", \"#ab63fa\", \"#FFA15A\", \"#19d3f3\", \"#FF6692\", \"#B6E880\", \"#FF97FF\", \"#FECB52\"], \"font\": {\"color\": \"#2a3f5f\"}, \"geo\": {\"bgcolor\": \"white\", \"lakecolor\": \"white\", \"landcolor\": \"#E5ECF6\", \"showlakes\": true, \"showland\": true, \"subunitcolor\": \"white\"}, \"hoverlabel\": {\"align\": \"left\"}, \"hovermode\": \"closest\", \"mapbox\": {\"style\": \"light\"}, \"paper_bgcolor\": \"white\", \"plot_bgcolor\": \"#E5ECF6\", \"polar\": {\"angularaxis\": {\"gridcolor\": \"white\", \"linecolor\": \"white\", \"ticks\": \"\"}, \"bgcolor\": \"#E5ECF6\", \"radialaxis\": {\"gridcolor\": \"white\", \"linecolor\": \"white\", \"ticks\": \"\"}}, \"scene\": {\"xaxis\": {\"backgroundcolor\": \"#E5ECF6\", \"gridcolor\": \"white\", \"gridwidth\": 2, \"linecolor\": \"white\", \"showbackground\": true, \"ticks\": \"\", \"zerolinecolor\": \"white\"}, \"yaxis\": {\"backgroundcolor\": \"#E5ECF6\", \"gridcolor\": \"white\", \"gridwidth\": 2, \"linecolor\": \"white\", \"showbackground\": true, \"ticks\": \"\", \"zerolinecolor\": \"white\"}, \"zaxis\": {\"backgroundcolor\": \"#E5ECF6\", \"gridcolor\": \"white\", \"gridwidth\": 2, \"linecolor\": \"white\", \"showbackground\": true, \"ticks\": \"\", \"zerolinecolor\": \"white\"}}, \"shapedefaults\": {\"line\": {\"color\": \"#2a3f5f\"}}, \"ternary\": {\"aaxis\": {\"gridcolor\": \"white\", \"linecolor\": \"white\", \"ticks\": \"\"}, \"baxis\": {\"gridcolor\": \"white\", \"linecolor\": \"white\", \"ticks\": \"\"}, \"bgcolor\": \"#E5ECF6\", \"caxis\": {\"gridcolor\": \"white\", \"linecolor\": \"white\", \"ticks\": \"\"}}, \"title\": {\"x\": 0.05}, \"xaxis\": {\"automargin\": true, \"gridcolor\": \"white\", \"linecolor\": \"white\", \"ticks\": \"\", \"title\": {\"standoff\": 15}, \"zerolinecolor\": \"white\", \"zerolinewidth\": 2}, \"yaxis\": {\"automargin\": true, \"gridcolor\": \"white\", \"linecolor\": \"white\", \"ticks\": \"\", \"title\": {\"standoff\": 15}, \"zerolinecolor\": \"white\", \"zerolinewidth\": 2}}}, \"title\": {\"text\": \"Les cas cumul\\u00e9s\"}},\n",
              "                        {\"responsive\": true}\n",
              "                    ).then(function(){\n",
              "                            \n",
              "var gd = document.getElementById('bb4aab7d-ff14-4f4e-9293-944917132ff6');\n",
              "var x = new MutationObserver(function (mutations, observer) {{\n",
              "        var display = window.getComputedStyle(gd).display;\n",
              "        if (!display || display === 'none') {{\n",
              "            console.log([gd, 'removed!']);\n",
              "            Plotly.purge(gd);\n",
              "            observer.disconnect();\n",
              "        }}\n",
              "}});\n",
              "\n",
              "// Listen for the removal of the full notebook cells\n",
              "var notebookContainer = gd.closest('#notebook-container');\n",
              "if (notebookContainer) {{\n",
              "    x.observe(notebookContainer, {childList: true});\n",
              "}}\n",
              "\n",
              "// Listen for the clearing of the current output cell\n",
              "var outputEl = gd.closest('.output');\n",
              "if (outputEl) {{\n",
              "    x.observe(outputEl, {childList: true});\n",
              "}}\n",
              "\n",
              "                        })\n",
              "                };\n",
              "                \n",
              "            </script>\n",
              "        </div>\n",
              "</body>\n",
              "</html>"
            ]
          },
          "metadata": {
            "tags": []
          }
        },
        {
          "output_type": "display_data",
          "data": {
            "text/html": [
              "<html>\n",
              "<head><meta charset=\"utf-8\" /></head>\n",
              "<body>\n",
              "    <div>\n",
              "            <script src=\"https://cdnjs.cloudflare.com/ajax/libs/mathjax/2.7.5/MathJax.js?config=TeX-AMS-MML_SVG\"></script><script type=\"text/javascript\">if (window.MathJax) {MathJax.Hub.Config({SVG: {font: \"STIX-Web\"}});}</script>\n",
              "                <script type=\"text/javascript\">window.PlotlyConfig = {MathJaxConfig: 'local'};</script>\n",
              "        <script src=\"https://cdn.plot.ly/plotly-latest.min.js\"></script>    \n",
              "            <div id=\"17e2c734-0859-4da6-b8ca-07d9061ce0f8\" class=\"plotly-graph-div\" style=\"height:525px; width:100%;\"></div>\n",
              "            <script type=\"text/javascript\">\n",
              "                \n",
              "                    window.PLOTLYENV=window.PLOTLYENV || {};\n",
              "                    \n",
              "                if (document.getElementById(\"17e2c734-0859-4da6-b8ca-07d9061ce0f8\")) {\n",
              "                    Plotly.newPlot(\n",
              "                        '17e2c734-0859-4da6-b8ca-07d9061ce0f8',\n",
              "                        [{\"mode\": \"lines+markers\", \"name\": \"Total Cases\", \"type\": \"scatter\", \"x\": [\"2020-03-20T00:00:00\", \"2020-03-21T00:00:00\", \"2020-03-22T00:00:00\", \"2020-03-23T00:00:00\", \"2020-03-24T00:00:00\", \"2020-03-25T00:00:00\", \"2020-03-26T00:00:00\", \"2020-03-27T00:00:00\", \"2020-03-28T00:00:00\", \"2020-03-29T00:00:00\", \"2020-03-30T00:00:00\", \"2020-03-31T00:00:00\", \"2020-04-01T00:00:00\", \"2020-04-02T00:00:00\", \"2020-04-03T00:00:00\", \"2020-04-04T00:00:00\", \"2020-04-05T00:00:00\", \"2020-04-06T00:00:00\", \"2020-04-07T00:00:00\", \"2020-04-08T00:00:00\", \"2020-04-09T00:00:00\", \"2020-04-10T00:00:00\", \"2020-04-11T00:00:00\", \"2020-04-12T00:00:00\", \"2020-04-13T00:00:00\", \"2020-04-14T00:00:00\", \"2020-04-15T00:00:00\", \"2020-04-16T00:00:00\", \"2020-04-17T00:00:00\", \"2020-04-18T00:00:00\", \"2020-04-19T00:00:00\", \"2020-04-20T00:00:00\", \"2020-04-21T00:00:00\", \"2020-04-22T00:00:00\", \"2020-04-23T00:00:00\", \"2020-04-24T00:00:00\", \"2020-04-25T00:00:00\", \"2020-04-26T00:00:00\", \"2020-04-27T00:00:00\", \"2020-04-28T00:00:00\", \"2020-04-29T00:00:00\", \"2020-04-30T00:00:00\", \"2020-05-01T00:00:00\", \"2020-05-02T00:00:00\", \"2020-05-03T00:00:00\", \"2020-05-04T00:00:00\", \"2020-05-05T00:00:00\", \"2020-05-06T00:00:00\", \"2020-05-07T00:00:00\", \"2020-05-08T00:00:00\", \"2020-05-09T00:00:00\", \"2020-05-10T00:00:00\", \"2020-05-11T00:00:00\", \"2020-05-12T00:00:00\", \"2020-05-13T00:00:00\", \"2020-05-14T00:00:00\", \"2020-05-15T00:00:00\", \"2020-05-16T00:00:00\", \"2020-05-17T00:00:00\", \"2020-05-18T00:00:00\", \"2020-05-19T00:00:00\", \"2020-05-20T00:00:00\", \"2020-05-21T00:00:00\", \"2020-05-22T00:00:00\", \"2020-05-23T00:00:00\", \"2020-05-24T00:00:00\", \"2020-05-25T00:00:00\", \"2020-05-26T00:00:00\", \"2020-05-27T00:00:00\", \"2020-05-28T00:00:00\", \"2020-05-29T00:00:00\", \"2020-05-30T00:00:00\", \"2020-05-31T00:00:00\", \"2020-06-01T00:00:00\", \"2020-06-02T00:00:00\", \"2020-06-03T00:00:00\", \"2020-06-04T00:00:00\", \"2020-06-05T00:00:00\", \"2020-06-06T00:00:00\", \"2020-06-07T00:00:00\", \"2020-06-08T00:00:00\", \"2020-06-09T00:00:00\", \"2020-06-10T00:00:00\", \"2020-06-11T00:00:00\", \"2020-06-12T00:00:00\", \"2020-06-13T00:00:00\", \"2020-06-14T00:00:00\", \"2020-06-15T00:00:00\", \"2020-06-16T00:00:00\", \"2020-06-17T00:00:00\", \"2020-06-18T00:00:00\", \"2020-06-19T00:00:00\", \"2020-06-20T00:00:00\"], \"y\": [86, 96, 102, 134, 159, 212, 257, 311, 366, 440, 508, 557, 586, 633, 686, 794, 875, 959, 1001, 1085, 1168, 1219, 1288, 1366, 1434, 1545, 1668, 1904, 2148, 2234, 2387, 2553, 2671, 2880, 2957, 3114, 3201, 3311, 3263, 3309, 3225, 3269, 3315, 3300, 3291, 3221, 3200, 3208, 3186, 3201, 3263, 3321, 3282, 3239, 3193, 3107, 3062, 3014, 3018, 3002, 2929, 2841, 2735, 2758, 2570, 2545, 2558, 2494, 2421, 2245, 2241, 2175, 2143, 1735, 1250, 850, 600, 595, 628, 652, 686, 734, 732, 743, 780, 784, 816, 845, 746, 791, 820, 1283, 1403]}],\n",
              "                        {\"plot_bgcolor\": \"rgb(230, 230, 230)\", \"template\": {\"data\": {\"bar\": [{\"error_x\": {\"color\": \"#2a3f5f\"}, \"error_y\": {\"color\": \"#2a3f5f\"}, \"marker\": {\"line\": {\"color\": \"#E5ECF6\", \"width\": 0.5}}, \"type\": \"bar\"}], \"barpolar\": [{\"marker\": {\"line\": {\"color\": \"#E5ECF6\", \"width\": 0.5}}, \"type\": \"barpolar\"}], \"carpet\": [{\"aaxis\": {\"endlinecolor\": \"#2a3f5f\", \"gridcolor\": \"white\", \"linecolor\": \"white\", \"minorgridcolor\": \"white\", \"startlinecolor\": \"#2a3f5f\"}, \"baxis\": {\"endlinecolor\": \"#2a3f5f\", \"gridcolor\": \"white\", \"linecolor\": \"white\", \"minorgridcolor\": \"white\", \"startlinecolor\": \"#2a3f5f\"}, \"type\": \"carpet\"}], \"choropleth\": [{\"colorbar\": {\"outlinewidth\": 0, \"ticks\": \"\"}, \"type\": \"choropleth\"}], \"contour\": [{\"colorbar\": {\"outlinewidth\": 0, \"ticks\": \"\"}, \"colorscale\": [[0.0, \"#0d0887\"], [0.1111111111111111, \"#46039f\"], [0.2222222222222222, \"#7201a8\"], [0.3333333333333333, \"#9c179e\"], [0.4444444444444444, \"#bd3786\"], [0.5555555555555556, \"#d8576b\"], [0.6666666666666666, \"#ed7953\"], [0.7777777777777778, \"#fb9f3a\"], [0.8888888888888888, \"#fdca26\"], [1.0, \"#f0f921\"]], \"type\": \"contour\"}], \"contourcarpet\": [{\"colorbar\": {\"outlinewidth\": 0, \"ticks\": \"\"}, \"type\": \"contourcarpet\"}], \"heatmap\": [{\"colorbar\": {\"outlinewidth\": 0, \"ticks\": \"\"}, \"colorscale\": [[0.0, \"#0d0887\"], [0.1111111111111111, \"#46039f\"], [0.2222222222222222, \"#7201a8\"], [0.3333333333333333, \"#9c179e\"], [0.4444444444444444, \"#bd3786\"], [0.5555555555555556, \"#d8576b\"], [0.6666666666666666, \"#ed7953\"], [0.7777777777777778, \"#fb9f3a\"], [0.8888888888888888, \"#fdca26\"], [1.0, \"#f0f921\"]], \"type\": \"heatmap\"}], \"heatmapgl\": [{\"colorbar\": {\"outlinewidth\": 0, \"ticks\": \"\"}, \"colorscale\": [[0.0, \"#0d0887\"], [0.1111111111111111, \"#46039f\"], [0.2222222222222222, \"#7201a8\"], [0.3333333333333333, \"#9c179e\"], [0.4444444444444444, \"#bd3786\"], [0.5555555555555556, \"#d8576b\"], [0.6666666666666666, \"#ed7953\"], [0.7777777777777778, \"#fb9f3a\"], [0.8888888888888888, \"#fdca26\"], [1.0, \"#f0f921\"]], \"type\": \"heatmapgl\"}], \"histogram\": [{\"marker\": {\"colorbar\": {\"outlinewidth\": 0, \"ticks\": \"\"}}, \"type\": \"histogram\"}], \"histogram2d\": [{\"colorbar\": {\"outlinewidth\": 0, \"ticks\": \"\"}, \"colorscale\": [[0.0, \"#0d0887\"], [0.1111111111111111, \"#46039f\"], [0.2222222222222222, \"#7201a8\"], [0.3333333333333333, \"#9c179e\"], [0.4444444444444444, \"#bd3786\"], [0.5555555555555556, \"#d8576b\"], [0.6666666666666666, \"#ed7953\"], [0.7777777777777778, \"#fb9f3a\"], [0.8888888888888888, \"#fdca26\"], [1.0, \"#f0f921\"]], \"type\": \"histogram2d\"}], \"histogram2dcontour\": [{\"colorbar\": {\"outlinewidth\": 0, \"ticks\": \"\"}, \"colorscale\": [[0.0, \"#0d0887\"], [0.1111111111111111, \"#46039f\"], [0.2222222222222222, \"#7201a8\"], [0.3333333333333333, \"#9c179e\"], [0.4444444444444444, \"#bd3786\"], [0.5555555555555556, \"#d8576b\"], [0.6666666666666666, \"#ed7953\"], [0.7777777777777778, \"#fb9f3a\"], [0.8888888888888888, \"#fdca26\"], [1.0, \"#f0f921\"]], \"type\": \"histogram2dcontour\"}], \"mesh3d\": [{\"colorbar\": {\"outlinewidth\": 0, \"ticks\": \"\"}, \"type\": \"mesh3d\"}], \"parcoords\": [{\"line\": {\"colorbar\": {\"outlinewidth\": 0, \"ticks\": \"\"}}, \"type\": \"parcoords\"}], \"pie\": [{\"automargin\": true, \"type\": \"pie\"}], \"scatter\": [{\"marker\": {\"colorbar\": {\"outlinewidth\": 0, \"ticks\": \"\"}}, \"type\": \"scatter\"}], \"scatter3d\": [{\"line\": {\"colorbar\": {\"outlinewidth\": 0, \"ticks\": \"\"}}, \"marker\": {\"colorbar\": {\"outlinewidth\": 0, \"ticks\": \"\"}}, \"type\": \"scatter3d\"}], \"scattercarpet\": [{\"marker\": {\"colorbar\": {\"outlinewidth\": 0, \"ticks\": \"\"}}, \"type\": \"scattercarpet\"}], \"scattergeo\": [{\"marker\": {\"colorbar\": {\"outlinewidth\": 0, \"ticks\": \"\"}}, \"type\": \"scattergeo\"}], \"scattergl\": [{\"marker\": {\"colorbar\": {\"outlinewidth\": 0, \"ticks\": \"\"}}, \"type\": \"scattergl\"}], \"scattermapbox\": [{\"marker\": {\"colorbar\": {\"outlinewidth\": 0, \"ticks\": \"\"}}, \"type\": \"scattermapbox\"}], \"scatterpolar\": [{\"marker\": {\"colorbar\": {\"outlinewidth\": 0, \"ticks\": \"\"}}, \"type\": \"scatterpolar\"}], \"scatterpolargl\": [{\"marker\": {\"colorbar\": {\"outlinewidth\": 0, \"ticks\": \"\"}}, \"type\": \"scatterpolargl\"}], \"scatterternary\": [{\"marker\": {\"colorbar\": {\"outlinewidth\": 0, \"ticks\": \"\"}}, \"type\": \"scatterternary\"}], \"surface\": [{\"colorbar\": {\"outlinewidth\": 0, \"ticks\": \"\"}, \"colorscale\": [[0.0, \"#0d0887\"], [0.1111111111111111, \"#46039f\"], [0.2222222222222222, \"#7201a8\"], [0.3333333333333333, \"#9c179e\"], [0.4444444444444444, \"#bd3786\"], [0.5555555555555556, \"#d8576b\"], [0.6666666666666666, \"#ed7953\"], [0.7777777777777778, \"#fb9f3a\"], [0.8888888888888888, \"#fdca26\"], [1.0, \"#f0f921\"]], \"type\": \"surface\"}], \"table\": [{\"cells\": {\"fill\": {\"color\": \"#EBF0F8\"}, \"line\": {\"color\": \"white\"}}, \"header\": {\"fill\": {\"color\": \"#C8D4E3\"}, \"line\": {\"color\": \"white\"}}, \"type\": \"table\"}]}, \"layout\": {\"annotationdefaults\": {\"arrowcolor\": \"#2a3f5f\", \"arrowhead\": 0, \"arrowwidth\": 1}, \"coloraxis\": {\"colorbar\": {\"outlinewidth\": 0, \"ticks\": \"\"}}, \"colorscale\": {\"diverging\": [[0, \"#8e0152\"], [0.1, \"#c51b7d\"], [0.2, \"#de77ae\"], [0.3, \"#f1b6da\"], [0.4, \"#fde0ef\"], [0.5, \"#f7f7f7\"], [0.6, \"#e6f5d0\"], [0.7, \"#b8e186\"], [0.8, \"#7fbc41\"], [0.9, \"#4d9221\"], [1, \"#276419\"]], \"sequential\": [[0.0, \"#0d0887\"], [0.1111111111111111, \"#46039f\"], [0.2222222222222222, \"#7201a8\"], [0.3333333333333333, \"#9c179e\"], [0.4444444444444444, \"#bd3786\"], [0.5555555555555556, \"#d8576b\"], [0.6666666666666666, \"#ed7953\"], [0.7777777777777778, \"#fb9f3a\"], [0.8888888888888888, \"#fdca26\"], [1.0, \"#f0f921\"]], \"sequentialminus\": [[0.0, \"#0d0887\"], [0.1111111111111111, \"#46039f\"], [0.2222222222222222, \"#7201a8\"], [0.3333333333333333, \"#9c179e\"], [0.4444444444444444, \"#bd3786\"], [0.5555555555555556, \"#d8576b\"], [0.6666666666666666, \"#ed7953\"], [0.7777777777777778, \"#fb9f3a\"], [0.8888888888888888, \"#fdca26\"], [1.0, \"#f0f921\"]]}, \"colorway\": [\"#636efa\", \"#EF553B\", \"#00cc96\", \"#ab63fa\", \"#FFA15A\", \"#19d3f3\", \"#FF6692\", \"#B6E880\", \"#FF97FF\", \"#FECB52\"], \"font\": {\"color\": \"#2a3f5f\"}, \"geo\": {\"bgcolor\": \"white\", \"lakecolor\": \"white\", \"landcolor\": \"#E5ECF6\", \"showlakes\": true, \"showland\": true, \"subunitcolor\": \"white\"}, \"hoverlabel\": {\"align\": \"left\"}, \"hovermode\": \"closest\", \"mapbox\": {\"style\": \"light\"}, \"paper_bgcolor\": \"white\", \"plot_bgcolor\": \"#E5ECF6\", \"polar\": {\"angularaxis\": {\"gridcolor\": \"white\", \"linecolor\": \"white\", \"ticks\": \"\"}, \"bgcolor\": \"#E5ECF6\", \"radialaxis\": {\"gridcolor\": \"white\", \"linecolor\": \"white\", \"ticks\": \"\"}}, \"scene\": {\"xaxis\": {\"backgroundcolor\": \"#E5ECF6\", \"gridcolor\": \"white\", \"gridwidth\": 2, \"linecolor\": \"white\", \"showbackground\": true, \"ticks\": \"\", \"zerolinecolor\": \"white\"}, \"yaxis\": {\"backgroundcolor\": \"#E5ECF6\", \"gridcolor\": \"white\", \"gridwidth\": 2, \"linecolor\": \"white\", \"showbackground\": true, \"ticks\": \"\", \"zerolinecolor\": \"white\"}, \"zaxis\": {\"backgroundcolor\": \"#E5ECF6\", \"gridcolor\": \"white\", \"gridwidth\": 2, \"linecolor\": \"white\", \"showbackground\": true, \"ticks\": \"\", \"zerolinecolor\": \"white\"}}, \"shapedefaults\": {\"line\": {\"color\": \"#2a3f5f\"}}, \"ternary\": {\"aaxis\": {\"gridcolor\": \"white\", \"linecolor\": \"white\", \"ticks\": \"\"}, \"baxis\": {\"gridcolor\": \"white\", \"linecolor\": \"white\", \"ticks\": \"\"}, \"bgcolor\": \"#E5ECF6\", \"caxis\": {\"gridcolor\": \"white\", \"linecolor\": \"white\", \"ticks\": \"\"}}, \"title\": {\"x\": 0.05}, \"xaxis\": {\"automargin\": true, \"gridcolor\": \"white\", \"linecolor\": \"white\", \"ticks\": \"\", \"title\": {\"standoff\": 15}, \"zerolinecolor\": \"white\", \"zerolinewidth\": 2}, \"yaxis\": {\"automargin\": true, \"gridcolor\": \"white\", \"linecolor\": \"white\", \"ticks\": \"\", \"title\": {\"standoff\": 15}, \"zerolinecolor\": \"white\", \"zerolinewidth\": 2}}}, \"title\": {\"text\": \"Les cas actifs\"}},\n",
              "                        {\"responsive\": true}\n",
              "                    ).then(function(){\n",
              "                            \n",
              "var gd = document.getElementById('17e2c734-0859-4da6-b8ca-07d9061ce0f8');\n",
              "var x = new MutationObserver(function (mutations, observer) {{\n",
              "        var display = window.getComputedStyle(gd).display;\n",
              "        if (!display || display === 'none') {{\n",
              "            console.log([gd, 'removed!']);\n",
              "            Plotly.purge(gd);\n",
              "            observer.disconnect();\n",
              "        }}\n",
              "}});\n",
              "\n",
              "// Listen for the removal of the full notebook cells\n",
              "var notebookContainer = gd.closest('#notebook-container');\n",
              "if (notebookContainer) {{\n",
              "    x.observe(notebookContainer, {childList: true});\n",
              "}}\n",
              "\n",
              "// Listen for the clearing of the current output cell\n",
              "var outputEl = gd.closest('.output');\n",
              "if (outputEl) {{\n",
              "    x.observe(outputEl, {childList: true});\n",
              "}}\n",
              "\n",
              "                        })\n",
              "                };\n",
              "                \n",
              "            </script>\n",
              "        </div>\n",
              "</body>\n",
              "</html>"
            ]
          },
          "metadata": {
            "tags": []
          }
        }
      ]
    },
    {
      "cell_type": "markdown",
      "metadata": {
        "id": "YSpOXpBsTndd",
        "colab_type": "text"
      },
      "source": [
        "1. Prévoir les cas dans les 14 jours prochains\n"
      ]
    },
    {
      "cell_type": "code",
      "metadata": {
        "id": "lJ6nn9AcTQV-",
        "colab_type": "code",
        "colab": {}
      },
      "source": [
        "confirmed = my_data.groupby('Date').sum()['Confirmed'].reset_index()\n",
        "\n",
        "confirmed.columns = ['ds','y']"
      ],
      "execution_count": 171,
      "outputs": []
    },
    {
      "cell_type": "code",
      "metadata": {
        "id": "QEGRF8cPTp1z",
        "colab_type": "code",
        "colab": {
          "base_uri": "https://localhost:8080/",
          "height": 519
        },
        "outputId": "2720f4dc-7753-4870-a193-fc629b051bc1"
      },
      "source": [
        "m = Prophet(interval_width=0.95)\n",
        "m.fit(confirmed)\n",
        "future = m.make_future_dataframe(periods=14)\n",
        "future.tail(14)"
      ],
      "execution_count": 172,
      "outputs": [
        {
          "output_type": "stream",
          "text": [
            "INFO:fbprophet:Disabling yearly seasonality. Run prophet with yearly_seasonality=True to override this.\n",
            "INFO:fbprophet:Disabling daily seasonality. Run prophet with daily_seasonality=True to override this.\n"
          ],
          "name": "stderr"
        },
        {
          "output_type": "execute_result",
          "data": {
            "text/html": [
              "<div>\n",
              "<style scoped>\n",
              "    .dataframe tbody tr th:only-of-type {\n",
              "        vertical-align: middle;\n",
              "    }\n",
              "\n",
              "    .dataframe tbody tr th {\n",
              "        vertical-align: top;\n",
              "    }\n",
              "\n",
              "    .dataframe thead th {\n",
              "        text-align: right;\n",
              "    }\n",
              "</style>\n",
              "<table border=\"1\" class=\"dataframe\">\n",
              "  <thead>\n",
              "    <tr style=\"text-align: right;\">\n",
              "      <th></th>\n",
              "      <th>ds</th>\n",
              "    </tr>\n",
              "  </thead>\n",
              "  <tbody>\n",
              "    <tr>\n",
              "      <th>93</th>\n",
              "      <td>2020-06-21</td>\n",
              "    </tr>\n",
              "    <tr>\n",
              "      <th>94</th>\n",
              "      <td>2020-06-22</td>\n",
              "    </tr>\n",
              "    <tr>\n",
              "      <th>95</th>\n",
              "      <td>2020-06-23</td>\n",
              "    </tr>\n",
              "    <tr>\n",
              "      <th>96</th>\n",
              "      <td>2020-06-24</td>\n",
              "    </tr>\n",
              "    <tr>\n",
              "      <th>97</th>\n",
              "      <td>2020-06-25</td>\n",
              "    </tr>\n",
              "    <tr>\n",
              "      <th>98</th>\n",
              "      <td>2020-06-26</td>\n",
              "    </tr>\n",
              "    <tr>\n",
              "      <th>99</th>\n",
              "      <td>2020-06-27</td>\n",
              "    </tr>\n",
              "    <tr>\n",
              "      <th>100</th>\n",
              "      <td>2020-06-28</td>\n",
              "    </tr>\n",
              "    <tr>\n",
              "      <th>101</th>\n",
              "      <td>2020-06-29</td>\n",
              "    </tr>\n",
              "    <tr>\n",
              "      <th>102</th>\n",
              "      <td>2020-06-30</td>\n",
              "    </tr>\n",
              "    <tr>\n",
              "      <th>103</th>\n",
              "      <td>2020-07-01</td>\n",
              "    </tr>\n",
              "    <tr>\n",
              "      <th>104</th>\n",
              "      <td>2020-07-02</td>\n",
              "    </tr>\n",
              "    <tr>\n",
              "      <th>105</th>\n",
              "      <td>2020-07-03</td>\n",
              "    </tr>\n",
              "    <tr>\n",
              "      <th>106</th>\n",
              "      <td>2020-07-04</td>\n",
              "    </tr>\n",
              "  </tbody>\n",
              "</table>\n",
              "</div>"
            ],
            "text/plain": [
              "            ds\n",
              "93  2020-06-21\n",
              "94  2020-06-22\n",
              "95  2020-06-23\n",
              "96  2020-06-24\n",
              "97  2020-06-25\n",
              "98  2020-06-26\n",
              "99  2020-06-27\n",
              "100 2020-06-28\n",
              "101 2020-06-29\n",
              "102 2020-06-30\n",
              "103 2020-07-01\n",
              "104 2020-07-02\n",
              "105 2020-07-03\n",
              "106 2020-07-04"
            ]
          },
          "metadata": {
            "tags": []
          },
          "execution_count": 172
        }
      ]
    },
    {
      "cell_type": "code",
      "metadata": {
        "id": "-NSFcbst62k4",
        "colab_type": "code",
        "colab": {
          "base_uri": "https://localhost:8080/",
          "height": 204
        },
        "outputId": "f5641d7b-d270-4699-c649-5f5935b0d7f3"
      },
      "source": [
        "forecast = m.predict(future)\n",
        "forecast[['ds', 'yhat', 'yhat_lower', 'yhat_upper']].tail()"
      ],
      "execution_count": 173,
      "outputs": [
        {
          "output_type": "execute_result",
          "data": {
            "text/html": [
              "<div>\n",
              "<style scoped>\n",
              "    .dataframe tbody tr th:only-of-type {\n",
              "        vertical-align: middle;\n",
              "    }\n",
              "\n",
              "    .dataframe tbody tr th {\n",
              "        vertical-align: top;\n",
              "    }\n",
              "\n",
              "    .dataframe thead th {\n",
              "        text-align: right;\n",
              "    }\n",
              "</style>\n",
              "<table border=\"1\" class=\"dataframe\">\n",
              "  <thead>\n",
              "    <tr style=\"text-align: right;\">\n",
              "      <th></th>\n",
              "      <th>ds</th>\n",
              "      <th>yhat</th>\n",
              "      <th>yhat_lower</th>\n",
              "      <th>yhat_upper</th>\n",
              "    </tr>\n",
              "  </thead>\n",
              "  <tbody>\n",
              "    <tr>\n",
              "      <th>102</th>\n",
              "      <td>2020-06-30</td>\n",
              "      <td>10149.921823</td>\n",
              "      <td>9865.065045</td>\n",
              "      <td>10490.619564</td>\n",
              "    </tr>\n",
              "    <tr>\n",
              "      <th>103</th>\n",
              "      <td>2020-07-01</td>\n",
              "      <td>10220.825547</td>\n",
              "      <td>9903.352029</td>\n",
              "      <td>10572.352633</td>\n",
              "    </tr>\n",
              "    <tr>\n",
              "      <th>104</th>\n",
              "      <td>2020-07-02</td>\n",
              "      <td>10292.718366</td>\n",
              "      <td>9942.335731</td>\n",
              "      <td>10714.257035</td>\n",
              "    </tr>\n",
              "    <tr>\n",
              "      <th>105</th>\n",
              "      <td>2020-07-03</td>\n",
              "      <td>10428.924730</td>\n",
              "      <td>10014.264776</td>\n",
              "      <td>10878.327779</td>\n",
              "    </tr>\n",
              "    <tr>\n",
              "      <th>106</th>\n",
              "      <td>2020-07-04</td>\n",
              "      <td>10517.532310</td>\n",
              "      <td>10084.724771</td>\n",
              "      <td>11052.902117</td>\n",
              "    </tr>\n",
              "  </tbody>\n",
              "</table>\n",
              "</div>"
            ],
            "text/plain": [
              "            ds          yhat    yhat_lower    yhat_upper\n",
              "102 2020-06-30  10149.921823   9865.065045  10490.619564\n",
              "103 2020-07-01  10220.825547   9903.352029  10572.352633\n",
              "104 2020-07-02  10292.718366   9942.335731  10714.257035\n",
              "105 2020-07-03  10428.924730  10014.264776  10878.327779\n",
              "106 2020-07-04  10517.532310  10084.724771  11052.902117"
            ]
          },
          "metadata": {
            "tags": []
          },
          "execution_count": 173
        }
      ]
    },
    {
      "cell_type": "code",
      "metadata": {
        "id": "84hsDfGVUQ5E",
        "colab_type": "code",
        "colab": {
          "base_uri": "https://localhost:8080/",
          "height": 542
        },
        "outputId": "bf83d6a9-f8b4-45b5-dc3b-470de0d1848e"
      },
      "source": [
        "fig = go.Figure()\n",
        "fig.add_trace(go.Scatter(x=forecast.ds, y = abs(forecast['yhat'].round()), mode= 'lines+markers',name='Prédiction des cas par jour'))\n",
        "fig.add_trace(go.Scatter(x=my_data.index, y = my_data['Confirmed'], mode= 'lines+markers',name='Cas par jour'))"
      ],
      "execution_count": 174,
      "outputs": [
        {
          "output_type": "display_data",
          "data": {
            "text/html": [
              "<html>\n",
              "<head><meta charset=\"utf-8\" /></head>\n",
              "<body>\n",
              "    <div>\n",
              "            <script src=\"https://cdnjs.cloudflare.com/ajax/libs/mathjax/2.7.5/MathJax.js?config=TeX-AMS-MML_SVG\"></script><script type=\"text/javascript\">if (window.MathJax) {MathJax.Hub.Config({SVG: {font: \"STIX-Web\"}});}</script>\n",
              "                <script type=\"text/javascript\">window.PlotlyConfig = {MathJaxConfig: 'local'};</script>\n",
              "        <script src=\"https://cdn.plot.ly/plotly-latest.min.js\"></script>    \n",
              "            <div id=\"2122d2dd-e02f-4722-9c97-b58401fbf3b3\" class=\"plotly-graph-div\" style=\"height:525px; width:100%;\"></div>\n",
              "            <script type=\"text/javascript\">\n",
              "                \n",
              "                    window.PLOTLYENV=window.PLOTLYENV || {};\n",
              "                    \n",
              "                if (document.getElementById(\"2122d2dd-e02f-4722-9c97-b58401fbf3b3\")) {\n",
              "                    Plotly.newPlot(\n",
              "                        '2122d2dd-e02f-4722-9c97-b58401fbf3b3',\n",
              "                        [{\"mode\": \"lines+markers\", \"name\": \"Pr\\u00e9diction des cas par jour\", \"type\": \"scatter\", \"x\": [\"2020-03-20T00:00:00\", \"2020-03-21T00:00:00\", \"2020-03-22T00:00:00\", \"2020-03-23T00:00:00\", \"2020-03-24T00:00:00\", \"2020-03-25T00:00:00\", \"2020-03-26T00:00:00\", \"2020-03-27T00:00:00\", \"2020-03-28T00:00:00\", \"2020-03-29T00:00:00\", \"2020-03-30T00:00:00\", \"2020-03-31T00:00:00\", \"2020-04-01T00:00:00\", \"2020-04-02T00:00:00\", \"2020-04-03T00:00:00\", \"2020-04-04T00:00:00\", \"2020-04-05T00:00:00\", \"2020-04-06T00:00:00\", \"2020-04-07T00:00:00\", \"2020-04-08T00:00:00\", \"2020-04-09T00:00:00\", \"2020-04-10T00:00:00\", \"2020-04-11T00:00:00\", \"2020-04-12T00:00:00\", \"2020-04-13T00:00:00\", \"2020-04-14T00:00:00\", \"2020-04-15T00:00:00\", \"2020-04-16T00:00:00\", \"2020-04-17T00:00:00\", \"2020-04-18T00:00:00\", \"2020-04-19T00:00:00\", \"2020-04-20T00:00:00\", \"2020-04-21T00:00:00\", \"2020-04-22T00:00:00\", \"2020-04-23T00:00:00\", \"2020-04-24T00:00:00\", \"2020-04-25T00:00:00\", \"2020-04-26T00:00:00\", \"2020-04-27T00:00:00\", \"2020-04-28T00:00:00\", \"2020-04-29T00:00:00\", \"2020-04-30T00:00:00\", \"2020-05-01T00:00:00\", \"2020-05-02T00:00:00\", \"2020-05-03T00:00:00\", \"2020-05-04T00:00:00\", \"2020-05-05T00:00:00\", \"2020-05-06T00:00:00\", \"2020-05-07T00:00:00\", \"2020-05-08T00:00:00\", \"2020-05-09T00:00:00\", \"2020-05-10T00:00:00\", \"2020-05-11T00:00:00\", \"2020-05-12T00:00:00\", \"2020-05-13T00:00:00\", \"2020-05-14T00:00:00\", \"2020-05-15T00:00:00\", \"2020-05-16T00:00:00\", \"2020-05-17T00:00:00\", \"2020-05-18T00:00:00\", \"2020-05-19T00:00:00\", \"2020-05-20T00:00:00\", \"2020-05-21T00:00:00\", \"2020-05-22T00:00:00\", \"2020-05-23T00:00:00\", \"2020-05-24T00:00:00\", \"2020-05-25T00:00:00\", \"2020-05-26T00:00:00\", \"2020-05-27T00:00:00\", \"2020-05-28T00:00:00\", \"2020-05-29T00:00:00\", \"2020-05-30T00:00:00\", \"2020-05-31T00:00:00\", \"2020-06-01T00:00:00\", \"2020-06-02T00:00:00\", \"2020-06-03T00:00:00\", \"2020-06-04T00:00:00\", \"2020-06-05T00:00:00\", \"2020-06-06T00:00:00\", \"2020-06-07T00:00:00\", \"2020-06-08T00:00:00\", \"2020-06-09T00:00:00\", \"2020-06-10T00:00:00\", \"2020-06-11T00:00:00\", \"2020-06-12T00:00:00\", \"2020-06-13T00:00:00\", \"2020-06-14T00:00:00\", \"2020-06-15T00:00:00\", \"2020-06-16T00:00:00\", \"2020-06-17T00:00:00\", \"2020-06-18T00:00:00\", \"2020-06-19T00:00:00\", \"2020-06-20T00:00:00\", \"2020-06-21T00:00:00\", \"2020-06-22T00:00:00\", \"2020-06-23T00:00:00\", \"2020-06-24T00:00:00\", \"2020-06-25T00:00:00\", \"2020-06-26T00:00:00\", \"2020-06-27T00:00:00\", \"2020-06-28T00:00:00\", \"2020-06-29T00:00:00\", \"2020-06-30T00:00:00\", \"2020-07-01T00:00:00\", \"2020-07-02T00:00:00\", \"2020-07-03T00:00:00\", \"2020-07-04T00:00:00\"], \"y\": [24.0, 45.0, 78.0, 135.0, 182.0, 233.0, 285.0, 401.0, 470.0, 503.0, 560.0, 606.0, 657.0, 720.0, 846.0, 925.0, 995.0, 1089.0, 1173.0, 1261.0, 1350.0, 1504.0, 1610.0, 1680.0, 1841.0, 1991.0, 2145.0, 2301.0, 2521.0, 2693.0, 2830.0, 2990.0, 3140.0, 3295.0, 3450.0, 3670.0, 3827.0, 3948.0, 4093.0, 4228.0, 4367.0, 4507.0, 4711.0, 4868.0, 4989.0, 5134.0, 5269.0, 5408.0, 5548.0, 5752.0, 5909.0, 6030.0, 6175.0, 6310.0, 6425.0, 6542.0, 6692.0, 6795.0, 6862.0, 6953.0, 7034.0, 7119.0, 7175.0, 7296.0, 7368.0, 7395.0, 7446.0, 7486.0, 7531.0, 7576.0, 7686.0, 7749.0, 7776.0, 7826.0, 7893.0, 7964.0, 8036.0, 8172.0, 8260.0, 8314.0, 8390.0, 8457.0, 8528.0, 8600.0, 8736.0, 8825.0, 8878.0, 8955.0, 9021.0, 9092.0, 9164.0, 9300.0, 9389.0, 9442.0, 9519.0, 9586.0, 9657.0, 9728.0, 9865.0, 9953.0, 10006.0, 10083.0, 10150.0, 10221.0, 10293.0, 10429.0, 10518.0]}, {\"mode\": \"lines+markers\", \"name\": \"Cas par jour\", \"type\": \"scatter\", \"x\": [\"2020-03-20T00:00:00\", \"2020-03-21T00:00:00\", \"2020-03-22T00:00:00\", \"2020-03-23T00:00:00\", \"2020-03-24T00:00:00\", \"2020-03-25T00:00:00\", \"2020-03-26T00:00:00\", \"2020-03-27T00:00:00\", \"2020-03-28T00:00:00\", \"2020-03-29T00:00:00\", \"2020-03-30T00:00:00\", \"2020-03-31T00:00:00\", \"2020-04-01T00:00:00\", \"2020-04-02T00:00:00\", \"2020-04-03T00:00:00\", \"2020-04-04T00:00:00\", \"2020-04-05T00:00:00\", \"2020-04-06T00:00:00\", \"2020-04-07T00:00:00\", \"2020-04-08T00:00:00\", \"2020-04-09T00:00:00\", \"2020-04-10T00:00:00\", \"2020-04-11T00:00:00\", \"2020-04-12T00:00:00\", \"2020-04-13T00:00:00\", \"2020-04-14T00:00:00\", \"2020-04-15T00:00:00\", \"2020-04-16T00:00:00\", \"2020-04-17T00:00:00\", \"2020-04-18T00:00:00\", \"2020-04-19T00:00:00\", \"2020-04-20T00:00:00\", \"2020-04-21T00:00:00\", \"2020-04-22T00:00:00\", \"2020-04-23T00:00:00\", \"2020-04-24T00:00:00\", \"2020-04-25T00:00:00\", \"2020-04-26T00:00:00\", \"2020-04-27T00:00:00\", \"2020-04-28T00:00:00\", \"2020-04-29T00:00:00\", \"2020-04-30T00:00:00\", \"2020-05-01T00:00:00\", \"2020-05-02T00:00:00\", \"2020-05-03T00:00:00\", \"2020-05-04T00:00:00\", \"2020-05-05T00:00:00\", \"2020-05-06T00:00:00\", \"2020-05-07T00:00:00\", \"2020-05-08T00:00:00\", \"2020-05-09T00:00:00\", \"2020-05-10T00:00:00\", \"2020-05-11T00:00:00\", \"2020-05-12T00:00:00\", \"2020-05-13T00:00:00\", \"2020-05-14T00:00:00\", \"2020-05-15T00:00:00\", \"2020-05-16T00:00:00\", \"2020-05-17T00:00:00\", \"2020-05-18T00:00:00\", \"2020-05-19T00:00:00\", \"2020-05-20T00:00:00\", \"2020-05-21T00:00:00\", \"2020-05-22T00:00:00\", \"2020-05-23T00:00:00\", \"2020-05-24T00:00:00\", \"2020-05-25T00:00:00\", \"2020-05-26T00:00:00\", \"2020-05-27T00:00:00\", \"2020-05-28T00:00:00\", \"2020-05-29T00:00:00\", \"2020-05-30T00:00:00\", \"2020-05-31T00:00:00\", \"2020-06-01T00:00:00\", \"2020-06-02T00:00:00\", \"2020-06-03T00:00:00\", \"2020-06-04T00:00:00\", \"2020-06-05T00:00:00\", \"2020-06-06T00:00:00\", \"2020-06-07T00:00:00\", \"2020-06-08T00:00:00\", \"2020-06-09T00:00:00\", \"2020-06-10T00:00:00\", \"2020-06-11T00:00:00\", \"2020-06-12T00:00:00\", \"2020-06-13T00:00:00\", \"2020-06-14T00:00:00\", \"2020-06-15T00:00:00\", \"2020-06-16T00:00:00\", \"2020-06-17T00:00:00\", \"2020-06-18T00:00:00\", \"2020-06-19T00:00:00\", \"2020-06-20T00:00:00\"], \"y\": [86, 96, 109, 143, 170, 225, 275, 345, 402, 479, 556, 617, 654, 708, 791, 919, 1021, 1120, 1184, 1275, 1374, 1448, 1545, 1661, 1763, 1888, 2024, 2283, 2564, 2685, 2855, 3046, 3209, 3446, 3568, 3758, 3897, 4065, 4120, 4252, 4321, 4423, 4569, 4729, 4903, 5053, 5219, 5408, 5548, 5711, 5910, 6063, 6281, 6418, 6512, 6607, 6652, 6681, 6870, 6952, 7023, 7133, 7211, 7332, 7406, 7429, 7532, 7577, 7601, 7643, 7714, 7780, 7807, 7833, 7866, 7922, 8003, 8071, 8151, 8224, 8302, 8437, 8508, 8537, 8610, 8692, 8793, 8885, 8931, 8997, 9074, 9613, 9839]}],\n",
              "                        {\"template\": {\"data\": {\"bar\": [{\"error_x\": {\"color\": \"#2a3f5f\"}, \"error_y\": {\"color\": \"#2a3f5f\"}, \"marker\": {\"line\": {\"color\": \"#E5ECF6\", \"width\": 0.5}}, \"type\": \"bar\"}], \"barpolar\": [{\"marker\": {\"line\": {\"color\": \"#E5ECF6\", \"width\": 0.5}}, \"type\": \"barpolar\"}], \"carpet\": [{\"aaxis\": {\"endlinecolor\": \"#2a3f5f\", \"gridcolor\": \"white\", \"linecolor\": \"white\", \"minorgridcolor\": \"white\", \"startlinecolor\": \"#2a3f5f\"}, \"baxis\": {\"endlinecolor\": \"#2a3f5f\", \"gridcolor\": \"white\", \"linecolor\": \"white\", \"minorgridcolor\": \"white\", \"startlinecolor\": \"#2a3f5f\"}, \"type\": \"carpet\"}], \"choropleth\": [{\"colorbar\": {\"outlinewidth\": 0, \"ticks\": \"\"}, \"type\": \"choropleth\"}], \"contour\": [{\"colorbar\": {\"outlinewidth\": 0, \"ticks\": \"\"}, \"colorscale\": [[0.0, \"#0d0887\"], [0.1111111111111111, \"#46039f\"], [0.2222222222222222, \"#7201a8\"], [0.3333333333333333, \"#9c179e\"], [0.4444444444444444, \"#bd3786\"], [0.5555555555555556, \"#d8576b\"], [0.6666666666666666, \"#ed7953\"], [0.7777777777777778, \"#fb9f3a\"], [0.8888888888888888, \"#fdca26\"], [1.0, \"#f0f921\"]], \"type\": \"contour\"}], \"contourcarpet\": [{\"colorbar\": {\"outlinewidth\": 0, \"ticks\": \"\"}, \"type\": \"contourcarpet\"}], \"heatmap\": [{\"colorbar\": {\"outlinewidth\": 0, \"ticks\": \"\"}, \"colorscale\": [[0.0, \"#0d0887\"], [0.1111111111111111, \"#46039f\"], [0.2222222222222222, \"#7201a8\"], [0.3333333333333333, \"#9c179e\"], [0.4444444444444444, \"#bd3786\"], [0.5555555555555556, \"#d8576b\"], [0.6666666666666666, \"#ed7953\"], [0.7777777777777778, \"#fb9f3a\"], [0.8888888888888888, \"#fdca26\"], [1.0, \"#f0f921\"]], \"type\": \"heatmap\"}], \"heatmapgl\": [{\"colorbar\": {\"outlinewidth\": 0, \"ticks\": \"\"}, \"colorscale\": [[0.0, \"#0d0887\"], [0.1111111111111111, \"#46039f\"], [0.2222222222222222, \"#7201a8\"], [0.3333333333333333, \"#9c179e\"], [0.4444444444444444, \"#bd3786\"], [0.5555555555555556, \"#d8576b\"], [0.6666666666666666, \"#ed7953\"], [0.7777777777777778, \"#fb9f3a\"], [0.8888888888888888, \"#fdca26\"], [1.0, \"#f0f921\"]], \"type\": \"heatmapgl\"}], \"histogram\": [{\"marker\": {\"colorbar\": {\"outlinewidth\": 0, \"ticks\": \"\"}}, \"type\": \"histogram\"}], \"histogram2d\": [{\"colorbar\": {\"outlinewidth\": 0, \"ticks\": \"\"}, \"colorscale\": [[0.0, \"#0d0887\"], [0.1111111111111111, \"#46039f\"], [0.2222222222222222, \"#7201a8\"], [0.3333333333333333, \"#9c179e\"], [0.4444444444444444, \"#bd3786\"], [0.5555555555555556, \"#d8576b\"], [0.6666666666666666, \"#ed7953\"], [0.7777777777777778, \"#fb9f3a\"], [0.8888888888888888, \"#fdca26\"], [1.0, \"#f0f921\"]], \"type\": \"histogram2d\"}], \"histogram2dcontour\": [{\"colorbar\": {\"outlinewidth\": 0, \"ticks\": \"\"}, \"colorscale\": [[0.0, \"#0d0887\"], [0.1111111111111111, \"#46039f\"], [0.2222222222222222, \"#7201a8\"], [0.3333333333333333, \"#9c179e\"], [0.4444444444444444, \"#bd3786\"], [0.5555555555555556, \"#d8576b\"], [0.6666666666666666, \"#ed7953\"], [0.7777777777777778, \"#fb9f3a\"], [0.8888888888888888, \"#fdca26\"], [1.0, \"#f0f921\"]], \"type\": \"histogram2dcontour\"}], \"mesh3d\": [{\"colorbar\": {\"outlinewidth\": 0, \"ticks\": \"\"}, \"type\": \"mesh3d\"}], \"parcoords\": [{\"line\": {\"colorbar\": {\"outlinewidth\": 0, \"ticks\": \"\"}}, \"type\": \"parcoords\"}], \"pie\": [{\"automargin\": true, \"type\": \"pie\"}], \"scatter\": [{\"marker\": {\"colorbar\": {\"outlinewidth\": 0, \"ticks\": \"\"}}, \"type\": \"scatter\"}], \"scatter3d\": [{\"line\": {\"colorbar\": {\"outlinewidth\": 0, \"ticks\": \"\"}}, \"marker\": {\"colorbar\": {\"outlinewidth\": 0, \"ticks\": \"\"}}, \"type\": \"scatter3d\"}], \"scattercarpet\": [{\"marker\": {\"colorbar\": {\"outlinewidth\": 0, \"ticks\": \"\"}}, \"type\": \"scattercarpet\"}], \"scattergeo\": [{\"marker\": {\"colorbar\": {\"outlinewidth\": 0, \"ticks\": \"\"}}, \"type\": \"scattergeo\"}], \"scattergl\": [{\"marker\": {\"colorbar\": {\"outlinewidth\": 0, \"ticks\": \"\"}}, \"type\": \"scattergl\"}], \"scattermapbox\": [{\"marker\": {\"colorbar\": {\"outlinewidth\": 0, \"ticks\": \"\"}}, \"type\": \"scattermapbox\"}], \"scatterpolar\": [{\"marker\": {\"colorbar\": {\"outlinewidth\": 0, \"ticks\": \"\"}}, \"type\": \"scatterpolar\"}], \"scatterpolargl\": [{\"marker\": {\"colorbar\": {\"outlinewidth\": 0, \"ticks\": \"\"}}, \"type\": \"scatterpolargl\"}], \"scatterternary\": [{\"marker\": {\"colorbar\": {\"outlinewidth\": 0, \"ticks\": \"\"}}, \"type\": \"scatterternary\"}], \"surface\": [{\"colorbar\": {\"outlinewidth\": 0, \"ticks\": \"\"}, \"colorscale\": [[0.0, \"#0d0887\"], [0.1111111111111111, \"#46039f\"], [0.2222222222222222, \"#7201a8\"], [0.3333333333333333, \"#9c179e\"], [0.4444444444444444, \"#bd3786\"], [0.5555555555555556, \"#d8576b\"], [0.6666666666666666, \"#ed7953\"], [0.7777777777777778, \"#fb9f3a\"], [0.8888888888888888, \"#fdca26\"], [1.0, \"#f0f921\"]], \"type\": \"surface\"}], \"table\": [{\"cells\": {\"fill\": {\"color\": \"#EBF0F8\"}, \"line\": {\"color\": \"white\"}}, \"header\": {\"fill\": {\"color\": \"#C8D4E3\"}, \"line\": {\"color\": \"white\"}}, \"type\": \"table\"}]}, \"layout\": {\"annotationdefaults\": {\"arrowcolor\": \"#2a3f5f\", \"arrowhead\": 0, \"arrowwidth\": 1}, \"coloraxis\": {\"colorbar\": {\"outlinewidth\": 0, \"ticks\": \"\"}}, \"colorscale\": {\"diverging\": [[0, \"#8e0152\"], [0.1, \"#c51b7d\"], [0.2, \"#de77ae\"], [0.3, \"#f1b6da\"], [0.4, \"#fde0ef\"], [0.5, \"#f7f7f7\"], [0.6, \"#e6f5d0\"], [0.7, \"#b8e186\"], [0.8, \"#7fbc41\"], [0.9, \"#4d9221\"], [1, \"#276419\"]], \"sequential\": [[0.0, \"#0d0887\"], [0.1111111111111111, \"#46039f\"], [0.2222222222222222, \"#7201a8\"], [0.3333333333333333, \"#9c179e\"], [0.4444444444444444, \"#bd3786\"], [0.5555555555555556, \"#d8576b\"], [0.6666666666666666, \"#ed7953\"], [0.7777777777777778, \"#fb9f3a\"], [0.8888888888888888, \"#fdca26\"], [1.0, \"#f0f921\"]], \"sequentialminus\": [[0.0, \"#0d0887\"], [0.1111111111111111, \"#46039f\"], [0.2222222222222222, \"#7201a8\"], [0.3333333333333333, \"#9c179e\"], [0.4444444444444444, \"#bd3786\"], [0.5555555555555556, \"#d8576b\"], [0.6666666666666666, \"#ed7953\"], [0.7777777777777778, \"#fb9f3a\"], [0.8888888888888888, \"#fdca26\"], [1.0, \"#f0f921\"]]}, \"colorway\": [\"#636efa\", \"#EF553B\", \"#00cc96\", \"#ab63fa\", \"#FFA15A\", \"#19d3f3\", \"#FF6692\", \"#B6E880\", \"#FF97FF\", \"#FECB52\"], \"font\": {\"color\": \"#2a3f5f\"}, \"geo\": {\"bgcolor\": \"white\", \"lakecolor\": \"white\", \"landcolor\": \"#E5ECF6\", \"showlakes\": true, \"showland\": true, \"subunitcolor\": \"white\"}, \"hoverlabel\": {\"align\": \"left\"}, \"hovermode\": \"closest\", \"mapbox\": {\"style\": \"light\"}, \"paper_bgcolor\": \"white\", \"plot_bgcolor\": \"#E5ECF6\", \"polar\": {\"angularaxis\": {\"gridcolor\": \"white\", \"linecolor\": \"white\", \"ticks\": \"\"}, \"bgcolor\": \"#E5ECF6\", \"radialaxis\": {\"gridcolor\": \"white\", \"linecolor\": \"white\", \"ticks\": \"\"}}, \"scene\": {\"xaxis\": {\"backgroundcolor\": \"#E5ECF6\", \"gridcolor\": \"white\", \"gridwidth\": 2, \"linecolor\": \"white\", \"showbackground\": true, \"ticks\": \"\", \"zerolinecolor\": \"white\"}, \"yaxis\": {\"backgroundcolor\": \"#E5ECF6\", \"gridcolor\": \"white\", \"gridwidth\": 2, \"linecolor\": \"white\", \"showbackground\": true, \"ticks\": \"\", \"zerolinecolor\": \"white\"}, \"zaxis\": {\"backgroundcolor\": \"#E5ECF6\", \"gridcolor\": \"white\", \"gridwidth\": 2, \"linecolor\": \"white\", \"showbackground\": true, \"ticks\": \"\", \"zerolinecolor\": \"white\"}}, \"shapedefaults\": {\"line\": {\"color\": \"#2a3f5f\"}}, \"ternary\": {\"aaxis\": {\"gridcolor\": \"white\", \"linecolor\": \"white\", \"ticks\": \"\"}, \"baxis\": {\"gridcolor\": \"white\", \"linecolor\": \"white\", \"ticks\": \"\"}, \"bgcolor\": \"#E5ECF6\", \"caxis\": {\"gridcolor\": \"white\", \"linecolor\": \"white\", \"ticks\": \"\"}}, \"title\": {\"x\": 0.05}, \"xaxis\": {\"automargin\": true, \"gridcolor\": \"white\", \"linecolor\": \"white\", \"ticks\": \"\", \"title\": {\"standoff\": 15}, \"zerolinecolor\": \"white\", \"zerolinewidth\": 2}, \"yaxis\": {\"automargin\": true, \"gridcolor\": \"white\", \"linecolor\": \"white\", \"ticks\": \"\", \"title\": {\"standoff\": 15}, \"zerolinecolor\": \"white\", \"zerolinewidth\": 2}}}},\n",
              "                        {\"responsive\": true}\n",
              "                    ).then(function(){\n",
              "                            \n",
              "var gd = document.getElementById('2122d2dd-e02f-4722-9c97-b58401fbf3b3');\n",
              "var x = new MutationObserver(function (mutations, observer) {{\n",
              "        var display = window.getComputedStyle(gd).display;\n",
              "        if (!display || display === 'none') {{\n",
              "            console.log([gd, 'removed!']);\n",
              "            Plotly.purge(gd);\n",
              "            observer.disconnect();\n",
              "        }}\n",
              "}});\n",
              "\n",
              "// Listen for the removal of the full notebook cells\n",
              "var notebookContainer = gd.closest('#notebook-container');\n",
              "if (notebookContainer) {{\n",
              "    x.observe(notebookContainer, {childList: true});\n",
              "}}\n",
              "\n",
              "// Listen for the clearing of the current output cell\n",
              "var outputEl = gd.closest('.output');\n",
              "if (outputEl) {{\n",
              "    x.observe(outputEl, {childList: true});\n",
              "}}\n",
              "\n",
              "                        })\n",
              "                };\n",
              "                \n",
              "            </script>\n",
              "        </div>\n",
              "</body>\n",
              "</html>"
            ]
          },
          "metadata": {
            "tags": []
          }
        }
      ]
    },
    {
      "cell_type": "markdown",
      "metadata": {
        "id": "0Zh85bB9Un6K",
        "colab_type": "text"
      },
      "source": [
        "2. Prévision des nouveaux cas"
      ]
    },
    {
      "cell_type": "code",
      "metadata": {
        "id": "wiDILBGeUlw2",
        "colab_type": "code",
        "colab": {}
      },
      "source": [
        "new_cases = my_data.groupby('Date').sum()['New cases'].reset_index()\n",
        "new_cases.columns = ['ds','y']"
      ],
      "execution_count": 175,
      "outputs": []
    },
    {
      "cell_type": "code",
      "metadata": {
        "id": "hx9zR2b7Uu9l",
        "colab_type": "code",
        "colab": {
          "base_uri": "https://localhost:8080/",
          "height": 240
        },
        "outputId": "ff310715-1c67-4cc2-a499-f40cade76c3a"
      },
      "source": [
        "m_1 = Prophet(interval_width=0.95)\n",
        "m_1.fit(new_cases)\n",
        "future_1 = m_1.make_future_dataframe(periods=10)\n",
        "future_1.tail()"
      ],
      "execution_count": 176,
      "outputs": [
        {
          "output_type": "stream",
          "text": [
            "INFO:fbprophet:Disabling yearly seasonality. Run prophet with yearly_seasonality=True to override this.\n",
            "INFO:fbprophet:Disabling daily seasonality. Run prophet with daily_seasonality=True to override this.\n"
          ],
          "name": "stderr"
        },
        {
          "output_type": "execute_result",
          "data": {
            "text/html": [
              "<div>\n",
              "<style scoped>\n",
              "    .dataframe tbody tr th:only-of-type {\n",
              "        vertical-align: middle;\n",
              "    }\n",
              "\n",
              "    .dataframe tbody tr th {\n",
              "        vertical-align: top;\n",
              "    }\n",
              "\n",
              "    .dataframe thead th {\n",
              "        text-align: right;\n",
              "    }\n",
              "</style>\n",
              "<table border=\"1\" class=\"dataframe\">\n",
              "  <thead>\n",
              "    <tr style=\"text-align: right;\">\n",
              "      <th></th>\n",
              "      <th>ds</th>\n",
              "    </tr>\n",
              "  </thead>\n",
              "  <tbody>\n",
              "    <tr>\n",
              "      <th>98</th>\n",
              "      <td>2020-06-26</td>\n",
              "    </tr>\n",
              "    <tr>\n",
              "      <th>99</th>\n",
              "      <td>2020-06-27</td>\n",
              "    </tr>\n",
              "    <tr>\n",
              "      <th>100</th>\n",
              "      <td>2020-06-28</td>\n",
              "    </tr>\n",
              "    <tr>\n",
              "      <th>101</th>\n",
              "      <td>2020-06-29</td>\n",
              "    </tr>\n",
              "    <tr>\n",
              "      <th>102</th>\n",
              "      <td>2020-06-30</td>\n",
              "    </tr>\n",
              "  </tbody>\n",
              "</table>\n",
              "</div>"
            ],
            "text/plain": [
              "            ds\n",
              "98  2020-06-26\n",
              "99  2020-06-27\n",
              "100 2020-06-28\n",
              "101 2020-06-29\n",
              "102 2020-06-30"
            ]
          },
          "metadata": {
            "tags": []
          },
          "execution_count": 176
        }
      ]
    },
    {
      "cell_type": "code",
      "metadata": {
        "id": "ei0fndOh7Mwn",
        "colab_type": "code",
        "colab": {
          "base_uri": "https://localhost:8080/",
          "height": 204
        },
        "outputId": "a3e7b194-190e-4e56-cd51-a3148f518166"
      },
      "source": [
        "forecast_1 = m_1.predict(future_1)\n",
        "forecast_1[['ds', 'yhat', 'yhat_lower', 'yhat_upper']].tail()"
      ],
      "execution_count": 177,
      "outputs": [
        {
          "output_type": "execute_result",
          "data": {
            "text/html": [
              "<div>\n",
              "<style scoped>\n",
              "    .dataframe tbody tr th:only-of-type {\n",
              "        vertical-align: middle;\n",
              "    }\n",
              "\n",
              "    .dataframe tbody tr th {\n",
              "        vertical-align: top;\n",
              "    }\n",
              "\n",
              "    .dataframe thead th {\n",
              "        text-align: right;\n",
              "    }\n",
              "</style>\n",
              "<table border=\"1\" class=\"dataframe\">\n",
              "  <thead>\n",
              "    <tr style=\"text-align: right;\">\n",
              "      <th></th>\n",
              "      <th>ds</th>\n",
              "      <th>yhat</th>\n",
              "      <th>yhat_lower</th>\n",
              "      <th>yhat_upper</th>\n",
              "    </tr>\n",
              "  </thead>\n",
              "  <tbody>\n",
              "    <tr>\n",
              "      <th>98</th>\n",
              "      <td>2020-06-26</td>\n",
              "      <td>150.487158</td>\n",
              "      <td>16.291223</td>\n",
              "      <td>302.378504</td>\n",
              "    </tr>\n",
              "    <tr>\n",
              "      <th>99</th>\n",
              "      <td>2020-06-27</td>\n",
              "      <td>117.855782</td>\n",
              "      <td>-32.689067</td>\n",
              "      <td>249.994279</td>\n",
              "    </tr>\n",
              "    <tr>\n",
              "      <th>100</th>\n",
              "      <td>2020-06-28</td>\n",
              "      <td>120.490154</td>\n",
              "      <td>-19.875141</td>\n",
              "      <td>256.968877</td>\n",
              "    </tr>\n",
              "    <tr>\n",
              "      <th>101</th>\n",
              "      <td>2020-06-29</td>\n",
              "      <td>114.390415</td>\n",
              "      <td>-24.746207</td>\n",
              "      <td>258.681677</td>\n",
              "    </tr>\n",
              "    <tr>\n",
              "      <th>102</th>\n",
              "      <td>2020-06-30</td>\n",
              "      <td>106.518582</td>\n",
              "      <td>-30.609518</td>\n",
              "      <td>232.102633</td>\n",
              "    </tr>\n",
              "  </tbody>\n",
              "</table>\n",
              "</div>"
            ],
            "text/plain": [
              "            ds        yhat  yhat_lower  yhat_upper\n",
              "98  2020-06-26  150.487158   16.291223  302.378504\n",
              "99  2020-06-27  117.855782  -32.689067  249.994279\n",
              "100 2020-06-28  120.490154  -19.875141  256.968877\n",
              "101 2020-06-29  114.390415  -24.746207  258.681677\n",
              "102 2020-06-30  106.518582  -30.609518  232.102633"
            ]
          },
          "metadata": {
            "tags": []
          },
          "execution_count": 177
        }
      ]
    },
    {
      "cell_type": "code",
      "metadata": {
        "id": "o5AF3IxSU8yi",
        "colab_type": "code",
        "colab": {
          "base_uri": "https://localhost:8080/",
          "height": 542
        },
        "outputId": "5e013f23-12cf-4e29-8bc5-7d0f930409ef"
      },
      "source": [
        "fig = go.Figure()\n",
        "fig.add_trace(go.Scatter(x=forecast_1.ds, y = abs(forecast_1['yhat'].round()), mode= 'lines+markers',name='Predicted daily cases'))\n",
        "\n",
        "fig.add_trace(go.Scatter(x=my_data.index, y = my_data['New cases'], mode= 'lines+markers',name='Daily cases'))"
      ],
      "execution_count": 178,
      "outputs": [
        {
          "output_type": "display_data",
          "data": {
            "text/html": [
              "<html>\n",
              "<head><meta charset=\"utf-8\" /></head>\n",
              "<body>\n",
              "    <div>\n",
              "            <script src=\"https://cdnjs.cloudflare.com/ajax/libs/mathjax/2.7.5/MathJax.js?config=TeX-AMS-MML_SVG\"></script><script type=\"text/javascript\">if (window.MathJax) {MathJax.Hub.Config({SVG: {font: \"STIX-Web\"}});}</script>\n",
              "                <script type=\"text/javascript\">window.PlotlyConfig = {MathJaxConfig: 'local'};</script>\n",
              "        <script src=\"https://cdn.plot.ly/plotly-latest.min.js\"></script>    \n",
              "            <div id=\"702ca178-9180-437c-809c-320e7a6d0c79\" class=\"plotly-graph-div\" style=\"height:525px; width:100%;\"></div>\n",
              "            <script type=\"text/javascript\">\n",
              "                \n",
              "                    window.PLOTLYENV=window.PLOTLYENV || {};\n",
              "                    \n",
              "                if (document.getElementById(\"702ca178-9180-437c-809c-320e7a6d0c79\")) {\n",
              "                    Plotly.newPlot(\n",
              "                        '702ca178-9180-437c-809c-320e7a6d0c79',\n",
              "                        [{\"mode\": \"lines+markers\", \"name\": \"Predicted daily cases\", \"type\": \"scatter\", \"x\": [\"2020-03-20T00:00:00\", \"2020-03-21T00:00:00\", \"2020-03-22T00:00:00\", \"2020-03-23T00:00:00\", \"2020-03-24T00:00:00\", \"2020-03-25T00:00:00\", \"2020-03-26T00:00:00\", \"2020-03-27T00:00:00\", \"2020-03-28T00:00:00\", \"2020-03-29T00:00:00\", \"2020-03-30T00:00:00\", \"2020-03-31T00:00:00\", \"2020-04-01T00:00:00\", \"2020-04-02T00:00:00\", \"2020-04-03T00:00:00\", \"2020-04-04T00:00:00\", \"2020-04-05T00:00:00\", \"2020-04-06T00:00:00\", \"2020-04-07T00:00:00\", \"2020-04-08T00:00:00\", \"2020-04-09T00:00:00\", \"2020-04-10T00:00:00\", \"2020-04-11T00:00:00\", \"2020-04-12T00:00:00\", \"2020-04-13T00:00:00\", \"2020-04-14T00:00:00\", \"2020-04-15T00:00:00\", \"2020-04-16T00:00:00\", \"2020-04-17T00:00:00\", \"2020-04-18T00:00:00\", \"2020-04-19T00:00:00\", \"2020-04-20T00:00:00\", \"2020-04-21T00:00:00\", \"2020-04-22T00:00:00\", \"2020-04-23T00:00:00\", \"2020-04-24T00:00:00\", \"2020-04-25T00:00:00\", \"2020-04-26T00:00:00\", \"2020-04-27T00:00:00\", \"2020-04-28T00:00:00\", \"2020-04-29T00:00:00\", \"2020-04-30T00:00:00\", \"2020-05-01T00:00:00\", \"2020-05-02T00:00:00\", \"2020-05-03T00:00:00\", \"2020-05-04T00:00:00\", \"2020-05-05T00:00:00\", \"2020-05-06T00:00:00\", \"2020-05-07T00:00:00\", \"2020-05-08T00:00:00\", \"2020-05-09T00:00:00\", \"2020-05-10T00:00:00\", \"2020-05-11T00:00:00\", \"2020-05-12T00:00:00\", \"2020-05-13T00:00:00\", \"2020-05-14T00:00:00\", \"2020-05-15T00:00:00\", \"2020-05-16T00:00:00\", \"2020-05-17T00:00:00\", \"2020-05-18T00:00:00\", \"2020-05-19T00:00:00\", \"2020-05-20T00:00:00\", \"2020-05-21T00:00:00\", \"2020-05-22T00:00:00\", \"2020-05-23T00:00:00\", \"2020-05-24T00:00:00\", \"2020-05-25T00:00:00\", \"2020-05-26T00:00:00\", \"2020-05-27T00:00:00\", \"2020-05-28T00:00:00\", \"2020-05-29T00:00:00\", \"2020-05-30T00:00:00\", \"2020-05-31T00:00:00\", \"2020-06-01T00:00:00\", \"2020-06-02T00:00:00\", \"2020-06-03T00:00:00\", \"2020-06-04T00:00:00\", \"2020-06-05T00:00:00\", \"2020-06-06T00:00:00\", \"2020-06-07T00:00:00\", \"2020-06-08T00:00:00\", \"2020-06-09T00:00:00\", \"2020-06-10T00:00:00\", \"2020-06-11T00:00:00\", \"2020-06-12T00:00:00\", \"2020-06-13T00:00:00\", \"2020-06-14T00:00:00\", \"2020-06-15T00:00:00\", \"2020-06-16T00:00:00\", \"2020-06-17T00:00:00\", \"2020-06-18T00:00:00\", \"2020-06-19T00:00:00\", \"2020-06-20T00:00:00\", \"2020-06-21T00:00:00\", \"2020-06-22T00:00:00\", \"2020-06-23T00:00:00\", \"2020-06-24T00:00:00\", \"2020-06-25T00:00:00\", \"2020-06-26T00:00:00\", \"2020-06-27T00:00:00\", \"2020-06-28T00:00:00\", \"2020-06-29T00:00:00\", \"2020-06-30T00:00:00\"], \"y\": [126.0, 93.0, 96.0, 90.0, 82.0, 84.0, 83.0, 127.0, 95.0, 97.0, 91.0, 84.0, 86.0, 85.0, 129.0, 97.0, 99.0, 93.0, 85.0, 88.0, 87.0, 131.0, 99.0, 101.0, 95.0, 87.0, 90.0, 89.0, 133.0, 100.0, 103.0, 97.0, 89.0, 91.0, 91.0, 135.0, 102.0, 105.0, 99.0, 91.0, 93.0, 93.0, 137.0, 104.0, 107.0, 101.0, 93.0, 95.0, 94.0, 138.0, 106.0, 108.0, 102.0, 94.0, 97.0, 96.0, 140.0, 108.0, 110.0, 104.0, 96.0, 98.0, 98.0, 142.0, 109.0, 112.0, 106.0, 98.0, 100.0, 100.0, 144.0, 111.0, 114.0, 107.0, 100.0, 102.0, 101.0, 145.0, 113.0, 115.0, 109.0, 101.0, 104.0, 103.0, 147.0, 114.0, 117.0, 111.0, 103.0, 105.0, 105.0, 149.0, 116.0, 119.0, 113.0, 105.0, 107.0, 107.0, 150.0, 118.0, 120.0, 114.0, 107.0]}, {\"mode\": \"lines+markers\", \"name\": \"Daily cases\", \"type\": \"scatter\", \"x\": [\"2020-03-20T00:00:00\", \"2020-03-21T00:00:00\", \"2020-03-22T00:00:00\", \"2020-03-23T00:00:00\", \"2020-03-24T00:00:00\", \"2020-03-25T00:00:00\", \"2020-03-26T00:00:00\", \"2020-03-27T00:00:00\", \"2020-03-28T00:00:00\", \"2020-03-29T00:00:00\", \"2020-03-30T00:00:00\", \"2020-03-31T00:00:00\", \"2020-04-01T00:00:00\", \"2020-04-02T00:00:00\", \"2020-04-03T00:00:00\", \"2020-04-04T00:00:00\", \"2020-04-05T00:00:00\", \"2020-04-06T00:00:00\", \"2020-04-07T00:00:00\", \"2020-04-08T00:00:00\", \"2020-04-09T00:00:00\", \"2020-04-10T00:00:00\", \"2020-04-11T00:00:00\", \"2020-04-12T00:00:00\", \"2020-04-13T00:00:00\", \"2020-04-14T00:00:00\", \"2020-04-15T00:00:00\", \"2020-04-16T00:00:00\", \"2020-04-17T00:00:00\", \"2020-04-18T00:00:00\", \"2020-04-19T00:00:00\", \"2020-04-20T00:00:00\", \"2020-04-21T00:00:00\", \"2020-04-22T00:00:00\", \"2020-04-23T00:00:00\", \"2020-04-24T00:00:00\", \"2020-04-25T00:00:00\", \"2020-04-26T00:00:00\", \"2020-04-27T00:00:00\", \"2020-04-28T00:00:00\", \"2020-04-29T00:00:00\", \"2020-04-30T00:00:00\", \"2020-05-01T00:00:00\", \"2020-05-02T00:00:00\", \"2020-05-03T00:00:00\", \"2020-05-04T00:00:00\", \"2020-05-05T00:00:00\", \"2020-05-06T00:00:00\", \"2020-05-07T00:00:00\", \"2020-05-08T00:00:00\", \"2020-05-09T00:00:00\", \"2020-05-10T00:00:00\", \"2020-05-11T00:00:00\", \"2020-05-12T00:00:00\", \"2020-05-13T00:00:00\", \"2020-05-14T00:00:00\", \"2020-05-15T00:00:00\", \"2020-05-16T00:00:00\", \"2020-05-17T00:00:00\", \"2020-05-18T00:00:00\", \"2020-05-19T00:00:00\", \"2020-05-20T00:00:00\", \"2020-05-21T00:00:00\", \"2020-05-22T00:00:00\", \"2020-05-23T00:00:00\", \"2020-05-24T00:00:00\", \"2020-05-25T00:00:00\", \"2020-05-26T00:00:00\", \"2020-05-27T00:00:00\", \"2020-05-28T00:00:00\", \"2020-05-29T00:00:00\", \"2020-05-30T00:00:00\", \"2020-05-31T00:00:00\", \"2020-06-01T00:00:00\", \"2020-06-02T00:00:00\", \"2020-06-03T00:00:00\", \"2020-06-04T00:00:00\", \"2020-06-05T00:00:00\", \"2020-06-06T00:00:00\", \"2020-06-07T00:00:00\", \"2020-06-08T00:00:00\", \"2020-06-09T00:00:00\", \"2020-06-10T00:00:00\", \"2020-06-11T00:00:00\", \"2020-06-12T00:00:00\", \"2020-06-13T00:00:00\", \"2020-06-14T00:00:00\", \"2020-06-15T00:00:00\", \"2020-06-16T00:00:00\", \"2020-06-17T00:00:00\", \"2020-06-18T00:00:00\", \"2020-06-19T00:00:00\", \"2020-06-20T00:00:00\"], \"y\": [0, 10, 13, 34, 27, 55, 50, 70, 57, 77, 77, 61, 37, 54, 83, 128, 102, 99, 64, 91, 99, 74, 97, 116, 102, 125, 136, 259, 281, 121, 170, 191, 163, 237, 122, 190, 139, 168, 55, 132, 69, 102, 146, 160, 174, 150, 166, 189, 140, 163, 199, 153, 218, 137, 94, 95, 45, 29, 189, 82, 71, 110, 78, 121, 74, 23, 103, 45, 24, 42, 71, 66, 27, 26, 33, 56, 81, 68, 80, 73, 78, 135, 71, 29, 73, 82, 101, 92, 46, 66, 77, 539, 226]}],\n",
              "                        {\"template\": {\"data\": {\"bar\": [{\"error_x\": {\"color\": \"#2a3f5f\"}, \"error_y\": {\"color\": \"#2a3f5f\"}, \"marker\": {\"line\": {\"color\": \"#E5ECF6\", \"width\": 0.5}}, \"type\": \"bar\"}], \"barpolar\": [{\"marker\": {\"line\": {\"color\": \"#E5ECF6\", \"width\": 0.5}}, \"type\": \"barpolar\"}], \"carpet\": [{\"aaxis\": {\"endlinecolor\": \"#2a3f5f\", \"gridcolor\": \"white\", \"linecolor\": \"white\", \"minorgridcolor\": \"white\", \"startlinecolor\": \"#2a3f5f\"}, \"baxis\": {\"endlinecolor\": \"#2a3f5f\", \"gridcolor\": \"white\", \"linecolor\": \"white\", \"minorgridcolor\": \"white\", \"startlinecolor\": \"#2a3f5f\"}, \"type\": \"carpet\"}], \"choropleth\": [{\"colorbar\": {\"outlinewidth\": 0, \"ticks\": \"\"}, \"type\": \"choropleth\"}], \"contour\": [{\"colorbar\": {\"outlinewidth\": 0, \"ticks\": \"\"}, \"colorscale\": [[0.0, \"#0d0887\"], [0.1111111111111111, \"#46039f\"], [0.2222222222222222, \"#7201a8\"], [0.3333333333333333, \"#9c179e\"], [0.4444444444444444, \"#bd3786\"], [0.5555555555555556, \"#d8576b\"], [0.6666666666666666, \"#ed7953\"], [0.7777777777777778, \"#fb9f3a\"], [0.8888888888888888, \"#fdca26\"], [1.0, \"#f0f921\"]], \"type\": \"contour\"}], \"contourcarpet\": [{\"colorbar\": {\"outlinewidth\": 0, \"ticks\": \"\"}, \"type\": \"contourcarpet\"}], \"heatmap\": [{\"colorbar\": {\"outlinewidth\": 0, \"ticks\": \"\"}, \"colorscale\": [[0.0, \"#0d0887\"], [0.1111111111111111, \"#46039f\"], [0.2222222222222222, \"#7201a8\"], [0.3333333333333333, \"#9c179e\"], [0.4444444444444444, \"#bd3786\"], [0.5555555555555556, \"#d8576b\"], [0.6666666666666666, \"#ed7953\"], [0.7777777777777778, \"#fb9f3a\"], [0.8888888888888888, \"#fdca26\"], [1.0, \"#f0f921\"]], \"type\": \"heatmap\"}], \"heatmapgl\": [{\"colorbar\": {\"outlinewidth\": 0, \"ticks\": \"\"}, \"colorscale\": [[0.0, \"#0d0887\"], [0.1111111111111111, \"#46039f\"], [0.2222222222222222, \"#7201a8\"], [0.3333333333333333, \"#9c179e\"], [0.4444444444444444, \"#bd3786\"], [0.5555555555555556, \"#d8576b\"], [0.6666666666666666, \"#ed7953\"], [0.7777777777777778, \"#fb9f3a\"], [0.8888888888888888, \"#fdca26\"], [1.0, \"#f0f921\"]], \"type\": \"heatmapgl\"}], \"histogram\": [{\"marker\": {\"colorbar\": {\"outlinewidth\": 0, \"ticks\": \"\"}}, \"type\": \"histogram\"}], \"histogram2d\": [{\"colorbar\": {\"outlinewidth\": 0, \"ticks\": \"\"}, \"colorscale\": [[0.0, \"#0d0887\"], [0.1111111111111111, \"#46039f\"], [0.2222222222222222, \"#7201a8\"], [0.3333333333333333, \"#9c179e\"], [0.4444444444444444, \"#bd3786\"], [0.5555555555555556, \"#d8576b\"], [0.6666666666666666, \"#ed7953\"], [0.7777777777777778, \"#fb9f3a\"], [0.8888888888888888, \"#fdca26\"], [1.0, \"#f0f921\"]], \"type\": \"histogram2d\"}], \"histogram2dcontour\": [{\"colorbar\": {\"outlinewidth\": 0, \"ticks\": \"\"}, \"colorscale\": [[0.0, \"#0d0887\"], [0.1111111111111111, \"#46039f\"], [0.2222222222222222, \"#7201a8\"], [0.3333333333333333, \"#9c179e\"], [0.4444444444444444, \"#bd3786\"], [0.5555555555555556, \"#d8576b\"], [0.6666666666666666, \"#ed7953\"], [0.7777777777777778, \"#fb9f3a\"], [0.8888888888888888, \"#fdca26\"], [1.0, \"#f0f921\"]], \"type\": \"histogram2dcontour\"}], \"mesh3d\": [{\"colorbar\": {\"outlinewidth\": 0, \"ticks\": \"\"}, \"type\": \"mesh3d\"}], \"parcoords\": [{\"line\": {\"colorbar\": {\"outlinewidth\": 0, \"ticks\": \"\"}}, \"type\": \"parcoords\"}], \"pie\": [{\"automargin\": true, \"type\": \"pie\"}], \"scatter\": [{\"marker\": {\"colorbar\": {\"outlinewidth\": 0, \"ticks\": \"\"}}, \"type\": \"scatter\"}], \"scatter3d\": [{\"line\": {\"colorbar\": {\"outlinewidth\": 0, \"ticks\": \"\"}}, \"marker\": {\"colorbar\": {\"outlinewidth\": 0, \"ticks\": \"\"}}, \"type\": \"scatter3d\"}], \"scattercarpet\": [{\"marker\": {\"colorbar\": {\"outlinewidth\": 0, \"ticks\": \"\"}}, \"type\": \"scattercarpet\"}], \"scattergeo\": [{\"marker\": {\"colorbar\": {\"outlinewidth\": 0, \"ticks\": \"\"}}, \"type\": \"scattergeo\"}], \"scattergl\": [{\"marker\": {\"colorbar\": {\"outlinewidth\": 0, \"ticks\": \"\"}}, \"type\": \"scattergl\"}], \"scattermapbox\": [{\"marker\": {\"colorbar\": {\"outlinewidth\": 0, \"ticks\": \"\"}}, \"type\": \"scattermapbox\"}], \"scatterpolar\": [{\"marker\": {\"colorbar\": {\"outlinewidth\": 0, \"ticks\": \"\"}}, \"type\": \"scatterpolar\"}], \"scatterpolargl\": [{\"marker\": {\"colorbar\": {\"outlinewidth\": 0, \"ticks\": \"\"}}, \"type\": \"scatterpolargl\"}], \"scatterternary\": [{\"marker\": {\"colorbar\": {\"outlinewidth\": 0, \"ticks\": \"\"}}, \"type\": \"scatterternary\"}], \"surface\": [{\"colorbar\": {\"outlinewidth\": 0, \"ticks\": \"\"}, \"colorscale\": [[0.0, \"#0d0887\"], [0.1111111111111111, \"#46039f\"], [0.2222222222222222, \"#7201a8\"], [0.3333333333333333, \"#9c179e\"], [0.4444444444444444, \"#bd3786\"], [0.5555555555555556, \"#d8576b\"], [0.6666666666666666, \"#ed7953\"], [0.7777777777777778, \"#fb9f3a\"], [0.8888888888888888, \"#fdca26\"], [1.0, \"#f0f921\"]], \"type\": \"surface\"}], \"table\": [{\"cells\": {\"fill\": {\"color\": \"#EBF0F8\"}, \"line\": {\"color\": \"white\"}}, \"header\": {\"fill\": {\"color\": \"#C8D4E3\"}, \"line\": {\"color\": \"white\"}}, \"type\": \"table\"}]}, \"layout\": {\"annotationdefaults\": {\"arrowcolor\": \"#2a3f5f\", \"arrowhead\": 0, \"arrowwidth\": 1}, \"coloraxis\": {\"colorbar\": {\"outlinewidth\": 0, \"ticks\": \"\"}}, \"colorscale\": {\"diverging\": [[0, \"#8e0152\"], [0.1, \"#c51b7d\"], [0.2, \"#de77ae\"], [0.3, \"#f1b6da\"], [0.4, \"#fde0ef\"], [0.5, \"#f7f7f7\"], [0.6, \"#e6f5d0\"], [0.7, \"#b8e186\"], [0.8, \"#7fbc41\"], [0.9, \"#4d9221\"], [1, \"#276419\"]], \"sequential\": [[0.0, \"#0d0887\"], [0.1111111111111111, \"#46039f\"], [0.2222222222222222, \"#7201a8\"], [0.3333333333333333, \"#9c179e\"], [0.4444444444444444, \"#bd3786\"], [0.5555555555555556, \"#d8576b\"], [0.6666666666666666, \"#ed7953\"], [0.7777777777777778, \"#fb9f3a\"], [0.8888888888888888, \"#fdca26\"], [1.0, \"#f0f921\"]], \"sequentialminus\": [[0.0, \"#0d0887\"], [0.1111111111111111, \"#46039f\"], [0.2222222222222222, \"#7201a8\"], [0.3333333333333333, \"#9c179e\"], [0.4444444444444444, \"#bd3786\"], [0.5555555555555556, \"#d8576b\"], [0.6666666666666666, \"#ed7953\"], [0.7777777777777778, \"#fb9f3a\"], [0.8888888888888888, \"#fdca26\"], [1.0, \"#f0f921\"]]}, \"colorway\": [\"#636efa\", \"#EF553B\", \"#00cc96\", \"#ab63fa\", \"#FFA15A\", \"#19d3f3\", \"#FF6692\", \"#B6E880\", \"#FF97FF\", \"#FECB52\"], \"font\": {\"color\": \"#2a3f5f\"}, \"geo\": {\"bgcolor\": \"white\", \"lakecolor\": \"white\", \"landcolor\": \"#E5ECF6\", \"showlakes\": true, \"showland\": true, \"subunitcolor\": \"white\"}, \"hoverlabel\": {\"align\": \"left\"}, \"hovermode\": \"closest\", \"mapbox\": {\"style\": \"light\"}, \"paper_bgcolor\": \"white\", \"plot_bgcolor\": \"#E5ECF6\", \"polar\": {\"angularaxis\": {\"gridcolor\": \"white\", \"linecolor\": \"white\", \"ticks\": \"\"}, \"bgcolor\": \"#E5ECF6\", \"radialaxis\": {\"gridcolor\": \"white\", \"linecolor\": \"white\", \"ticks\": \"\"}}, \"scene\": {\"xaxis\": {\"backgroundcolor\": \"#E5ECF6\", \"gridcolor\": \"white\", \"gridwidth\": 2, \"linecolor\": \"white\", \"showbackground\": true, \"ticks\": \"\", \"zerolinecolor\": \"white\"}, \"yaxis\": {\"backgroundcolor\": \"#E5ECF6\", \"gridcolor\": \"white\", \"gridwidth\": 2, \"linecolor\": \"white\", \"showbackground\": true, \"ticks\": \"\", \"zerolinecolor\": \"white\"}, \"zaxis\": {\"backgroundcolor\": \"#E5ECF6\", \"gridcolor\": \"white\", \"gridwidth\": 2, \"linecolor\": \"white\", \"showbackground\": true, \"ticks\": \"\", \"zerolinecolor\": \"white\"}}, \"shapedefaults\": {\"line\": {\"color\": \"#2a3f5f\"}}, \"ternary\": {\"aaxis\": {\"gridcolor\": \"white\", \"linecolor\": \"white\", \"ticks\": \"\"}, \"baxis\": {\"gridcolor\": \"white\", \"linecolor\": \"white\", \"ticks\": \"\"}, \"bgcolor\": \"#E5ECF6\", \"caxis\": {\"gridcolor\": \"white\", \"linecolor\": \"white\", \"ticks\": \"\"}}, \"title\": {\"x\": 0.05}, \"xaxis\": {\"automargin\": true, \"gridcolor\": \"white\", \"linecolor\": \"white\", \"ticks\": \"\", \"title\": {\"standoff\": 15}, \"zerolinecolor\": \"white\", \"zerolinewidth\": 2}, \"yaxis\": {\"automargin\": true, \"gridcolor\": \"white\", \"linecolor\": \"white\", \"ticks\": \"\", \"title\": {\"standoff\": 15}, \"zerolinecolor\": \"white\", \"zerolinewidth\": 2}}}},\n",
              "                        {\"responsive\": true}\n",
              "                    ).then(function(){\n",
              "                            \n",
              "var gd = document.getElementById('702ca178-9180-437c-809c-320e7a6d0c79');\n",
              "var x = new MutationObserver(function (mutations, observer) {{\n",
              "        var display = window.getComputedStyle(gd).display;\n",
              "        if (!display || display === 'none') {{\n",
              "            console.log([gd, 'removed!']);\n",
              "            Plotly.purge(gd);\n",
              "            observer.disconnect();\n",
              "        }}\n",
              "}});\n",
              "\n",
              "// Listen for the removal of the full notebook cells\n",
              "var notebookContainer = gd.closest('#notebook-container');\n",
              "if (notebookContainer) {{\n",
              "    x.observe(notebookContainer, {childList: true});\n",
              "}}\n",
              "\n",
              "// Listen for the clearing of the current output cell\n",
              "var outputEl = gd.closest('.output');\n",
              "if (outputEl) {{\n",
              "    x.observe(outputEl, {childList: true});\n",
              "}}\n",
              "\n",
              "                        })\n",
              "                };\n",
              "                \n",
              "            </script>\n",
              "        </div>\n",
              "</body>\n",
              "</html>"
            ]
          },
          "metadata": {
            "tags": []
          }
        }
      ]
    },
    {
      "cell_type": "markdown",
      "metadata": {
        "id": "_plIskKsVIS4",
        "colab_type": "text"
      },
      "source": [
        "3. Prévision des décès"
      ]
    },
    {
      "cell_type": "code",
      "metadata": {
        "id": "uxGQscaOVGRc",
        "colab_type": "code",
        "colab": {}
      },
      "source": [
        "deaths = my_data.groupby('Date').sum()['Deaths'].reset_index()\n",
        "deaths.columns = ['ds','y']"
      ],
      "execution_count": 179,
      "outputs": []
    },
    {
      "cell_type": "code",
      "metadata": {
        "id": "ZBOj5R_GVOfE",
        "colab_type": "code",
        "colab": {
          "base_uri": "https://localhost:8080/",
          "height": 240
        },
        "outputId": "840e9896-02be-4262-9f95-0d5ec2fef599"
      },
      "source": [
        "m_2 = Prophet(interval_width=0.95)\n",
        "m_2.fit(deaths)\n",
        "future_2 = m_2.make_future_dataframe(periods=14)\n",
        "future_2.tail()"
      ],
      "execution_count": 180,
      "outputs": [
        {
          "output_type": "stream",
          "text": [
            "INFO:fbprophet:Disabling yearly seasonality. Run prophet with yearly_seasonality=True to override this.\n",
            "INFO:fbprophet:Disabling daily seasonality. Run prophet with daily_seasonality=True to override this.\n"
          ],
          "name": "stderr"
        },
        {
          "output_type": "execute_result",
          "data": {
            "text/html": [
              "<div>\n",
              "<style scoped>\n",
              "    .dataframe tbody tr th:only-of-type {\n",
              "        vertical-align: middle;\n",
              "    }\n",
              "\n",
              "    .dataframe tbody tr th {\n",
              "        vertical-align: top;\n",
              "    }\n",
              "\n",
              "    .dataframe thead th {\n",
              "        text-align: right;\n",
              "    }\n",
              "</style>\n",
              "<table border=\"1\" class=\"dataframe\">\n",
              "  <thead>\n",
              "    <tr style=\"text-align: right;\">\n",
              "      <th></th>\n",
              "      <th>ds</th>\n",
              "    </tr>\n",
              "  </thead>\n",
              "  <tbody>\n",
              "    <tr>\n",
              "      <th>102</th>\n",
              "      <td>2020-06-30</td>\n",
              "    </tr>\n",
              "    <tr>\n",
              "      <th>103</th>\n",
              "      <td>2020-07-01</td>\n",
              "    </tr>\n",
              "    <tr>\n",
              "      <th>104</th>\n",
              "      <td>2020-07-02</td>\n",
              "    </tr>\n",
              "    <tr>\n",
              "      <th>105</th>\n",
              "      <td>2020-07-03</td>\n",
              "    </tr>\n",
              "    <tr>\n",
              "      <th>106</th>\n",
              "      <td>2020-07-04</td>\n",
              "    </tr>\n",
              "  </tbody>\n",
              "</table>\n",
              "</div>"
            ],
            "text/plain": [
              "            ds\n",
              "102 2020-06-30\n",
              "103 2020-07-01\n",
              "104 2020-07-02\n",
              "105 2020-07-03\n",
              "106 2020-07-04"
            ]
          },
          "metadata": {
            "tags": []
          },
          "execution_count": 180
        }
      ]
    },
    {
      "cell_type": "code",
      "metadata": {
        "id": "IPtGPvIL7b6-",
        "colab_type": "code",
        "colab": {
          "base_uri": "https://localhost:8080/",
          "height": 204
        },
        "outputId": "35c7ed09-f47a-42ff-ec89-a81cedbbb34c"
      },
      "source": [
        "forecast_2 = m_2.predict(future_2)\n",
        "forecast_2[['ds', 'yhat', 'yhat_lower', 'yhat_upper']].tail()"
      ],
      "execution_count": 181,
      "outputs": [
        {
          "output_type": "execute_result",
          "data": {
            "text/html": [
              "<div>\n",
              "<style scoped>\n",
              "    .dataframe tbody tr th:only-of-type {\n",
              "        vertical-align: middle;\n",
              "    }\n",
              "\n",
              "    .dataframe tbody tr th {\n",
              "        vertical-align: top;\n",
              "    }\n",
              "\n",
              "    .dataframe thead th {\n",
              "        text-align: right;\n",
              "    }\n",
              "</style>\n",
              "<table border=\"1\" class=\"dataframe\">\n",
              "  <thead>\n",
              "    <tr style=\"text-align: right;\">\n",
              "      <th></th>\n",
              "      <th>ds</th>\n",
              "      <th>yhat</th>\n",
              "      <th>yhat_lower</th>\n",
              "      <th>yhat_upper</th>\n",
              "    </tr>\n",
              "  </thead>\n",
              "  <tbody>\n",
              "    <tr>\n",
              "      <th>102</th>\n",
              "      <td>2020-06-30</td>\n",
              "      <td>219.597204</td>\n",
              "      <td>206.786014</td>\n",
              "      <td>233.281120</td>\n",
              "    </tr>\n",
              "    <tr>\n",
              "      <th>103</th>\n",
              "      <td>2020-07-01</td>\n",
              "      <td>219.355334</td>\n",
              "      <td>204.599904</td>\n",
              "      <td>235.296575</td>\n",
              "    </tr>\n",
              "    <tr>\n",
              "      <th>104</th>\n",
              "      <td>2020-07-02</td>\n",
              "      <td>219.777061</td>\n",
              "      <td>202.989705</td>\n",
              "      <td>237.111565</td>\n",
              "    </tr>\n",
              "    <tr>\n",
              "      <th>105</th>\n",
              "      <td>2020-07-03</td>\n",
              "      <td>221.271129</td>\n",
              "      <td>203.326473</td>\n",
              "      <td>240.031578</td>\n",
              "    </tr>\n",
              "    <tr>\n",
              "      <th>106</th>\n",
              "      <td>2020-07-04</td>\n",
              "      <td>221.229840</td>\n",
              "      <td>201.052306</td>\n",
              "      <td>242.329359</td>\n",
              "    </tr>\n",
              "  </tbody>\n",
              "</table>\n",
              "</div>"
            ],
            "text/plain": [
              "            ds        yhat  yhat_lower  yhat_upper\n",
              "102 2020-06-30  219.597204  206.786014  233.281120\n",
              "103 2020-07-01  219.355334  204.599904  235.296575\n",
              "104 2020-07-02  219.777061  202.989705  237.111565\n",
              "105 2020-07-03  221.271129  203.326473  240.031578\n",
              "106 2020-07-04  221.229840  201.052306  242.329359"
            ]
          },
          "metadata": {
            "tags": []
          },
          "execution_count": 181
        }
      ]
    },
    {
      "cell_type": "code",
      "metadata": {
        "id": "jzfsDVZuVdH5",
        "colab_type": "code",
        "colab": {
          "base_uri": "https://localhost:8080/",
          "height": 542
        },
        "outputId": "be4edcf6-a836-4252-c0f1-72293aee7a4a"
      },
      "source": [
        "fig = go.Figure()\n",
        "fig.add_trace(go.Scatter(x=forecast_2.ds, y = abs(forecast_2['yhat'].round()), mode= 'lines+markers',name='Predicted total deaths'))\n",
        "\n",
        "fig.add_trace(go.Scatter(x=my_data.index, y = my_data['Deaths'], mode= 'lines+markers',name='Daily cases'))"
      ],
      "execution_count": 182,
      "outputs": [
        {
          "output_type": "display_data",
          "data": {
            "text/html": [
              "<html>\n",
              "<head><meta charset=\"utf-8\" /></head>\n",
              "<body>\n",
              "    <div>\n",
              "            <script src=\"https://cdnjs.cloudflare.com/ajax/libs/mathjax/2.7.5/MathJax.js?config=TeX-AMS-MML_SVG\"></script><script type=\"text/javascript\">if (window.MathJax) {MathJax.Hub.Config({SVG: {font: \"STIX-Web\"}});}</script>\n",
              "                <script type=\"text/javascript\">window.PlotlyConfig = {MathJaxConfig: 'local'};</script>\n",
              "        <script src=\"https://cdn.plot.ly/plotly-latest.min.js\"></script>    \n",
              "            <div id=\"6bb61780-b59d-4ab6-ab69-78f28b7cb025\" class=\"plotly-graph-div\" style=\"height:525px; width:100%;\"></div>\n",
              "            <script type=\"text/javascript\">\n",
              "                \n",
              "                    window.PLOTLYENV=window.PLOTLYENV || {};\n",
              "                    \n",
              "                if (document.getElementById(\"6bb61780-b59d-4ab6-ab69-78f28b7cb025\")) {\n",
              "                    Plotly.newPlot(\n",
              "                        '6bb61780-b59d-4ab6-ab69-78f28b7cb025',\n",
              "                        [{\"mode\": \"lines+markers\", \"name\": \"Predicted total deaths\", \"type\": \"scatter\", \"x\": [\"2020-03-20T00:00:00\", \"2020-03-21T00:00:00\", \"2020-03-22T00:00:00\", \"2020-03-23T00:00:00\", \"2020-03-24T00:00:00\", \"2020-03-25T00:00:00\", \"2020-03-26T00:00:00\", \"2020-03-27T00:00:00\", \"2020-03-28T00:00:00\", \"2020-03-29T00:00:00\", \"2020-03-30T00:00:00\", \"2020-03-31T00:00:00\", \"2020-04-01T00:00:00\", \"2020-04-02T00:00:00\", \"2020-04-03T00:00:00\", \"2020-04-04T00:00:00\", \"2020-04-05T00:00:00\", \"2020-04-06T00:00:00\", \"2020-04-07T00:00:00\", \"2020-04-08T00:00:00\", \"2020-04-09T00:00:00\", \"2020-04-10T00:00:00\", \"2020-04-11T00:00:00\", \"2020-04-12T00:00:00\", \"2020-04-13T00:00:00\", \"2020-04-14T00:00:00\", \"2020-04-15T00:00:00\", \"2020-04-16T00:00:00\", \"2020-04-17T00:00:00\", \"2020-04-18T00:00:00\", \"2020-04-19T00:00:00\", \"2020-04-20T00:00:00\", \"2020-04-21T00:00:00\", \"2020-04-22T00:00:00\", \"2020-04-23T00:00:00\", \"2020-04-24T00:00:00\", \"2020-04-25T00:00:00\", \"2020-04-26T00:00:00\", \"2020-04-27T00:00:00\", \"2020-04-28T00:00:00\", \"2020-04-29T00:00:00\", \"2020-04-30T00:00:00\", \"2020-05-01T00:00:00\", \"2020-05-02T00:00:00\", \"2020-05-03T00:00:00\", \"2020-05-04T00:00:00\", \"2020-05-05T00:00:00\", \"2020-05-06T00:00:00\", \"2020-05-07T00:00:00\", \"2020-05-08T00:00:00\", \"2020-05-09T00:00:00\", \"2020-05-10T00:00:00\", \"2020-05-11T00:00:00\", \"2020-05-12T00:00:00\", \"2020-05-13T00:00:00\", \"2020-05-14T00:00:00\", \"2020-05-15T00:00:00\", \"2020-05-16T00:00:00\", \"2020-05-17T00:00:00\", \"2020-05-18T00:00:00\", \"2020-05-19T00:00:00\", \"2020-05-20T00:00:00\", \"2020-05-21T00:00:00\", \"2020-05-22T00:00:00\", \"2020-05-23T00:00:00\", \"2020-05-24T00:00:00\", \"2020-05-25T00:00:00\", \"2020-05-26T00:00:00\", \"2020-05-27T00:00:00\", \"2020-05-28T00:00:00\", \"2020-05-29T00:00:00\", \"2020-05-30T00:00:00\", \"2020-05-31T00:00:00\", \"2020-06-01T00:00:00\", \"2020-06-02T00:00:00\", \"2020-06-03T00:00:00\", \"2020-06-04T00:00:00\", \"2020-06-05T00:00:00\", \"2020-06-06T00:00:00\", \"2020-06-07T00:00:00\", \"2020-06-08T00:00:00\", \"2020-06-09T00:00:00\", \"2020-06-10T00:00:00\", \"2020-06-11T00:00:00\", \"2020-06-12T00:00:00\", \"2020-06-13T00:00:00\", \"2020-06-14T00:00:00\", \"2020-06-15T00:00:00\", \"2020-06-16T00:00:00\", \"2020-06-17T00:00:00\", \"2020-06-18T00:00:00\", \"2020-06-19T00:00:00\", \"2020-06-20T00:00:00\", \"2020-06-21T00:00:00\", \"2020-06-22T00:00:00\", \"2020-06-23T00:00:00\", \"2020-06-24T00:00:00\", \"2020-06-25T00:00:00\", \"2020-06-26T00:00:00\", \"2020-06-27T00:00:00\", \"2020-06-28T00:00:00\", \"2020-06-29T00:00:00\", \"2020-06-30T00:00:00\", \"2020-07-01T00:00:00\", \"2020-07-02T00:00:00\", \"2020-07-03T00:00:00\", \"2020-07-04T00:00:00\"], \"y\": [4.0, 2.0, 2.0, 5.0, 8.0, 11.0, 14.0, 19.0, 23.0, 27.0, 32.0, 36.0, 40.0, 47.0, 55.0, 62.0, 69.0, 77.0, 84.0, 90.0, 97.0, 105.0, 112.0, 119.0, 123.0, 125.0, 128.0, 131.0, 135.0, 138.0, 141.0, 144.0, 147.0, 150.0, 153.0, 157.0, 158.0, 161.0, 163.0, 165.0, 167.0, 169.0, 172.0, 174.0, 176.0, 179.0, 181.0, 182.0, 183.0, 185.0, 185.0, 186.0, 188.0, 188.0, 188.0, 189.0, 191.0, 192.0, 192.0, 194.0, 194.0, 195.0, 195.0, 197.0, 198.0, 199.0, 200.0, 201.0, 201.0, 202.0, 203.0, 204.0, 205.0, 206.0, 206.0, 206.0, 206.0, 208.0, 208.0, 208.0, 209.0, 210.0, 209.0, 210.0, 211.0, 211.0, 212.0, 213.0, 213.0, 213.0, 213.0, 215.0, 215.0, 215.0, 216.0, 216.0, 216.0, 216.0, 218.0, 218.0, 218.0, 219.0, 220.0, 219.0, 220.0, 221.0, 221.0]}, {\"mode\": \"lines+markers\", \"name\": \"Daily cases\", \"type\": \"scatter\", \"x\": [\"2020-03-20T00:00:00\", \"2020-03-21T00:00:00\", \"2020-03-22T00:00:00\", \"2020-03-23T00:00:00\", \"2020-03-24T00:00:00\", \"2020-03-25T00:00:00\", \"2020-03-26T00:00:00\", \"2020-03-27T00:00:00\", \"2020-03-28T00:00:00\", \"2020-03-29T00:00:00\", \"2020-03-30T00:00:00\", \"2020-03-31T00:00:00\", \"2020-04-01T00:00:00\", \"2020-04-02T00:00:00\", \"2020-04-03T00:00:00\", \"2020-04-04T00:00:00\", \"2020-04-05T00:00:00\", \"2020-04-06T00:00:00\", \"2020-04-07T00:00:00\", \"2020-04-08T00:00:00\", \"2020-04-09T00:00:00\", \"2020-04-10T00:00:00\", \"2020-04-11T00:00:00\", \"2020-04-12T00:00:00\", \"2020-04-13T00:00:00\", \"2020-04-14T00:00:00\", \"2020-04-15T00:00:00\", \"2020-04-16T00:00:00\", \"2020-04-17T00:00:00\", \"2020-04-18T00:00:00\", \"2020-04-19T00:00:00\", \"2020-04-20T00:00:00\", \"2020-04-21T00:00:00\", \"2020-04-22T00:00:00\", \"2020-04-23T00:00:00\", \"2020-04-24T00:00:00\", \"2020-04-25T00:00:00\", \"2020-04-26T00:00:00\", \"2020-04-27T00:00:00\", \"2020-04-28T00:00:00\", \"2020-04-29T00:00:00\", \"2020-04-30T00:00:00\", \"2020-05-01T00:00:00\", \"2020-05-02T00:00:00\", \"2020-05-03T00:00:00\", \"2020-05-04T00:00:00\", \"2020-05-05T00:00:00\", \"2020-05-06T00:00:00\", \"2020-05-07T00:00:00\", \"2020-05-08T00:00:00\", \"2020-05-09T00:00:00\", \"2020-05-10T00:00:00\", \"2020-05-11T00:00:00\", \"2020-05-12T00:00:00\", \"2020-05-13T00:00:00\", \"2020-05-14T00:00:00\", \"2020-05-15T00:00:00\", \"2020-05-16T00:00:00\", \"2020-05-17T00:00:00\", \"2020-05-18T00:00:00\", \"2020-05-19T00:00:00\", \"2020-05-20T00:00:00\", \"2020-05-21T00:00:00\", \"2020-05-22T00:00:00\", \"2020-05-23T00:00:00\", \"2020-05-24T00:00:00\", \"2020-05-25T00:00:00\", \"2020-05-26T00:00:00\", \"2020-05-27T00:00:00\", \"2020-05-28T00:00:00\", \"2020-05-29T00:00:00\", \"2020-05-30T00:00:00\", \"2020-05-31T00:00:00\", \"2020-06-01T00:00:00\", \"2020-06-02T00:00:00\", \"2020-06-03T00:00:00\", \"2020-06-04T00:00:00\", \"2020-06-05T00:00:00\", \"2020-06-06T00:00:00\", \"2020-06-07T00:00:00\", \"2020-06-08T00:00:00\", \"2020-06-09T00:00:00\", \"2020-06-10T00:00:00\", \"2020-06-11T00:00:00\", \"2020-06-12T00:00:00\", \"2020-06-13T00:00:00\", \"2020-06-14T00:00:00\", \"2020-06-15T00:00:00\", \"2020-06-16T00:00:00\", \"2020-06-17T00:00:00\", \"2020-06-18T00:00:00\", \"2020-06-19T00:00:00\", \"2020-06-20T00:00:00\"], \"y\": [0, 0, 4, 4, 5, 6, 10, 23, 25, 26, 33, 36, 39, 44, 48, 59, 70, 80, 90, 93, 97, 107, 111, 118, 126, 126, 127, 130, 135, 137, 141, 143, 145, 149, 155, 158, 159, 161, 162, 165, 168, 170, 171, 173, 174, 179, 181, 183, 183, 186, 186, 188, 188, 188, 188, 190, 190, 192, 192, 192, 193, 194, 196, 197, 198, 198, 200, 202, 202, 202, 202, 204, 205, 205, 206, 206, 208, 208, 208, 208, 208, 210, 211, 211, 212, 212, 212, 212, 212, 213, 213, 213, 213]}],\n",
              "                        {\"template\": {\"data\": {\"bar\": [{\"error_x\": {\"color\": \"#2a3f5f\"}, \"error_y\": {\"color\": \"#2a3f5f\"}, \"marker\": {\"line\": {\"color\": \"#E5ECF6\", \"width\": 0.5}}, \"type\": \"bar\"}], \"barpolar\": [{\"marker\": {\"line\": {\"color\": \"#E5ECF6\", \"width\": 0.5}}, \"type\": \"barpolar\"}], \"carpet\": [{\"aaxis\": {\"endlinecolor\": \"#2a3f5f\", \"gridcolor\": \"white\", \"linecolor\": \"white\", \"minorgridcolor\": \"white\", \"startlinecolor\": \"#2a3f5f\"}, \"baxis\": {\"endlinecolor\": \"#2a3f5f\", \"gridcolor\": \"white\", \"linecolor\": \"white\", \"minorgridcolor\": \"white\", \"startlinecolor\": \"#2a3f5f\"}, \"type\": \"carpet\"}], \"choropleth\": [{\"colorbar\": {\"outlinewidth\": 0, \"ticks\": \"\"}, \"type\": \"choropleth\"}], \"contour\": [{\"colorbar\": {\"outlinewidth\": 0, \"ticks\": \"\"}, \"colorscale\": [[0.0, \"#0d0887\"], [0.1111111111111111, \"#46039f\"], [0.2222222222222222, \"#7201a8\"], [0.3333333333333333, \"#9c179e\"], [0.4444444444444444, \"#bd3786\"], [0.5555555555555556, \"#d8576b\"], [0.6666666666666666, \"#ed7953\"], [0.7777777777777778, \"#fb9f3a\"], [0.8888888888888888, \"#fdca26\"], [1.0, \"#f0f921\"]], \"type\": \"contour\"}], \"contourcarpet\": [{\"colorbar\": {\"outlinewidth\": 0, \"ticks\": \"\"}, \"type\": \"contourcarpet\"}], \"heatmap\": [{\"colorbar\": {\"outlinewidth\": 0, \"ticks\": \"\"}, \"colorscale\": [[0.0, \"#0d0887\"], [0.1111111111111111, \"#46039f\"], [0.2222222222222222, \"#7201a8\"], [0.3333333333333333, \"#9c179e\"], [0.4444444444444444, \"#bd3786\"], [0.5555555555555556, \"#d8576b\"], [0.6666666666666666, \"#ed7953\"], [0.7777777777777778, \"#fb9f3a\"], [0.8888888888888888, \"#fdca26\"], [1.0, \"#f0f921\"]], \"type\": \"heatmap\"}], \"heatmapgl\": [{\"colorbar\": {\"outlinewidth\": 0, \"ticks\": \"\"}, \"colorscale\": [[0.0, \"#0d0887\"], [0.1111111111111111, \"#46039f\"], [0.2222222222222222, \"#7201a8\"], [0.3333333333333333, \"#9c179e\"], [0.4444444444444444, \"#bd3786\"], [0.5555555555555556, \"#d8576b\"], [0.6666666666666666, \"#ed7953\"], [0.7777777777777778, \"#fb9f3a\"], [0.8888888888888888, \"#fdca26\"], [1.0, \"#f0f921\"]], \"type\": \"heatmapgl\"}], \"histogram\": [{\"marker\": {\"colorbar\": {\"outlinewidth\": 0, \"ticks\": \"\"}}, \"type\": \"histogram\"}], \"histogram2d\": [{\"colorbar\": {\"outlinewidth\": 0, \"ticks\": \"\"}, \"colorscale\": [[0.0, \"#0d0887\"], [0.1111111111111111, \"#46039f\"], [0.2222222222222222, \"#7201a8\"], [0.3333333333333333, \"#9c179e\"], [0.4444444444444444, \"#bd3786\"], [0.5555555555555556, \"#d8576b\"], [0.6666666666666666, \"#ed7953\"], [0.7777777777777778, \"#fb9f3a\"], [0.8888888888888888, \"#fdca26\"], [1.0, \"#f0f921\"]], \"type\": \"histogram2d\"}], \"histogram2dcontour\": [{\"colorbar\": {\"outlinewidth\": 0, \"ticks\": \"\"}, \"colorscale\": [[0.0, \"#0d0887\"], [0.1111111111111111, \"#46039f\"], [0.2222222222222222, \"#7201a8\"], [0.3333333333333333, \"#9c179e\"], [0.4444444444444444, \"#bd3786\"], [0.5555555555555556, \"#d8576b\"], [0.6666666666666666, \"#ed7953\"], [0.7777777777777778, \"#fb9f3a\"], [0.8888888888888888, \"#fdca26\"], [1.0, \"#f0f921\"]], \"type\": \"histogram2dcontour\"}], \"mesh3d\": [{\"colorbar\": {\"outlinewidth\": 0, \"ticks\": \"\"}, \"type\": \"mesh3d\"}], \"parcoords\": [{\"line\": {\"colorbar\": {\"outlinewidth\": 0, \"ticks\": \"\"}}, \"type\": \"parcoords\"}], \"pie\": [{\"automargin\": true, \"type\": \"pie\"}], \"scatter\": [{\"marker\": {\"colorbar\": {\"outlinewidth\": 0, \"ticks\": \"\"}}, \"type\": \"scatter\"}], \"scatter3d\": [{\"line\": {\"colorbar\": {\"outlinewidth\": 0, \"ticks\": \"\"}}, \"marker\": {\"colorbar\": {\"outlinewidth\": 0, \"ticks\": \"\"}}, \"type\": \"scatter3d\"}], \"scattercarpet\": [{\"marker\": {\"colorbar\": {\"outlinewidth\": 0, \"ticks\": \"\"}}, \"type\": \"scattercarpet\"}], \"scattergeo\": [{\"marker\": {\"colorbar\": {\"outlinewidth\": 0, \"ticks\": \"\"}}, \"type\": \"scattergeo\"}], \"scattergl\": [{\"marker\": {\"colorbar\": {\"outlinewidth\": 0, \"ticks\": \"\"}}, \"type\": \"scattergl\"}], \"scattermapbox\": [{\"marker\": {\"colorbar\": {\"outlinewidth\": 0, \"ticks\": \"\"}}, \"type\": \"scattermapbox\"}], \"scatterpolar\": [{\"marker\": {\"colorbar\": {\"outlinewidth\": 0, \"ticks\": \"\"}}, \"type\": \"scatterpolar\"}], \"scatterpolargl\": [{\"marker\": {\"colorbar\": {\"outlinewidth\": 0, \"ticks\": \"\"}}, \"type\": \"scatterpolargl\"}], \"scatterternary\": [{\"marker\": {\"colorbar\": {\"outlinewidth\": 0, \"ticks\": \"\"}}, \"type\": \"scatterternary\"}], \"surface\": [{\"colorbar\": {\"outlinewidth\": 0, \"ticks\": \"\"}, \"colorscale\": [[0.0, \"#0d0887\"], [0.1111111111111111, \"#46039f\"], [0.2222222222222222, \"#7201a8\"], [0.3333333333333333, \"#9c179e\"], [0.4444444444444444, \"#bd3786\"], [0.5555555555555556, \"#d8576b\"], [0.6666666666666666, \"#ed7953\"], [0.7777777777777778, \"#fb9f3a\"], [0.8888888888888888, \"#fdca26\"], [1.0, \"#f0f921\"]], \"type\": \"surface\"}], \"table\": [{\"cells\": {\"fill\": {\"color\": \"#EBF0F8\"}, \"line\": {\"color\": \"white\"}}, \"header\": {\"fill\": {\"color\": \"#C8D4E3\"}, \"line\": {\"color\": \"white\"}}, \"type\": \"table\"}]}, \"layout\": {\"annotationdefaults\": {\"arrowcolor\": \"#2a3f5f\", \"arrowhead\": 0, \"arrowwidth\": 1}, \"coloraxis\": {\"colorbar\": {\"outlinewidth\": 0, \"ticks\": \"\"}}, \"colorscale\": {\"diverging\": [[0, \"#8e0152\"], [0.1, \"#c51b7d\"], [0.2, \"#de77ae\"], [0.3, \"#f1b6da\"], [0.4, \"#fde0ef\"], [0.5, \"#f7f7f7\"], [0.6, \"#e6f5d0\"], [0.7, \"#b8e186\"], [0.8, \"#7fbc41\"], [0.9, \"#4d9221\"], [1, \"#276419\"]], \"sequential\": [[0.0, \"#0d0887\"], [0.1111111111111111, \"#46039f\"], [0.2222222222222222, \"#7201a8\"], [0.3333333333333333, \"#9c179e\"], [0.4444444444444444, \"#bd3786\"], [0.5555555555555556, \"#d8576b\"], [0.6666666666666666, \"#ed7953\"], [0.7777777777777778, \"#fb9f3a\"], [0.8888888888888888, \"#fdca26\"], [1.0, \"#f0f921\"]], \"sequentialminus\": [[0.0, \"#0d0887\"], [0.1111111111111111, \"#46039f\"], [0.2222222222222222, \"#7201a8\"], [0.3333333333333333, \"#9c179e\"], [0.4444444444444444, \"#bd3786\"], [0.5555555555555556, \"#d8576b\"], [0.6666666666666666, \"#ed7953\"], [0.7777777777777778, \"#fb9f3a\"], [0.8888888888888888, \"#fdca26\"], [1.0, \"#f0f921\"]]}, \"colorway\": [\"#636efa\", \"#EF553B\", \"#00cc96\", \"#ab63fa\", \"#FFA15A\", \"#19d3f3\", \"#FF6692\", \"#B6E880\", \"#FF97FF\", \"#FECB52\"], \"font\": {\"color\": \"#2a3f5f\"}, \"geo\": {\"bgcolor\": \"white\", \"lakecolor\": \"white\", \"landcolor\": \"#E5ECF6\", \"showlakes\": true, \"showland\": true, \"subunitcolor\": \"white\"}, \"hoverlabel\": {\"align\": \"left\"}, \"hovermode\": \"closest\", \"mapbox\": {\"style\": \"light\"}, \"paper_bgcolor\": \"white\", \"plot_bgcolor\": \"#E5ECF6\", \"polar\": {\"angularaxis\": {\"gridcolor\": \"white\", \"linecolor\": \"white\", \"ticks\": \"\"}, \"bgcolor\": \"#E5ECF6\", \"radialaxis\": {\"gridcolor\": \"white\", \"linecolor\": \"white\", \"ticks\": \"\"}}, \"scene\": {\"xaxis\": {\"backgroundcolor\": \"#E5ECF6\", \"gridcolor\": \"white\", \"gridwidth\": 2, \"linecolor\": \"white\", \"showbackground\": true, \"ticks\": \"\", \"zerolinecolor\": \"white\"}, \"yaxis\": {\"backgroundcolor\": \"#E5ECF6\", \"gridcolor\": \"white\", \"gridwidth\": 2, \"linecolor\": \"white\", \"showbackground\": true, \"ticks\": \"\", \"zerolinecolor\": \"white\"}, \"zaxis\": {\"backgroundcolor\": \"#E5ECF6\", \"gridcolor\": \"white\", \"gridwidth\": 2, \"linecolor\": \"white\", \"showbackground\": true, \"ticks\": \"\", \"zerolinecolor\": \"white\"}}, \"shapedefaults\": {\"line\": {\"color\": \"#2a3f5f\"}}, \"ternary\": {\"aaxis\": {\"gridcolor\": \"white\", \"linecolor\": \"white\", \"ticks\": \"\"}, \"baxis\": {\"gridcolor\": \"white\", \"linecolor\": \"white\", \"ticks\": \"\"}, \"bgcolor\": \"#E5ECF6\", \"caxis\": {\"gridcolor\": \"white\", \"linecolor\": \"white\", \"ticks\": \"\"}}, \"title\": {\"x\": 0.05}, \"xaxis\": {\"automargin\": true, \"gridcolor\": \"white\", \"linecolor\": \"white\", \"ticks\": \"\", \"title\": {\"standoff\": 15}, \"zerolinecolor\": \"white\", \"zerolinewidth\": 2}, \"yaxis\": {\"automargin\": true, \"gridcolor\": \"white\", \"linecolor\": \"white\", \"ticks\": \"\", \"title\": {\"standoff\": 15}, \"zerolinecolor\": \"white\", \"zerolinewidth\": 2}}}},\n",
              "                        {\"responsive\": true}\n",
              "                    ).then(function(){\n",
              "                            \n",
              "var gd = document.getElementById('6bb61780-b59d-4ab6-ab69-78f28b7cb025');\n",
              "var x = new MutationObserver(function (mutations, observer) {{\n",
              "        var display = window.getComputedStyle(gd).display;\n",
              "        if (!display || display === 'none') {{\n",
              "            console.log([gd, 'removed!']);\n",
              "            Plotly.purge(gd);\n",
              "            observer.disconnect();\n",
              "        }}\n",
              "}});\n",
              "\n",
              "// Listen for the removal of the full notebook cells\n",
              "var notebookContainer = gd.closest('#notebook-container');\n",
              "if (notebookContainer) {{\n",
              "    x.observe(notebookContainer, {childList: true});\n",
              "}}\n",
              "\n",
              "// Listen for the clearing of the current output cell\n",
              "var outputEl = gd.closest('.output');\n",
              "if (outputEl) {{\n",
              "    x.observe(outputEl, {childList: true});\n",
              "}}\n",
              "\n",
              "                        })\n",
              "                };\n",
              "                \n",
              "            </script>\n",
              "        </div>\n",
              "</body>\n",
              "</html>"
            ]
          },
          "metadata": {
            "tags": []
          }
        }
      ]
    },
    {
      "cell_type": "code",
      "metadata": {
        "id": "Tlt3kTmSnxVe",
        "colab_type": "code",
        "colab": {}
      },
      "source": [
        ""
      ],
      "execution_count": 182,
      "outputs": []
    }
  ]
}